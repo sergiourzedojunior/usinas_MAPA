{
 "cells": [
  {
   "cell_type": "markdown",
   "metadata": {
    "nteract": {
     "transient": {
      "deleting": false
     }
    }
   },
   "source": [
    "# Coleta, Tratamento e Unificação das bases de dados relativas as Usinas Sucroalcooleiras"
   ]
  },
  {
   "cell_type": "markdown",
   "metadata": {
    "nteract": {
     "transient": {
      "deleting": false
     }
    }
   },
   "source": [
    "## Histórico de Atualizações\n",
    "\n",
    "<table>\n",
    "    <thead>\n",
    "        <tr>\n",
    "            <th>Versão</th>\n",
    "            <th>Data</th>\n",
    "            <th>Descrição</th>\n",
    "            <th>Autor</th>\n",
    "            <th>Email</th>\n",
    "        </tr>\n",
    "    </thead>\n",
    "    <tbody>\n",
    "        <tr>\n",
    "            <th>1.0</th>\n",
    "            <td>21/03/2023</td>\n",
    "            <td>\n",
    "                Tratamento das bases de dados.\n",
    "                <ol>\n",
    "                    <li>Cadastro de Instituicoes - MAPA</li>\n",
    "                    <li>Autorizacoes Usinas de Biocombustives - ANP'</li>\n",
    "                    <li>Autorizacoes Revogadas Usinas de Biocombustives - ANP'</li>\n",
    "                    <li>Tancagens Etanol - ANP'</li>\n",
    "                    <li>Marketing Share [Tancagem Diesel] - </li>\n",
    "                    <li>Receita Operacional e Número de Empregados da Usinas - EMIS</li>\n",
    "                </ol>\n",
    "            </td>\n",
    "            <td>Marcel Quintela, Sergio Urzedo Jr</td>\n",
    "            <td>marcel.quintela@avanade.com, sergiourzedojr@gmail.com</td>\n",
    "        </tr>\n",
    "    </tbody>\n",
    "</table>"
   ]
  },
  {
   "cell_type": "markdown",
   "metadata": {
    "nteract": {
     "transient": {
      "deleting": false
     }
    }
   },
   "source": [
    "# Setup Inicial"
   ]
  },
  {
   "cell_type": "markdown",
   "metadata": {
    "nteract": {
     "transient": {
      "deleting": false
     }
    }
   },
   "source": [
    "Carregando linhas com configurações iniciais já escritas em notebook base\n",
    "\n",
    "No bloco de comando \"%run\" não pode ter nenhum outra linha de comando ou comentário"
   ]
  },
  {
   "cell_type": "code",
   "execution_count": 1,
   "metadata": {
    "jupyter": {
     "outputs_hidden": false,
     "source_hidden": false
    },
    "nteract": {
     "transient": {
      "deleting": false
     }
    }
   },
   "outputs": [],
   "source": [
    "%run nb00_Setup_Usinas{'blob_relative_path_raw': 'nuvem/Usinas/'}      "
   ]
  },
  {
   "cell_type": "markdown",
   "metadata": {
    "nteract": {
     "transient": {
      "deleting": false
     }
    }
   },
   "source": [
    "# Leitura dos Dados "
   ]
  },
  {
   "cell_type": "code",
   "execution_count": 2,
   "metadata": {
    "jupyter": {
     "outputs_hidden": false,
     "source_hidden": false
    },
    "nteract": {
     "transient": {
      "deleting": false
     }
    }
   },
   "outputs": [],
   "source": [
    "files = [\n",
    "         #'ANP/Usinas_Autorizadas/autorizacoes_biocombustiveis.xlsx', # arquivo com proteção tipo OLE2 usar xlwings\n",
    "         'MAPA/Cadastro_Instituicoes/relatorio_completo_14032023010158.xls',\n",
    "         'ANP/Usinas_Autorizadas/autorizacoes_biocombustiveis.csv',\n",
    "         'ANP/Usinas_Autorizadas/Autorizacoes_biocombustives_revogadas.xlsx',\n",
    "         'ANP/Tancagem/marco2023.csv',\n",
    "         '/MM_Proj_OD.xlsx',\n",
    "         '/usinas_enriquecidas.xlsx'\n",
    "        ]"
   ]
  },
  {
   "cell_type": "code",
   "execution_count": 3,
   "metadata": {
    "jupyter": {
     "outputs_hidden": false,
     "source_hidden": false
    },
    "nteract": {
     "transient": {
      "deleting": false
     }
    }
   },
   "outputs": [],
   "source": [
    "# NÃO FUNCIONOU BUSCAR FORMAS EFICAZES\n",
    "\n",
    "# workbook = xw.Book(dir_m+files[0])\n",
    "# sheet1 = workbook.sheets['Produtores de Etanol'].used_range.value\n",
    "# df = pd.DataFrame(sheet1)\n"
   ]
  },
  {
   "cell_type": "markdown",
   "metadata": {
    "nteract": {
     "transient": {
      "deleting": false
     }
    }
   },
   "source": [
    "## MAPA - Cadastro de Instituições"
   ]
  },
  {
   "cell_type": "markdown",
   "metadata": {
    "nteract": {
     "transient": {
      "deleting": false
     }
    }
   },
   "source": [
    "O cadastro de usinas do MAPA foi definido em reunião com a  como a principal base de usinas, são elas que representarão as atuais usinas beneficiadoras de cana-de-açucar no Brasil\n",
    "\n",
    "**Fonte**: Ministério da Agricultura\n",
    "\n",
    "**URL**: https://sistemasweb4.agricultura.gov.br/sapcana/downloadBaseCompletaInstituicao.action\n",
    "\n",
    "**Obs**: Esta base está sendo baixada manualmente, devido a proteção em nível 'captcha' impedindo o download automático."
   ]
  },
  {
   "cell_type": "code",
   "execution_count": 4,
   "metadata": {
    "jupyter": {
     "outputs_hidden": false,
     "source_hidden": false
    },
    "nteract": {
     "transient": {
      "deleting": false
     }
    }
   },
   "outputs": [],
   "source": [
    "inst = pd.read_excel(abfss_path_raw + files[0])\n",
    "\n",
    "inst['CNPJ'] = [re.sub('[^a-zA-Z0-9 \\\\\\]','',s) for s in inst['CNPJ']]          # ajuste de CNPJ remover caracts especiais\n",
    "inst = inst[['CNPJ','Razão social','Cidade','UF','CEP','Produção Safra']]       # selecionando colunas a serem utilizadas\n",
    "inst.columns = ['CNPJ','R_SOCIAL','MUNICIPIO','UF','CEP','PRODUCAO_SAFRA']\n"
   ]
  },
  {
   "cell_type": "markdown",
   "metadata": {
    "nteract": {
     "transient": {
      "deleting": false
     }
    }
   },
   "source": [
    "## ANP"
   ]
  },
  {
   "cell_type": "markdown",
   "metadata": {
    "nteract": {
     "transient": {
      "deleting": false
     }
    }
   },
   "source": [
    "### Usinas Autorizadas\n",
    "\n",
    "Base de dados que auxilia no enriquecimento de informação da base de usinas.\n",
    "\n",
    "**Fonte**: Agência Nacional \n",
    "\n",
    "**URL**: https://www.gov.br/anp/pt-br/assuntos/producao-e-fornecimento-de-biocombustiveis/autorizacao-para-producao-de-biocombustiveis/arquivos-autorizacao-para-producao-de-biocombustiveis/dados-autorizaoes-e-processos-produtores-biocombustiveis.zip\n",
    "\n",
    "**Obs**: Arquivo compactado contendo arquivos de usinas:Autorizadas, Revogadas e em processo de Autorização."
   ]
  },
  {
   "cell_type": "code",
   "execution_count": 5,
   "metadata": {
    "jupyter": {
     "outputs_hidden": false,
     "source_hidden": false
    },
    "nteract": {
     "transient": {
      "deleting": false
     }
    }
   },
   "outputs": [],
   "source": [
    "col_names = pd.read_csv(abfss_path_raw + files[1], nrows=0).columns             # coletando informações de cabeçalho\n",
    "col_types = {col: str for col in col_names if col not in {}}                    # todas as colunas como str\n",
    "\n",
    "usinas_a = pd.read_csv(abfss_path_raw + files[1] , sep=\";\", dtype=col_types,\n",
    "                        storage_options = {'linked_service' : linked_service_raw})\n",
    "\n",
    "usinas_a.dropna(axis='columns',how='all', inplace=True)                         # limpando colunas vazias\n",
    "usinas_a.columns = ['R_SOCIAL', 'CNPJ', 'MUNICIPIO','UF',                       # renomeando colunas\n",
    "                  'CAP_HIDRATADO', 'CAP_ANIDRO', \n",
    "                  'AUTORIZA_AO', 'LINK_AO',\n",
    "                  'AUTORIZA_AEA', 'LINK_AEA']                               \n",
    "\n",
    "\n",
    "usinas_a['CNPJ'] = [re.sub('[^a-zA-Z0-9 \\\\\\]','',s) for s in usinas_a['CNPJ']]    # ajuste de CNPJ remover caracts especiais\n",
    "usinas_a = usinas_a[['CNPJ','R_SOCIAL', 'MUNICIPIO', 'UF',                       # selecionando colunas a serem utilizadas\n",
    "                     'CAP_HIDRATADO','CAP_ANIDRO']]                   \n",
    "\n",
    "del(col_names, col_types)"
   ]
  },
  {
   "cell_type": "markdown",
   "metadata": {
    "nteract": {
     "transient": {
      "deleting": false
     }
    }
   },
   "source": [
    "### Usinas Revogadas"
   ]
  },
  {
   "cell_type": "markdown",
   "metadata": {
    "nteract": {
     "transient": {
      "deleting": false
     }
    }
   },
   "source": [
    "As usinas revogadas tambem são utilizadas como enriquecimento de informações das usinas.\n",
    "\n"
   ]
  },
  {
   "cell_type": "code",
   "execution_count": 6,
   "metadata": {
    "jupyter": {
     "outputs_hidden": false,
     "source_hidden": false
    },
    "nteract": {
     "transient": {
      "deleting": false
     }
    }
   },
   "outputs": [],
   "source": [
    "usinas_r  = pd.read_excel(abfss_path_raw + files[2], sheet_name='Produtores de Etanol', \n",
    "                            skiprows=5, usecols='A:B,D:F,H:I',\n",
    "                            storage_options = {'linked_service' : linked_service_raw})\n",
    "usinas_r.columns = ['R_SOCIAL', 'CNPJ', 'MUNICIPIO', 'UF', 'SITUACAO', 'CAP_ANIDRO', 'CAP_HIDRATADO']\n",
    "usinas_r = usinas_r[['CNPJ','R_SOCIAL', 'MUNICIPIO', 'UF','CAP_HIDRATADO','CAP_ANIDRO','SITUACAO']]\n",
    "\n",
    "usinas_r['CNPJ'] = usinas_r['CNPJ'].astype(str).apply(lambda x: x.zfill(14))  #Transforma CPNJ em string"
   ]
  },
  {
   "cell_type": "markdown",
   "metadata": {
    "nteract": {
     "transient": {
      "deleting": false
     }
    }
   },
   "source": [
    "### Unificar Usinas ANP"
   ]
  },
  {
   "cell_type": "code",
   "execution_count": 7,
   "metadata": {
    "jupyter": {
     "outputs_hidden": false,
     "source_hidden": false
    },
    "nteract": {
     "transient": {
      "deleting": false
     }
    }
   },
   "outputs": [],
   "source": [
    "usinas_anp = usinas_a.merge(usinas_r, how='outer', on='CNPJ')"
   ]
  },
  {
   "cell_type": "code",
   "execution_count": 8,
   "metadata": {
    "jupyter": {
     "outputs_hidden": false,
     "source_hidden": false
    },
    "nteract": {
     "transient": {
      "deleting": false
     }
    }
   },
   "outputs": [],
   "source": [
    "# preenchendo informações vindas da base MM_proj\n",
    "usinas_anp['R_SOCIAL_x'] = usinas_anp['R_SOCIAL_x'].fillna(usinas_anp['R_SOCIAL_y'])\n",
    "usinas_anp['MUNICIPIO_x'] = usinas_anp['MUNICIPIO_x'].fillna(usinas_anp['MUNICIPIO_y'])\n",
    "usinas_anp['UF_x'] = usinas_anp['UF_x'].fillna(usinas_anp['UF_y'])\n",
    "usinas_anp['CAP_HIDRATADO_x'] = usinas_anp['CAP_HIDRATADO_x'].fillna(usinas_anp['CAP_HIDRATADO_y'])\n",
    "usinas_anp['CAP_ANIDRO_x'] = usinas_anp['CAP_ANIDRO_x'].fillna(usinas_anp['CAP_ANIDRO_y'])\n",
    "\n",
    "usinas_anp['SITUACAO'] = usinas_anp['SITUACAO'].fillna('ATIVA')\n",
    "usinas_anp.rename(columns={'SITUACAO': 'SITUACAO_ANP'}, inplace=True)\n",
    "\n",
    "usinas_anp.drop(usinas_anp.filter(regex='_y').columns, axis=1, inplace=True)                            # Eliminando colunas com _y\n",
    "usinas_anp.rename(columns=lambda s: s[:-2] if '_x' in s else s, inplace=True)                           # Renomeando colunas com _x "
   ]
  },
  {
   "cell_type": "markdown",
   "metadata": {
    "nteract": {
     "transient": {
      "deleting": false
     }
    }
   },
   "source": [
    "### Tancagem"
   ]
  },
  {
   "cell_type": "code",
   "execution_count": 9,
   "metadata": {
    "jupyter": {
     "outputs_hidden": false,
     "source_hidden": false
    },
    "nteract": {
     "transient": {
      "deleting": false
     }
    }
   },
   "outputs": [],
   "source": [
    "col_names = pd.read_csv(abfss_path_raw + files[3], nrows=0).columns         # coletando informações de cabeçalho\n",
    "col_types = {col: str for col in col_names if col not in {}}                # todas as colunas como str\n",
    "\n",
    "tanque = pd.read_csv(abfss_path_raw + files[3], dtype=col_types,\n",
    "                        storage_options = {'linked_service' : linked_service_raw})\n",
    "\n",
    "# ajuste das colunas para seus tipos originais\n",
    "tanque['Data'] = pd.to_datetime(tanque['Data']) \n",
    "tanque['TancagemM3'] = tanque['TancagemM3'].astype(int)\n",
    "tanque.rename(columns={'Cnpj':'CNPJ'}, inplace=True)\n",
    "\n",
    "del(col_names, col_types)                                                   # eliminando dados de outra leitura"
   ]
  },
  {
   "cell_type": "markdown",
   "metadata": {
    "nteract": {
     "transient": {
      "deleting": false
     }
    }
   },
   "source": [
    "#### Filtrando infos do Setor"
   ]
  },
  {
   "cell_type": "code",
   "execution_count": 10,
   "metadata": {
    "jupyter": {
     "outputs_hidden": false,
     "source_hidden": false
    },
    "nteract": {
     "transient": {
      "deleting": false
     }
    }
   },
   "outputs": [],
   "source": [
    "# Dados de tanque a serem considerados tancagem de volume de etanol produzido\n",
    "tanque_g = tanque.groupby(['CNPJ','NomeEmpresarial','Municipio','Segmento','GrupoDeProdutos'])['TancagemM3'].sum().to_frame()\n",
    "tanque_g.reset_index(inplace=True)\n",
    " \n",
    "filtro_1 = (tanque_g['Segmento'] == 'INSTALAÇÃO PRODUTORA DE ETANOL')\n",
    "filtro_2 = (tanque_g['GrupoDeProdutos']=='DERIVADOS E BIOCOMBUSTÍVEIS')\n",
    "\n",
    "tanque_g = tanque_g[filtro_1 & filtro_2]\n",
    "\n",
    "del(filtro_1, filtro_2)"
   ]
  },
  {
   "cell_type": "markdown",
   "metadata": {
    "nteract": {
     "transient": {
      "deleting": false
     }
    }
   },
   "source": [
    "## "
   ]
  },
  {
   "cell_type": "markdown",
   "metadata": {
    "nteract": {
     "transient": {
      "deleting": false
     }
    }
   },
   "source": [
    "### Market Share Projeção OD"
   ]
  },
  {
   "cell_type": "code",
   "execution_count": 11,
   "metadata": {
    "jupyter": {
     "outputs_hidden": false,
     "source_hidden": false
    },
    "nteract": {
     "transient": {
      "deleting": false
     }
    }
   },
   "outputs": [],
   "source": [
    "mm_proj = pd.read_excel(abfss_path_raw + files[4], usecols='B:I,R,Z',\n",
    "                        storage_options = {'linked_service' : linked_service_raw})"
   ]
  },
  {
   "cell_type": "code",
   "execution_count": 12,
   "metadata": {
    "jupyter": {
     "outputs_hidden": false,
     "source_hidden": false
    },
    "nteract": {
     "transient": {
      "deleting": false
     }
    }
   },
   "outputs": [],
   "source": [
    "mm_proj['CNPJ'] = mm_proj['CNPJ'].astype(str).apply(lambda x: x.zfill(14))  #Transforma CPNJ em string\n",
    "mm_proj = mm_proj[~mm_proj['CNPJ'].str.startswith('000')]                   # removendo possiveis CPFs"
   ]
  },
  {
   "cell_type": "code",
   "execution_count": 13,
   "metadata": {
    "jupyter": {
     "outputs_hidden": false,
     "source_hidden": false
    },
    "nteract": {
     "transient": {
      "deleting": false
     }
    }
   },
   "outputs": [],
   "source": [
    "mm_proj.drop_duplicates('CNPJ', keep='first', inplace=True)"
   ]
  },
  {
   "cell_type": "markdown",
   "metadata": {
    "nteract": {
     "transient": {
      "deleting": false
     }
    }
   },
   "source": [
    "## EMIS"
   ]
  },
  {
   "cell_type": "markdown",
   "metadata": {
    "nteract": {
     "transient": {
      "deleting": false
     }
    }
   },
   "source": [
    "### Receita Operacional e Empregados"
   ]
  },
  {
   "cell_type": "code",
   "execution_count": 14,
   "metadata": {
    "jupyter": {
     "outputs_hidden": false,
     "source_hidden": false
    },
    "nteract": {
     "transient": {
      "deleting": false
     }
    }
   },
   "outputs": [],
   "source": [
    "usinas_emis = pd.read_excel(abfss_path_raw + files[5], sheet_name='emis', usecols='A,F,L,V', dtype=object,\n",
    "                        storage_options = {'linked_service' : linked_service_raw})\n",
    "\n",
    "usinas_emis.columns = ['EMPRESAS','RECEITA_OP','N_EMPREG', 'CNPJ']\n",
    "usinas_emis = usinas_emis[[ 'CNPJ','EMPRESAS','RECEITA_OP','N_EMPREG']]"
   ]
  },
  {
   "cell_type": "code",
   "execution_count": 15,
   "metadata": {
    "jupyter": {
     "outputs_hidden": false,
     "source_hidden": false
    },
    "nteract": {
     "transient": {
      "deleting": false
     }
    }
   },
   "outputs": [],
   "source": [
    "usinas_emis"
   ]
  },
  {
   "cell_type": "code",
   "execution_count": 16,
   "metadata": {
    "jupyter": {
     "outputs_hidden": false,
     "source_hidden": false
    },
    "nteract": {
     "transient": {
      "deleting": false
     }
    }
   },
   "outputs": [],
   "source": [
    "def so_num(x):\n",
    "    return(str(re.sub('[^0-9,]', \"\", x)))"
   ]
  },
  {
   "cell_type": "code",
   "execution_count": 17,
   "metadata": {
    "jupyter": {
     "outputs_hidden": false,
     "source_hidden": false
    },
    "nteract": {
     "transient": {
      "deleting": false
     }
    }
   },
   "outputs": [],
   "source": [
    "# uniformizando as classes \n",
    "# x = pd.unique(usinas_emis['N_EMPREG1'].values)\n",
    "# a = [s for s in x.astype('str') if '-' in s]\n",
    "# b = [s for s in x.astype('str') if 'de' in s]\n",
    "# c = a + b\n",
    "# c"
   ]
  },
  {
   "cell_type": "markdown",
   "metadata": {
    "nteract": {
     "transient": {
      "deleting": false
     }
    }
   },
   "source": [
    "#### Organizando Receita Operacional"
   ]
  },
  {
   "cell_type": "code",
   "execution_count": 18,
   "metadata": {
    "jupyter": {
     "outputs_hidden": false,
     "source_hidden": false
    },
    "nteract": {
     "transient": {
      "deleting": false
     }
    }
   },
   "outputs": [],
   "source": [
    "usinas_emis['RECEITA_OP1'] = ['9999999999' if x=='#' else x for x in usinas_emis['RECEITA_OP'].fillna('#')]                 # Fazendo ajuste dos NaN\n",
    "\n",
    "usinas_emis['RECEITA_OP1'] = usinas_emis['RECEITA_OP1'].where(\\\n",
    "                                    usinas_emis['RECEITA_OP1']!='500.00 - 1,000',1000000)                                   # Alterando o valor exclusivo de 1,000 para 1Milhão\n",
    "\n",
    "usinas_emis['RECEITA_OP1'] = [int(so_num(s.split(' - ')[-1].replace('.', '')))*10 \\\n",
    "                                    if '-' in s else int(float(s)*100) \\\n",
    "                                        for s in usinas_emis['RECEITA_OP1'].astype('string')]                               # Ajustando os valores numéricos\n",
    "\n",
    "usinas_emis['RECEITA_OP_C'] = pd.cut(usinas_emis['RECEITA_OP1'].astype(int),                                                # Criando Categorias\n",
    "                                        bins=[-1, 50, 250, 500, 1000, 2500, 5000, \n",
    "                                              10000, 25000, 50000, 100000,\n",
    "                                              250000, 500000, 1000000],\n",
    "                                        labels=['0-50','51-250', '251-500','501-1.000', '1.001-2.500', '2.501-5.000',\n",
    "                                                '5.001-10.000','10.001-25.000','25.001-50.000','50.001-100.000',\n",
    "                                                '100.001-250.000', '250.001-500.000', '500.001-1.000.000'])  \n",
    "\n",
    "usinas_emis['RECEITA_OP_CC'] = usinas_emis['RECEITA_OP_C'].cat.codes                                                         # Codificando as Categorias\n",
    "\n",
    "usinas_emis.drop('RECEITA_OP1', axis=1, inplace=True)                                                                        # Eliminando var de auxílio\n",
    "\n",
    "\n",
    "\n",
    "# Cod abaixo executa o mesmo que a linha 6 -  list comprehension executa com melhor performance\n",
    "# s = []\n",
    "# for i in usinas_emis['RECEITA_OP1'].astype('str'):\n",
    "#     if '-' in i:\n",
    "#         a = int(so_num(i.split(' - ')[-1].replace('.', '')))*10\n",
    "#     else:\n",
    "#         a = int(float(i)*100)\n",
    "#     s.append(a)\n"
   ]
  },
  {
   "cell_type": "markdown",
   "metadata": {
    "nteract": {
     "transient": {
      "deleting": false
     }
    }
   },
   "source": [
    "#### Organizando Nº de Empregados"
   ]
  },
  {
   "cell_type": "code",
   "execution_count": 19,
   "metadata": {
    "jupyter": {
     "outputs_hidden": false,
     "source_hidden": false
    },
    "nteract": {
     "transient": {
      "deleting": false
     }
    }
   },
   "outputs": [],
   "source": [
    "usinas_emis['N_EMPREG1'] = ['999999999' if x=='#' else x[:-7] for x in usinas_emis['N_EMPREG'].fillna('#')]             # Removendo o Ano e fazendo ajuste dos NaN\n",
    "usinas_emis['N_EMPREG1'] = usinas_emis['N_EMPREG1'].astype('str').str.replace(',','', regex=False)                      # Retirando a ',' como separador de milhar\n",
    "\n",
    "usinas_emis['N_EMPREG1'] = [so_num(s[-3:]) if '-' in s else s for s in usinas_emis['N_EMPREG1']]                        # Associando o limite superior de classe a classe que tenha '-'\n",
    "usinas_emis['N_EMPREG1'] = [so_num(s[-5:]) if 'de' in s else s for s in usinas_emis['N_EMPREG1']]                       # Associando o limite superior de classe a classe que tenha 'de'\n",
    "\n",
    "usinas_emis['N_EMPREG_C'] = pd.cut(usinas_emis['N_EMPREG1'].astype(int), \n",
    "                                        bins=[-1, 0, 5, 9, 49, 199, 100000],\n",
    "                                        labels=['<1','1-5', '6-9','10-49', '50-199', '>200'])                           # Criando Categorias\n",
    "\n",
    "usinas_emis['N_EMPREG_CC']   = usinas_emis['N_EMPREG_C'].cat.codes                                                      # Codificando as Categorias\n",
    "\n",
    "usinas_emis.drop('N_EMPREG1', axis=1, inplace=True)                                                                      # Eliminando var de auxílio\n"
   ]
  },
  {
   "cell_type": "code",
   "execution_count": 20,
   "metadata": {
    "jupyter": {
     "outputs_hidden": false,
     "source_hidden": false
    },
    "nteract": {
     "transient": {
      "deleting": false
     }
    }
   },
   "outputs": [],
   "source": [
    "usinas_emis = usinas_emis[['CNPJ','RECEITA_OP','RECEITA_OP_C','RECEITA_OP_CC','N_EMPREG','N_EMPREG_C','N_EMPREG_CC']]"
   ]
  },
  {
   "cell_type": "code",
   "execution_count": null,
   "metadata": {
    "jupyter": {
     "outputs_hidden": false,
     "source_hidden": false
    },
    "nteract": {
     "transient": {
      "deleting": false
     }
    }
   },
   "outputs": [],
   "source": []
  },
  {
   "cell_type": "markdown",
   "metadata": {
    "nteract": {
     "transient": {
      "deleting": false
     }
    }
   },
   "source": [
    "# Unificação das Bases"
   ]
  },
  {
   "cell_type": "markdown",
   "metadata": {
    "nteract": {
     "transient": {
      "deleting": false
     }
    }
   },
   "source": [
    "## 1ª Unificação das Bases\n",
    "Base de dados de referência: **CADASTRO DE INSTITUIÇÕES - MAPA**"
   ]
  },
  {
   "cell_type": "code",
   "execution_count": 21,
   "metadata": {
    "jupyter": {
     "outputs_hidden": false,
     "source_hidden": false
    },
    "nteract": {
     "transient": {
      "deleting": false
     }
    }
   },
   "outputs": [],
   "source": [
    "usinas_e = (\n",
    "                inst[['CNPJ','R_SOCIAL','MUNICIPIO','UF','PRODUCAO_SAFRA']].merge(\n",
    "                    usinas_anp, how='outer', on='CNPJ').merge(\n",
    "                        tanque_g, how='left', on='CNPJ')\n",
    "            )\n",
    "\n",
    "# preenchendo informações vindas da usinas_anp\n",
    "usinas_e['R_SOCIAL'] = usinas_e['R_SOCIAL_x'].fillna(usinas_e['R_SOCIAL_y'])\n",
    "usinas_e['MUNICIPIO'] = usinas_e['MUNICIPIO_x'].fillna(usinas_e['MUNICIPIO_y'])\n",
    "usinas_e['UF'] = usinas_e['UF_x'].fillna(usinas_e['UF_y'])\n",
    "\n",
    "usinas_e = usinas_e[['CNPJ',\n",
    "                     'R_SOCIAL',\n",
    "                     'MUNICIPIO',\n",
    "                     'UF',\n",
    "                     'PRODUCAO_SAFRA',\n",
    "                     'SITUACAO_ANP',\n",
    "                     'CAP_HIDRATADO',\n",
    "                     'CAP_ANIDRO',\n",
    "                     'TancagemM3']]\n",
    "\n",
    "usinas_e.rename(columns={'PRODUCAO_SAFRA':'PRODUCAO', 'TancagemM3':'TANCAGEM_ETANOL'}, inplace=True)"
   ]
  },
  {
   "cell_type": "markdown",
   "metadata": {
    "nteract": {
     "transient": {
      "deleting": false
     }
    }
   },
   "source": [
    "## 2ª Unificação das Bases"
   ]
  },
  {
   "cell_type": "code",
   "execution_count": 22,
   "metadata": {
    "jupyter": {
     "outputs_hidden": false,
     "source_hidden": false
    },
    "nteract": {
     "transient": {
      "deleting": false
     }
    }
   },
   "outputs": [],
   "source": [
    "# Juntando as bases de Usinas MAPA enriquecida com infos da ANP de Autorização e Tancagem de Etanol \n",
    "# a base de Clientes do segmento Usinas do MM_Projeção da  \n",
    "usinas_e2 = (\n",
    "                usinas_e.merge(\n",
    "                    mm_proj[['CNPJ','RSOCIAL', 'MUNIC','UF', 'Tancagem','AECO']], how='left', on='CNPJ').merge(\n",
    "                        usinas_emis, how='left', on='CNPJ')       \n",
    "            )"
   ]
  },
  {
   "cell_type": "code",
   "execution_count": 23,
   "metadata": {
    "jupyter": {
     "outputs_hidden": false,
     "source_hidden": false
    },
    "nteract": {
     "transient": {
      "deleting": false
     }
    }
   },
   "outputs": [],
   "source": [
    "# preenchendo informações vindas da base MM_proj\n",
    "usinas_e2['R_SOCIAL'] = usinas_e2['R_SOCIAL'].fillna(usinas_e2['RSOCIAL'])\n",
    "usinas_e2['MUNICIPIO'] = usinas_e2['MUNICIPIO'].fillna(usinas_e2['MUNIC'])\n",
    "usinas_e2['UF'] = usinas_e2['UF_x'].fillna(usinas_e2['UF_y'])\n",
    "\n",
    "#usinas_e2['CLIENTE'] = usinas_e2['COD_SAP'].notnull().astype(int) # Se COD_SAP não nulo Verdade transformando para int da 1\n",
    "\n",
    "#Mantendo somente as columas de interesse\n",
    "colunas = ['CNPJ', \n",
    "           'R_SOCIAL',\n",
    "           'UF_x',\n",
    "           'MUNICIPIO',\n",
    "           'PRODUCAO',\n",
    "           'SITUACAO_ANP',\n",
    "           'CAP_HIDRATADO',\n",
    "           'CAP_ANIDRO',\n",
    "           'TANCAGEM_ETANOL',\n",
    "           'RECEITA_OP_C',\n",
    "           'RECEITA_OP_CC',\n",
    "           'N_EMPREG_C',\n",
    "           'N_EMPREG_CC',\n",
    "           'Tancagem',\n",
    "           'AECO']\n",
    "\n",
    "usinas = usinas_e2[colunas]\n",
    "usinas.rename(columns={'UF_x':'UF', 'Tancagem':'TANCAGEM_DIESEL'}, inplace=True)\n",
    "\n",
    "del(usinas_e2, usinas_e, usinas_a, usinas_r, usinas_anp, inst, tanque, tanque_g)"
   ]
  },
  {
   "cell_type": "code",
   "execution_count": 24,
   "metadata": {
    "jupyter": {
     "outputs_hidden": false,
     "source_hidden": false
    },
    "nteract": {
     "transient": {
      "deleting": false
     }
    }
   },
   "outputs": [],
   "source": [
    "# Ajuste de informação float gravada como string\n",
    "usinas['CAP_HIDRATADO'] = [x if type(x)==float else x.replace(\",\",'.') for x in  usinas['CAP_HIDRATADO']]\n",
    "usinas['CAP_HIDRATADO'] = usinas['CAP_HIDRATADO'].astype(float)\n",
    "\n",
    "# Ajuste de para maiusculas\n",
    "#usinas = usinas.apply(lambda x: x.astype(str).str.upper())"
   ]
  },
  {
   "cell_type": "code",
   "execution_count": 26,
   "metadata": {
    "jupyter": {
     "outputs_hidden": false,
     "source_hidden": false
    },
    "nteract": {
     "transient": {
      "deleting": false
     }
    }
   },
   "outputs": [],
   "source": [
    "477*4"
   ]
  },
  {
   "cell_type": "markdown",
   "metadata": {
    "nteract": {
     "transient": {
      "deleting": false
     }
    }
   },
   "source": [
    "# Salvando "
   ]
  },
  {
   "cell_type": "code",
   "execution_count": 27,
   "metadata": {
    "jupyter": {
     "outputs_hidden": false,
     "source_hidden": false
    },
    "nteract": {
     "transient": {
      "deleting": false
     }
    }
   },
   "outputs": [],
   "source": [
    "usinas.to_parquet(abfss_path_enriched + 'gov_usinas.parquet', \n",
    "                     storage_options = {'linked_service':linked_service_enriched})"
   ]
  }
 ],
 "metadata": {
  "hide_input": false,
  "kernelspec": {
   "display_name": "Python 3 (ipykernel)",
   "language": "python",
   "name": "python3"
  },
  "language_info": {
   "codemirror_mode": {
    "name": "ipython",
    "version": 3
   },
   "file_extension": ".py",
   "mimetype": "text/x-python",
   "name": "python",
   "nbconvert_exporter": "python",
   "pygments_lexer": "ipython3",
   "version": "3.9.7"
  },
  "save_output": true,
  "synapse_widget": {
   "state": {},
   "version": "0.1"
  }
 },
 "nbformat": 4,
 "nbformat_minor": 2
}
