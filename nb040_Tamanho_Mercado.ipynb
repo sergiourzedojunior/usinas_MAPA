{
 "cells": [
  {
   "cell_type": "markdown",
   "metadata": {
    "nteract": {
     "transient": {
      "deleting": false
     }
    }
   },
   "source": [
    "# Tamanho do Mercado das Usinas Sucroalcooleiras"
   ]
  },
  {
   "cell_type": "markdown",
   "metadata": {
    "nteract": {
     "transient": {
      "deleting": false
     }
    }
   },
   "source": [
    "## Histórico de Atualizações\n",
    "\n",
    "<table>\n",
    "    <thead>\n",
    "        <tr>\n",
    "            <th>Versão</th>\n",
    "            <th>Data</th>\n",
    "            <th>Descrição</th>\n",
    "            <th>Autor</th>\n",
    "            <th>Email</th>\n",
    "        </tr>\n",
    "    </thead>\n",
    "    <tbody>\n",
    "        <tr>\n",
    "        <th>1.0</th>\n",
    "            <td>08/05/2023</td>\n",
    "            <td>\n",
    "                <p>...</p>\n",
    "            </td>\n",
    "            <td>Marcel Quintela, Sergio Urzedo Jr</td>\n",
    "            <td>marcel.quintela@avanade.com, sergiourzedojr@gmail.com</td>\n",
    "        </tr>\n",
    "    </tbody>\n",
    "</table>"
   ]
  },
  {
   "cell_type": "markdown",
   "metadata": {
    "nteract": {
     "transient": {
      "deleting": false
     }
    }
   },
   "source": [
    "# Setup Inicial"
   ]
  },
  {
   "cell_type": "markdown",
   "metadata": {
    "nteract": {
     "transient": {
      "deleting": false
     }
    }
   },
   "source": [
    "Carregando linhas com configurações iniciais já escritas em notebook base\n",
    "\n",
    "No bloco de comando \"%run\" não pode ter nenhum outra linha de comando ou comentário"
   ]
  },
  {
   "cell_type": "code",
   "execution_count": 56,
   "metadata": {
    "jupyter": {
     "outputs_hidden": false,
     "source_hidden": false
    },
    "nteract": {
     "transient": {
      "deleting": false
     }
    }
   },
   "outputs": [],
   "source": [
    "%run nb00_Setup_Usinas{'blob_relative_path_raw': 'nuvem/Usinas/'}"
   ]
  },
  {
   "cell_type": "markdown",
   "metadata": {
    "nteract": {
     "transient": {
      "deleting": false
     }
    }
   },
   "source": [
    "# Leitura dos Dados "
   ]
  },
  {
   "cell_type": "code",
   "execution_count": 57,
   "metadata": {
    "jupyter": {
     "outputs_hidden": false,
     "source_hidden": false
    },
    "nteract": {
     "transient": {
      "deleting": false
     }
    }
   },
   "outputs": [],
   "source": [
    "usinas   = pd.read_parquet(abfss_path_enriched + 'tancagens_impt_usinas.parquet',\n",
    "                            storage_options = {'linked_service' : linked_service_enriched})\n",
    "hist_usinas = pd.read_parquet(abfss_path_enriched + 'vendas_impt_mes.parquet',\n",
    "                            storage_options = {'linked_service' : linked_service_enriched})\n",
    "\n",
    "prop  = pd.read_parquet('abfss://general@stedlk01dtandev.dfs.core.windows.net/enriched/mercado_potencial/volumetria/vol01_prop_consfinal_vegetativo.parquet',\n",
    "                        storage_options = {'linked_service' : linked_service_enriched})\n",
    "cf  = pd.read_parquet('abfss://general@stedlk01dtandev.dfs.core.windows.net/enriched/mercado_potencial/volumetria/vol01_vendas_vibra_mes.parquet',\n",
    "                        storage_options = {'linked_service' : linked_service_enriched})\n",
    "diesel_mes = pd.read_parquet('abfss://general@stedlk01dtandev.dfs.core.windows.net/enriched/mercado_potencial/anp/anp_diesel_mes.parquet',\n",
    "                                storage_options = {'linked_service' : linked_service_enriched})"
   ]
  },
  {
   "cell_type": "markdown",
   "metadata": {
    "nteract": {
     "transient": {
      "deleting": false
     }
    }
   },
   "source": [
    "# Tamanho do Mercado"
   ]
  },
  {
   "cell_type": "markdown",
   "metadata": {
    "nteract": {
     "transient": {
      "deleting": false
     }
    }
   },
   "source": [
    "O tamanho do mercado pode ser obtido por duas manairas:\n",
    "\n",
    "1. Pela visão da Clientela</br>\n",
    "    - $TM = C + \\bar{C} $  \n",
    "2. Pela visão da participação da Atividade Econômica no Segmento Consumidor final</br>\n",
    "    - $TM = U_{part} \\times Cons.Final$\n",
    "\n",
    "Onde assumiu-se que:</br>\n",
    "- $Cons.Final = Cons.Final_{Global}$ e</br>\n",
    "- $U_{part} = U_{part: Vibra}$"
   ]
  },
  {
   "cell_type": "code",
   "execution_count": 58,
   "metadata": {
    "jupyter": {
     "outputs_hidden": false,
     "source_hidden": false
    },
    "nteract": {
     "transient": {
      "deleting": false
     }
    }
   },
   "outputs": [],
   "source": [
    "tm1_m = hist_usinas.groupby(['Data','IMP'])['Vol_Total'].sum().reset_index()\n",
    "tm1_m = tm1_m.pivot_table(values='Vol_Total', index='Data', columns='IMP').reset_index()\n",
    "tm1_m.rename_axis(None, axis=1, inplace=True)\n",
    "tm1_m.columns = ['Data','Vol_Cliente', 'Vol_NaoCliente']\n",
    "tm1_m['Vol_Usina'] = tm1_m[['Vol_Cliente', 'Vol_NaoCliente']].sum(axis=1)"
   ]
  },
  {
   "cell_type": "code",
   "execution_count": 64,
   "metadata": {
    "jupyter": {
     "outputs_hidden": false,
     "source_hidden": false
    },
    "nteract": {
     "transient": {
      "deleting": false
     }
    }
   },
   "outputs": [],
   "source": [
    "hist = hist_usinas.groupby(['Data','IMP'])['Vol_Total'].agg('sum').reset_index()\n",
    "# hist['ds'] = pd.to_datetime(hist['ANOMES'],format='%Y-%m' )\n",
    "# hist['y']= hist['Vol_Total']\n",
    "hist #= hist[['ds','y']]"
   ]
  },
  {
   "cell_type": "code",
   "execution_count": 59,
   "metadata": {
    "jupyter": {
     "outputs_hidden": false,
     "source_hidden": false
    },
    "nteract": {
     "transient": {
      "deleting": false
     }
    }
   },
   "outputs": [],
   "source": [
    "tm1_m"
   ]
  },
  {
   "cell_type": "code",
   "execution_count": 60,
   "metadata": {
    "jupyter": {
     "outputs_hidden": false,
     "source_hidden": false
    },
    "nteract": {
     "transient": {
      "deleting": false
     }
    }
   },
   "outputs": [],
   "source": [
    "tm2_m = pd.DataFrame(diesel_mes.loc['2016':]['consumidor final']*prop['USINA'][:-1]).reset_index()\n",
    "tm2_m.columns = ['Data','Vol_Usina']"
   ]
  },
  {
   "cell_type": "code",
   "execution_count": 61,
   "metadata": {
    "jupyter": {
     "outputs_hidden": false,
     "source_hidden": false
    },
    "nteract": {
     "transient": {
      "deleting": false
     }
    }
   },
   "outputs": [],
   "source": [
    "tm2_m"
   ]
  },
  {
   "cell_type": "markdown",
   "metadata": {
    "nteract": {
     "transient": {
      "deleting": false
     }
    }
   },
   "source": [
    "# Teste de Aderência das duas séries"
   ]
  },
  {
   "cell_type": "code",
   "execution_count": 33,
   "metadata": {
    "jupyter": {
     "outputs_hidden": false,
     "source_hidden": false
    },
    "nteract": {
     "transient": {
      "deleting": false
     }
    }
   },
   "outputs": [],
   "source": [
    "# https://docs.scipy.org/doc/scipy/reference/generated/scipy.special.kolmogorov.html\n",
    "\n",
    "x = tm1_m['Vol_Usina'][:85].values\n",
    "y = tm2_m['Vol_Usina'][:85].values\n",
    "\n",
    "# probabilidades\n",
    "px = x/x.sum()\n",
    "py = y/y.sum()\n",
    "\n",
    "#probabilidades acumuladas\n",
    "pxc = px.cumsum()\n",
    "pyc = py.cumsum()\n",
    "\n",
    "grid = np.linspace(-3, 3, 85)\n",
    "\n",
    "plt.step(grid, px.cumsum(), label='Tamanho de Mercado 1')\n",
    "plt.plot(grid, py.cumsum(), label='Tamanho de Mercado 2')\n",
    "plt.ylim([0, 1]); plt.grid(True); plt.legend();\n",
    "\n",
    "gaps = np.column_stack([pyc-pxc, pxc-pyc])\n",
    "a, b = np.argmax(gaps, axis=0)\n",
    "plt.vlines([grid[a]], pyc[a], pxc[a], color='r', linestyle='dashed', lw=4)\n",
    "plt.vlines([grid[b]], pxc[b], pyc[b], color='r', linestyle='dashed', lw=4)\n",
    "\n",
    "plt.show()"
   ]
  },
  {
   "cell_type": "code",
   "execution_count": 34,
   "metadata": {
    "jupyter": {
     "outputs_hidden": false,
     "source_hidden": false
    },
    "nteract": {
     "transient": {
      "deleting": false
     }
    }
   },
   "outputs": [],
   "source": [
    "Dn = np.max(gaps) # = pxc[b]- pyc[b]\n",
    "Kn = np.sqrt(len(x)) * Dn\n",
    "print('Dn=%f, sqrt(n)*Dn=%f' % (Dn, Kn))"
   ]
  },
  {
   "cell_type": "code",
   "execution_count": 35,
   "metadata": {
    "jupyter": {
     "outputs_hidden": false,
     "source_hidden": false
    },
    "nteract": {
     "transient": {
      "deleting": false
     }
    }
   },
   "outputs": [],
   "source": [
    "stats.kstest(x,y, alternative='two-sided')"
   ]
  },
  {
   "cell_type": "markdown",
   "metadata": {
    "nteract": {
     "transient": {
      "deleting": false
     }
    }
   },
   "source": [
    "# Gráficos"
   ]
  },
  {
   "cell_type": "code",
   "execution_count": 37,
   "metadata": {
    "jupyter": {
     "outputs_hidden": false,
     "source_hidden": false
    },
    "nteract": {
     "transient": {
      "deleting": false
     }
    }
   },
   "outputs": [],
   "source": [
    "cores = ['green','gray','purple', 'gold']\n",
    "\n",
    "fig = make_subplots(rows=1, cols=1,\n",
    "                    y_title='Volume (m³)',\n",
    "                    subplot_titles=(''),\n",
    "                    shared_yaxes=False,\n",
    "                    vertical_spacing=0.1 )\n",
    "\n",
    "# grafico 01\n",
    "for c,i in enumerate(tm1_m.columns[1:3]):\n",
    "    fig.add_trace(go.Scatter(\n",
    "                        name = i,\n",
    "                        x = tm1_m['Data'],\n",
    "                        y = tm1_m[i],\n",
    "                        line = {'color': cores[c]},\n",
    "                        visible=True,\n",
    "                        stackgroup='one'),\n",
    "                    row=1, col=1\n",
    "    )\n",
    "\n",
    "fig.add_trace(go.Scatter( # Linha do Crescimento Vegetativo Vibra -  Consumidor Final\n",
    "            x = tm1_m['Data'],\n",
    "            y = tm1_m['Vol_Usina'],\n",
    "            line = {'color': 'green', 'dash':'dot'},\n",
    "            name = 'TM (Cli + ÑCli)',\n",
    "            showlegend=True),\n",
    "    row=1, col=1)\n",
    "\n",
    "fig.add_trace(go.Scatter( # Linha do Tamanho de Mercado (%Usi * ConsFinal)\n",
    "            x = tm2_m['Data'],\n",
    "            y = tm2_m['Vol_Usina'],\n",
    "            line = dict(color='red', width=4),\n",
    "            name = 'TM (%Usi * ConsFinal)',\n",
    "            showlegend=True),\n",
    "    row=1, col=1)\n",
    "\n",
    "fig.update_xaxes(matches='x', rangeslider_visible=True, rangeslider_thickness = 0.05)\n",
    "fig.update_xaxes(rangeslider= {'visible':True}, row=1, col=1)\n",
    "\n",
    "fig.add_annotation(\n",
    "            showarrow=False,\n",
    "            text='Gerado em ' + dt.now(tz_SP).strftime(\"%d %b %Y às %H:%M:%S\"),\n",
    "            font=dict(size=12),\n",
    "            align=\"right\",\n",
    "            x=1.18,\n",
    "            y=-0.24,\n",
    "            xref='paper',\n",
    "            yref='paper',\n",
    "            xanchor='right',\n",
    "            yanchor='bottom',)\n",
    "\n",
    "# titulo\n",
    "fig.update_layout(\n",
    "                template='plotly_white', # template [\"plotly\", \"plotly_white\", \"plotly_dark\", \"ggplot2\", \"seaborn\", \"simple_white\", \"none\"]\n",
    "                title = 'Volume de Diesel Vendido para Usinas Sucroalcooleiras' + '<br><sup>'+ \n",
    "                        'Considerando total de usinas MAPA (mar/2023)'+'</sup>',\n",
    "                legend_title = \"Legenda\",\n",
    "                font=dict(\n",
    "                        family = \"Courier New, monospace\",\n",
    "                        size = 14,\n",
    "                        color = \"royalblue\"),\n",
    "                height=600\n",
    ")\n",
    "\n",
    "fig = plotly.offline.plot(fig, output_type='div')\n",
    "displayHTML(fig)\n",
    "#fig.show()\n"
   ]
  },
  {
   "cell_type": "code",
   "execution_count": 51,
   "metadata": {
    "jupyter": {
     "outputs_hidden": false,
     "source_hidden": false
    },
    "nteract": {
     "transient": {
      "deleting": false
     }
    }
   },
   "outputs": [],
   "source": [
    "def agrup_graf(df, geo='UF'):\n",
    "    aux = df.set_index('Data')\n",
    "    aux = aux.groupby([geo])['Vol_Total'].resample('MS').sum()\n",
    "    aux = aux.unstack(level=0)\n",
    "    #aux.columns = aux.columns.droplevel(0)\n",
    "    aux = aux.rename_axis(None, axis=1)\n",
    "    return(aux)"
   ]
  },
  {
   "cell_type": "code",
   "execution_count": 48,
   "metadata": {
    "jupyter": {
     "outputs_hidden": false,
     "source_hidden": false
    },
    "nteract": {
     "transient": {
      "deleting": false
     }
    }
   },
   "outputs": [],
   "source": [
    "df = hist_usinas.copy()\n",
    "geo='REGIAO3'\n",
    "\n",
    "aux = df.set_index('Data')\n",
    "aux = aux.groupby([geo])['Vol_Total'].resample('MS').sum()\n",
    "aux = aux.unstack(level=0)\n",
    "aux"
   ]
  },
  {
   "cell_type": "code",
   "execution_count": 52,
   "metadata": {
    "jupyter": {
     "outputs_hidden": false,
     "source_hidden": false
    },
    "nteract": {
     "transient": {
      "deleting": false
     }
    }
   },
   "outputs": [],
   "source": [
    "agrup_graf(hist_usinas, geo='REGIAO3')"
   ]
  },
  {
   "cell_type": "code",
   "execution_count": 53,
   "metadata": {
    "jupyter": {
     "outputs_hidden": false,
     "source_hidden": false
    },
    "nteract": {
     "transient": {
      "deleting": false
     }
    }
   },
   "outputs": [],
   "source": [
    "titulo = ('Volume de Diesel Vendido para Usinas Sucroalcooleiras por região' + '<br><sup>'+\n",
    "            'Considerando total de usinas MAPA (mar/2023)'+'</sup>')\n",
    "\n",
    "multi_plot(agrup_graf(hist_usinas, geo='REGIAO3'), titulo, 'Agrupamentos<br>Regionais')\n",
    "# incluir quebra cliente e não cliente"
   ]
  },
  {
   "cell_type": "code",
   "execution_count": 207,
   "metadata": {
    "jupyter": {
     "outputs_hidden": false,
     "source_hidden": false
    },
    "nteract": {
     "transient": {
      "deleting": false
     }
    }
   },
   "outputs": [],
   "source": [
    "df = tm1_m[['Data']]\n",
    "df['Erro'] = (tm1_m['Vol_Usina'] - tm2_m['Vol_Usina'])/tm2_m['Vol_Usina']\n",
    "\n",
    "fig = go.Figure()\n",
    "fig.add_trace(go.Scatter( # Linha do Crescimento Vegetativo Vibra -  Consumidor Final\n",
    "            x = df['Data'],\n",
    "            y = df['Erro'],\n",
    "            line = {'color': 'green', 'dash':'dot'}))\n",
    "fig.update_layout(\n",
    "                template='plotly_white', # template [\"plotly\", \"plotly_white\", \"plotly_dark\", \"ggplot2\", \"seaborn\", \"simple_white\", \"none\"]\n",
    "                title = 'Erro Relativo Mensal em relação do Tamanho do Mercado Proporcional',\n",
    "                font=dict(\n",
    "                        family = \"Courier New, monospace\",\n",
    "                        size = 14,\n",
    "                        color = \"royalblue\"),\n",
    "                height=400\n",
    ")\n",
    "fig = plotly.offline.plot(fig, output_type='div')\n",
    "displayHTML(fig)"
   ]
  },
  {
   "cell_type": "code",
   "execution_count": 199,
   "metadata": {
    "jupyter": {
     "outputs_hidden": false,
     "source_hidden": false
    },
    "nteract": {
     "transient": {
      "deleting": false
     }
    }
   },
   "outputs": [],
   "source": [
    "df = agrup_graf(hist_usinas, geo='REGIAO')"
   ]
  },
  {
   "cell_type": "code",
   "execution_count": 176,
   "metadata": {
    "jupyter": {
     "outputs_hidden": false,
     "source_hidden": false
    },
    "nteract": {
     "transient": {
      "deleting": false
     }
    }
   },
   "outputs": [],
   "source": [
    "df"
   ]
  },
  {
   "cell_type": "code",
   "execution_count": 204,
   "metadata": {
    "jupyter": {
     "outputs_hidden": false,
     "source_hidden": false
    },
    "nteract": {
     "transient": {
      "deleting": false
     }
    }
   },
   "outputs": [],
   "source": [
    "dfi=pd.DataFrame({'date': {0: '2020.01.01',\n",
    "  1: '2020.01.01',\n",
    "  2: '2020.01.01',\n",
    "  3: '2020.01.01',\n",
    "  4: '2020.01.01',\n",
    "  5: '2020.01.01',\n",
    "  6: '2020.02.01',\n",
    "  7: '2020.02.01',\n",
    "  8: '2020.02.01',\n",
    "  9: '2020.02.01',\n",
    "  10: '2020.02.01',\n",
    "  11: '2020.02.01',\n",
    "  12: '2020.03.01',\n",
    "  13: '2020.03.01',\n",
    "  14: '2020.03.01',\n",
    "  15: '2020.03.01',\n",
    "  16: '2020.03.01',\n",
    "  17: '2020.03.01'},\n",
    " 'sub_id': {0: 1233,\n",
    "  1: 1233,\n",
    "  2: 1233,\n",
    "  3: 3424,\n",
    "  4: 3424,\n",
    "  5: 3424,\n",
    "  6: 1233,\n",
    "  7: 1233,\n",
    "  8: 1233,\n",
    "  9: 3424,\n",
    "  10: 3424,\n",
    "  11: 3424,\n",
    "  12: 1233,\n",
    "  13: 1233,\n",
    "  14: 1233,\n",
    "  15: 3424,\n",
    "  16: 3424,\n",
    "  17: 3424},\n",
    " 'stat_type': {0: 'link_clicks',\n",
    "  1: 'transaction',\n",
    "  2: 'customer_signups',\n",
    "  3: 'link_clicks',\n",
    "  4: 'transaction',\n",
    "  5: 'customer_signups',\n",
    "  6: 'link_clicks',\n",
    "  7: 'transaction',\n",
    "  8: 'customer_signups',\n",
    "  9: 'link_clicks',\n",
    "  10: 'transaction',\n",
    "  11: 'customer_signups',\n",
    "  12: 'link_clicks',\n",
    "  13: 'transaction',\n",
    "  14: 'customer_signups',\n",
    "  15: 'link_clicks',\n",
    "  16: 'transaction',\n",
    "  17: 'customer_signups'},\n",
    " 'value': {0: 12,\n",
    "  1: 50,\n",
    "  2: 9,\n",
    "  3: 24,\n",
    "  4: 100,\n",
    "  5: 18,\n",
    "  6: 14,\n",
    "  7: 24,\n",
    "  8: 39,\n",
    "  9: 20,\n",
    "  10: 10,\n",
    "  11: 8,\n",
    "  12: 4,\n",
    "  13: 2,\n",
    "  14: 3,\n",
    "  15: 2,\n",
    "  16: 1,\n",
    "  17: 1}})\n",
    "\n",
    "dfi"
   ]
  },
  {
   "cell_type": "code",
   "execution_count": 206,
   "metadata": {
    "jupyter": {
     "outputs_hidden": false,
     "source_hidden": false
    },
    "nteract": {
     "transient": {
      "deleting": false
     }
    }
   },
   "outputs": [],
   "source": [
    "# Imports\n",
    "import plotly.graph_objs as go\n",
    "import pandas as pd\n",
    "import numpy as np\n",
    "\n",
    "\n",
    "# change some types \n",
    "dfi['date']=pd.to_datetime(dfi['date'])\n",
    "dfi['sub_id']=dfi['sub_id'].astype(str)\n",
    "df=dfi\n",
    "\n",
    "# split df by stat_type and organize them in a dict\n",
    "groups = df['stat_type'].unique().tolist()\n",
    "dfs={}\n",
    "for g in groups:\n",
    "    dfs[str(g)]=df[df['stat_type']==g]\n",
    "\n",
    "# pivot data to get different sub_id across dates\n",
    "dfp={}\n",
    "for df in dfs:\n",
    "    dfp[df]=dfs[df].pivot(index='date', columns='sub_id', values='value')\n",
    "\n",
    "# one trace for each column per dataframe\n",
    "fig=go.Figure()\n",
    "\n",
    "# set up the first trace\n",
    "fig.add_trace(go.Scatter(x=dfp['link_clicks'].index,\n",
    "                             y=dfp['link_clicks']['1233'],\n",
    "                             visible=True)\n",
    "             )\n",
    "\n",
    "fig.add_trace(go.Scatter(x=dfp['link_clicks'].index,\n",
    "                             y=dfp['link_clicks']['3424'],\n",
    "                             visible=True)\n",
    "             )\n",
    "\n",
    "# plotly start\n",
    "# buttons for menu 1, names\n",
    "updatemenu=[]\n",
    "buttons=[]\n",
    "\n",
    "# button with one option for each dataframe\n",
    "for df in dfp.keys():\n",
    "    buttons.append(dict(method='restyle',\n",
    "                        label=df,\n",
    "                        visible=True,\n",
    "                        args=[{'y':[dfp[str(df)]['1233'].values, dfp[str(df)]['3424'].values],\n",
    "                               'x':[dfp[str(df)].index],\n",
    "                               'type':'scatter'}],\n",
    "                        )\n",
    "                  )\n",
    "\n",
    "# some adjustments to the updatemenus\n",
    "updatemenu=[]\n",
    "your_menu=dict()\n",
    "updatemenu.append(your_menu)\n",
    "updatemenu[0]['buttons']=buttons\n",
    "updatemenu[0]['direction']='down'\n",
    "updatemenu[0]['showactive']=True\n",
    "\n",
    "# add dropdown menus to the figure\n",
    "fig.update_layout(showlegend=False, updatemenus=updatemenu)\n",
    "\n",
    "# add notations to the dropdown menus\n",
    "fig.update_layout(\n",
    "    annotations=[\n",
    "        go.layout.Annotation(text=\"<b>stat_type:</b>\",\n",
    "                             x=-0.3, xref=\"paper\",\n",
    "                             y=1.1, yref=\"paper\",\n",
    "                             align=\"left\", showarrow=False),\n",
    "                          ]\n",
    ")\n",
    "\n",
    "fig.show()"
   ]
  }
 ],
 "metadata": {
  "hide_input": false,
  "kernelspec": {
   "display_name": "Python 3 (ipykernel)",
   "language": "python",
   "name": "python3"
  },
  "language_info": {
   "codemirror_mode": {
    "name": "ipython",
    "version": 3
   },
   "file_extension": ".py",
   "mimetype": "text/x-python",
   "name": "python",
   "nbconvert_exporter": "python",
   "pygments_lexer": "ipython3",
   "version": "3.9.7"
  },
  "save_output": true,
  "synapse_widget": {
   "state": {},
   "version": "0.1"
  }
 },
 "nbformat": 4,
 "nbformat_minor": 2
}
