{
 "cells": [
  {
   "cell_type": "markdown",
   "metadata": {
    "nteract": {
     "transient": {
      "deleting": false
     }
    }
   },
   "source": [
    "# Coleta, Tratamento e Unificação das bases de dados relativas as Usinas Sucroalcooleiras"
   ]
  },
  {
   "cell_type": "markdown",
   "metadata": {
    "nteract": {
     "transient": {
      "deleting": false
     }
    }
   },
   "source": [
    "## Histórico de Atualizações\n",
    "\n",
    "<table>\n",
    "    <thead>\n",
    "        <tr>\n",
    "            <th>Versão</th>\n",
    "            <th>Data</th>\n",
    "            <th>Descrição</th>\n",
    "            <th>Autor</th>\n",
    "            <th>Email</th>\n",
    "        </tr>\n",
    "    </thead>\n",
    "    <tbody>\n",
    "        <tr>\n",
    "        <th>1.0</th>\n",
    "            <td>06/04/2023</td>\n",
    "            <td>\n",
    "                <p>Processo de enriquecimento das bases por meio de imputações de dados utilizando o método KNNInputer (sklearn) </p>\n",
    "            </td>\n",
    "            <td>Marcel Quintela, Sergio Urzedo Jr</td>\n",
    "            <td>marcel.quintela@avanade.com, , sergiourzedojr@gmail.com</td>\n",
    "        </tr>\n",
    "    </tbody>\n",
    "</table>"
   ]
  },
  {
   "cell_type": "markdown",
   "metadata": {
    "nteract": {
     "transient": {
      "deleting": false
     }
    }
   },
   "source": [
    "# Setup Inicial"
   ]
  },
  {
   "cell_type": "markdown",
   "metadata": {
    "nteract": {
     "transient": {
      "deleting": false
     }
    }
   },
   "source": [
    "Carregando linhas com configurações iniciais já escritas em notebook base\n",
    "\n",
    "No bloco de comando \"%run\" não pode ter nenhum outra linha de comando ou comentário"
   ]
  },
  {
   "cell_type": "code",
   "execution_count": 38,
   "metadata": {
    "jupyter": {
     "outputs_hidden": false,
     "source_hidden": false
    },
    "nteract": {
     "transient": {
      "deleting": false
     }
    }
   },
   "outputs": [],
   "source": [
    "%run nb00_Setup_Usinas{'blob_relative_path_raw': 'nuvem/Usinas/'}"
   ]
  },
  {
   "cell_type": "markdown",
   "metadata": {
    "nteract": {
     "transient": {
      "deleting": false
     }
    }
   },
   "source": [
    "# Leitura dos Dados "
   ]
  },
  {
   "cell_type": "code",
   "execution_count": 39,
   "metadata": {
    "jupyter": {
     "outputs_hidden": false,
     "source_hidden": false
    },
    "nteract": {
     "transient": {
      "deleting": false
     }
    }
   },
   "outputs": [],
   "source": [
    "usinas   = pd.read_parquet(abfss_path_enriched+'gov_usinas.parquet',storage_options = {'linked_service' : linked_service_enriched})\n",
    "\n",
    "files = [\n",
    "         #'ANP/Usinas_Autorizadas/autorizacoes_biocombustiveis.xlsx', # arquivo com proteção tipo OLE2 usar xlwings\n",
    "         'MAPA/Cadastro_Instituicoes/relatorio_completo_14032023010158.xls',\n",
    "         'ANP/Usinas_Autorizadas/autorizacoes_biocombustiveis.csv',\n",
    "         'ANP/Usinas_Autorizadas/Autorizacoes_biocombustives_revogadas.xlsx',\n",
    "         'ANP/Tancagem/marco2023.csv',\n",
    "         '/MM_Proj_OD.xlsx',\n",
    "         '/usinas_enriquecidas.xlsx',\n",
    "         '/hist_diesel.csv'\n",
    "        ]\n"
   ]
  },
  {
   "cell_type": "markdown",
   "metadata": {
    "nteract": {
     "transient": {
      "deleting": false
     }
    }
   },
   "source": [
    "## Inclusão de Infos Geográficas"
   ]
  },
  {
   "cell_type": "code",
   "execution_count": 40,
   "metadata": {
    "jupyter": {
     "outputs_hidden": false,
     "source_hidden": false
    },
    "nteract": {
     "transient": {
      "deleting": false
     }
    }
   },
   "outputs": [],
   "source": [
    "# colentando cod nomes UFs\n",
    "uf = pd.json_normalize(Estados().json_ibge)\n",
    "\n",
    "# agregando infos geograficas as usinas\n",
    "usinas = usinas.merge(uf[['id','sigla','regiao.id','regiao.sigla']], how='left', left_on='UF', right_on='sigla')\n",
    "usinas.rename(columns={'id':'ID_UF','regiao.id':'ID_REGIAO','regiao.sigla':'REGIAO'}, inplace=True)\n",
    "usinas.drop('sigla', axis=1, inplace=True)\n"
   ]
  },
  {
   "cell_type": "markdown",
   "metadata": {
    "nteract": {
     "transient": {
      "deleting": false
     }
    }
   },
   "source": [
    "# Exploração"
   ]
  },
  {
   "cell_type": "code",
   "execution_count": 41,
   "metadata": {
    "jupyter": {
     "outputs_hidden": false,
     "source_hidden": false
    },
    "nteract": {
     "transient": {
      "deleting": false
     }
    }
   },
   "outputs": [],
   "source": [
    "col = ['CAP_HIDRATADO','CAP_ANIDRO','TANCAGEM_ETANOL', 'RECEITA_OP_CC', 'N_EMPREG_CC','TANCAGEM_DIESEL']\n",
    "usinas[col].isnull().sum()/477"
   ]
  },
  {
   "cell_type": "code",
   "execution_count": null,
   "metadata": {
    "jupyter": {
     "outputs_hidden": false,
     "source_hidden": false
    },
    "nteract": {
     "transient": {
      "deleting": false
     }
    }
   },
   "outputs": [],
   "source": [
    "# Compute the correlation matrix\n",
    "corr = usinas[col].corr(method='pearson')\n",
    "\n",
    "# Generate a mask for the upper triangle\n",
    "mask = np.triu(np.ones_like(corr, dtype=bool))\n",
    "\n",
    "plt.figure(figsize = (12,8))\n",
    "sns.heatmap(corr, mask=mask, annot=True, cmap='Greens')\n",
    "plt.show()"
   ]
  },
  {
   "cell_type": "code",
   "execution_count": 10,
   "metadata": {
    "jupyter": {
     "outputs_hidden": false,
     "source_hidden": false
    },
    "nteract": {
     "transient": {
      "deleting": false
     }
    }
   },
   "outputs": [],
   "source": [
    "\n",
    "msno.matrix(usinas[col],figsize=(12,8), fontsize=12)"
   ]
  },
  {
   "cell_type": "code",
   "execution_count": 11,
   "metadata": {
    "jupyter": {
     "outputs_hidden": false,
     "source_hidden": false
    },
    "nteract": {
     "transient": {
      "deleting": false
     }
    }
   },
   "outputs": [],
   "source": [
    "msno.bar(usinas[col], figsize=(12,8), fontsize=12)"
   ]
  },
  {
   "cell_type": "markdown",
   "metadata": {
    "nteract": {
     "transient": {
      "deleting": false
     }
    }
   },
   "source": [
    "# Imputações"
   ]
  },
  {
   "cell_type": "markdown",
   "metadata": {
    "nteract": {
     "transient": {
      "deleting": false
     }
    }
   },
   "source": [
    "## Processo 1 - Imputação das Tancagens ANP"
   ]
  },
  {
   "cell_type": "markdown",
   "metadata": {
    "nteract": {
     "transient": {
      "deleting": false
     }
    }
   },
   "source": [
    "Processo sequencial de imputação por colunas do dataframe. Para que fique evidente quais os vizinhos doadores doaram dados o último processo será o de Tancagem de Diesel."
   ]
  },
  {
   "cell_type": "code",
   "execution_count": 42,
   "metadata": {
    "jupyter": {
     "outputs_hidden": false,
     "source_hidden": false
    },
    "nteract": {
     "transient": {
      "deleting": false
     }
    }
   },
   "outputs": [],
   "source": [
    "usinas1 = usinas.copy()"
   ]
  },
  {
   "cell_type": "code",
   "execution_count": 43,
   "metadata": {
    "jupyter": {
     "outputs_hidden": false,
     "source_hidden": false
    },
    "nteract": {
     "transient": {
      "deleting": false
     }
    }
   },
   "outputs": [],
   "source": [
    "var         = ['CAP_HIDRATADO','CAP_ANIDRO','TANCAGEM_ETANOL']\n",
    "usinas_impt = usinas[['CNPJ','UF','REGIAO','CAP_HIDRATADO','CAP_ANIDRO','TANCAGEM_ETANOL']]\n",
    "usinas_impt.sort_values('CNPJ', ignore_index=True, inplace=True)\n",
    "\n",
    "# IMPUTANDO ATÉ TANCAGEM ETANOL\n",
    "usinas_impt = agrega_imputados(dados=usinas_impt,\n",
    "                               variaveis=var,\n",
    "                               chave='CNPJ',\n",
    "                               alvo='TANCAGEM_ETANOL',\n",
    "                               nivel=['UF', 'REGIAO'],\n",
    "                               viz=5,\n",
    "                               ind=False)"
   ]
  },
  {
   "cell_type": "code",
   "execution_count": 44,
   "metadata": {
    "jupyter": {
     "outputs_hidden": false,
     "source_hidden": false
    },
    "nteract": {
     "transient": {
      "deleting": false
     }
    }
   },
   "outputs": [],
   "source": [
    "usinas1.set_index('CNPJ', inplace=True)\n",
    "usinas1.sort_index(inplace=True)\n",
    "usinas1.update(usinas_impt.set_index('CNPJ'), overwrite=False)\n",
    "usinas1.reset_index(drop=False, inplace=True)"
   ]
  },
  {
   "cell_type": "markdown",
   "metadata": {
    "nteract": {
     "transient": {
      "deleting": false
     }
    }
   },
   "source": [
    "## Processo 2 - Imputação das Tancagem DIESEL - "
   ]
  },
  {
   "cell_type": "code",
   "execution_count": 45,
   "metadata": {
    "jupyter": {
     "outputs_hidden": false,
     "source_hidden": false
    },
    "nteract": {
     "transient": {
      "deleting": false
     }
    }
   },
   "outputs": [],
   "source": [
    "usinas2 = usinas1.copy()"
   ]
  },
  {
   "cell_type": "code",
   "execution_count": 46,
   "metadata": {
    "jupyter": {
     "outputs_hidden": false,
     "source_hidden": false
    },
    "nteract": {
     "transient": {
      "deleting": false
     }
    }
   },
   "outputs": [],
   "source": [
    "var         = ['CAP_HIDRATADO','CAP_ANIDRO','TANCAGEM_ETANOL','TANCAGEM_DIESEL']\n",
    "usinas_impt = usinas2[['CNPJ','UF','REGIAO','CAP_HIDRATADO','CAP_ANIDRO','TANCAGEM_ETANOL','TANCAGEM_DIESEL']]\n",
    "usinas_impt.sort_values('CNPJ', ignore_index=True, inplace=True)\n",
    "\n",
    "# IMPUTANDO ATÉ TANCAGEM DIESEL\n",
    "usinas_impt = agrega_imputados(dados=usinas_impt,\n",
    "                               variaveis=var,\n",
    "                               chave='CNPJ',\n",
    "                               alvo='TANCAGEM_DIESEL',\n",
    "                               nivel=['UF', 'REGIAO'],\n",
    "                               viz=5,\n",
    "                               ind=True)\n",
    "\n",
    "#usinas_impt = agrega_imputados(usinas_impt, var, chave='CNPJ', alvo='', nivel=['UF', 'REGIAO'], viz=5)"
   ]
  },
  {
   "cell_type": "code",
   "execution_count": 47,
   "metadata": {
    "jupyter": {
     "outputs_hidden": false,
     "source_hidden": false
    },
    "nteract": {
     "transient": {
      "deleting": false
     }
    }
   },
   "outputs": [],
   "source": [
    "usinas2.set_index('CNPJ', inplace=True)\n",
    "usinas2.sort_index(inplace=True)\n",
    "usinas2.update(usinas_impt.set_index('CNPJ'),overwrite=False)\n",
    "usinas2.reset_index(drop=False, inplace=True)"
   ]
  },
  {
   "cell_type": "markdown",
   "metadata": {
    "nteract": {
     "transient": {
      "deleting": false
     }
    }
   },
   "source": [
    "## Imputando dados em Receita e Empregados"
   ]
  },
  {
   "cell_type": "code",
   "execution_count": 48,
   "metadata": {
    "jupyter": {
     "outputs_hidden": false,
     "source_hidden": false
    },
    "nteract": {
     "transient": {
      "deleting": false
     }
    }
   },
   "outputs": [],
   "source": [
    "usinas3 = usinas1.copy()"
   ]
  },
  {
   "cell_type": "markdown",
   "metadata": {
    "nteract": {
     "transient": {
      "deleting": false
     }
    }
   },
   "source": [
    "Verificar a proporcionalidade de usinas dentro de consumidor final"
   ]
  },
  {
   "cell_type": "code",
   "execution_count": 49,
   "metadata": {
    "jupyter": {
     "outputs_hidden": false,
     "source_hidden": false
    },
    "nteract": {
     "transient": {
      "deleting": false
     }
    }
   },
   "outputs": [],
   "source": [
    "# ASSUMINDO QUE AS RECEITAS OPERACIONAIS FALTANTES ESTEJAM NA MENOR CLASSE\n",
    "\n",
    "usinas3['RECEITA_OP_CC'] = usinas3['RECEITA_OP_CC'].fillna(0)\n",
    "usinas3['RECEITA_OP_CC'] = usinas3['RECEITA_OP_CC'].where(usinas3['RECEITA_OP_CC']!=-1,0)\n",
    "#usinas3['RECEITA_OP_CC'].value_counts()\n",
    "\n",
    "# = usinas3['RECEITA_OP_C'].fillna('0-50')"
   ]
  },
  {
   "cell_type": "code",
   "execution_count": 52,
   "metadata": {
    "jupyter": {
     "outputs_hidden": false,
     "source_hidden": false
    },
    "nteract": {
     "transient": {
      "deleting": false
     }
    }
   },
   "outputs": [],
   "source": [
    "var         = ['CAP_HIDRATADO','CAP_ANIDRO', 'TANCAGEM_ETANOL', 'RECEITA_OP_CC', 'N_EMPREG_CC',]\n",
    "usinas_impt = usinas3[['CNPJ','UF','REGIAO','CAP_HIDRATADO','CAP_ANIDRO','TANCAGEM_ETANOL', 'RECEITA_OP_CC', 'N_EMPREG_CC']]\n",
    "usinas_impt.sort_values('CNPJ', ignore_index=True, inplace=True)\n",
    "\n",
    "# IMPUTANDO ATÉ TANCAGEM ETANOL\n",
    "usinas_impt = agrega_imputados(usinas_impt, var, chave='CNPJ', alvo='N_EMPREG_CC', nivel=['UF', 'REGIAO'], viz=5, ind=False)"
   ]
  },
  {
   "cell_type": "code",
   "execution_count": 53,
   "metadata": {
    "jupyter": {
     "outputs_hidden": false,
     "source_hidden": false
    },
    "nteract": {
     "transient": {
      "deleting": false
     }
    }
   },
   "outputs": [],
   "source": [
    "usinas3.set_index('CNPJ', inplace=True)\n",
    "usinas3.sort_index(inplace=True)\n",
    "usinas3.update(np.round(usinas_impt).set_index('CNPJ'),overwrite=False)\n",
    "usinas3.reset_index(drop=False, inplace=True)"
   ]
  },
  {
   "cell_type": "code",
   "execution_count": 54,
   "metadata": {
    "jupyter": {
     "outputs_hidden": false,
     "source_hidden": false
    },
    "nteract": {
     "transient": {
      "deleting": false
     }
    }
   },
   "outputs": [],
   "source": [
    "# testar se é necessário !!!\n",
    "usinas_impt['RECEITA_OP_CC'] = usinas_impt['RECEITA_OP_CC'].where(usinas_impt['RECEITA_OP_CC']!=-1,np.nan)\n",
    "usinas_impt['N_EMPREG_CC'] = usinas_impt['N_EMPREG_CC'].where(usinas_impt['N_EMPREG_CC']!=-1,np.nan)"
   ]
  },
  {
   "cell_type": "markdown",
   "metadata": {
    "nteract": {
     "transient": {
      "deleting": false
     }
    }
   },
   "source": [
    "### Parte 3 - Imputando dados de Tanque Diesel"
   ]
  },
  {
   "cell_type": "code",
   "execution_count": 55,
   "metadata": {
    "jupyter": {
     "outputs_hidden": false,
     "source_hidden": false
    },
    "nteract": {
     "transient": {
      "deleting": false
     }
    }
   },
   "outputs": [],
   "source": [
    "usinas4 = usinas3.copy()"
   ]
  },
  {
   "cell_type": "code",
   "execution_count": 56,
   "metadata": {
    "jupyter": {
     "outputs_hidden": false,
     "source_hidden": false
    },
    "nteract": {
     "transient": {
      "deleting": false
     }
    }
   },
   "outputs": [],
   "source": [
    "col         = ['CNPJ','UF','REGIAO','CAP_HIDRATADO','CAP_ANIDRO','TANCAGEM_ETANOL', 'RECEITA_OP_CC', 'N_EMPREG_CC','TANCAGEM_DIESEL']\n",
    "var         = ['CAP_HIDRATADO','CAP_ANIDRO', 'TANCAGEM_ETANOL', 'RECEITA_OP_CC', 'N_EMPREG_CC','TANCAGEM_DIESEL']\n",
    "usinas_impt = usinas4[col]\n",
    "usinas_impt.sort_values('CNPJ', ignore_index=True, inplace=True)\n",
    "\n",
    "usinas_impt = agrega_imputados(usinas_impt, var, chave='CNPJ', alvo='TANCAGEM_DIESEL', nivel=['UF', 'REGIAO'], viz=5, ind=False)"
   ]
  },
  {
   "cell_type": "code",
   "execution_count": 57,
   "metadata": {
    "jupyter": {
     "outputs_hidden": false,
     "source_hidden": false
    },
    "nteract": {
     "transient": {
      "deleting": false
     }
    }
   },
   "outputs": [],
   "source": [
    "usinas4.set_index('CNPJ', inplace=True)\n",
    "usinas4.sort_index(inplace=True)\n",
    "usinas4.update(usinas_impt.set_index('CNPJ'),overwrite=False)\n",
    "usinas4.reset_index(drop=False, inplace=True)"
   ]
  },
  {
   "cell_type": "code",
   "execution_count": 58,
   "metadata": {
    "jupyter": {
     "outputs_hidden": false,
     "source_hidden": false
    },
    "nteract": {
     "transient": {
      "deleting": false
     }
    }
   },
   "outputs": [],
   "source": [
    "usinas2[col]"
   ]
  },
  {
   "cell_type": "code",
   "execution_count": 59,
   "metadata": {
    "jupyter": {
     "outputs_hidden": false,
     "source_hidden": false
    },
    "nteract": {
     "transient": {
      "deleting": false
     }
    }
   },
   "outputs": [],
   "source": [
    "usinas4[col]"
   ]
  },
  {
   "cell_type": "code",
   "execution_count": 60,
   "metadata": {
    "jupyter": {
     "outputs_hidden": false,
     "source_hidden": false
    },
    "nteract": {
     "transient": {
      "deleting": false
     }
    }
   },
   "outputs": [],
   "source": [
    "x = usinas2['TANCAGEM_DIESEL']-usinas4['TANCAGEM_DIESEL']\n",
    "pd.cut(x, bins=15).value_counts()"
   ]
  },
  {
   "cell_type": "markdown",
   "metadata": {
    "nteract": {
     "transient": {
      "deleting": false
     }
    }
   },
   "source": [
    "Verificou-se que as informação ede receita bruta e de número de empregados não traz informações capazez de mudar significativament as imputações dos volumes de Diesel realizadas pelos volumes de Etanol"
   ]
  },
  {
   "cell_type": "markdown",
   "metadata": {
    "nteract": {
     "transient": {
      "deleting": false
     }
    }
   },
   "source": [
    "# Salvando "
   ]
  },
  {
   "cell_type": "code",
   "execution_count": 61,
   "metadata": {
    "jupyter": {
     "outputs_hidden": false,
     "source_hidden": false
    },
    "nteract": {
     "transient": {
      "deleting": false
     }
    }
   },
   "outputs": [],
   "source": [
    "usinas2.drop(['RECEITA_OP_C', 'RECEITA_OP_CC','N_EMPREG_C', 'N_EMPREG_CC'], axis=1,inplace=True)"
   ]
  },
  {
   "cell_type": "code",
   "execution_count": 62,
   "metadata": {
    "jupyter": {
     "outputs_hidden": false,
     "source_hidden": false
    },
    "nteract": {
     "transient": {
      "deleting": false
     }
    }
   },
   "outputs": [],
   "source": [
    "usinas2"
   ]
  },
  {
   "cell_type": "code",
   "execution_count": 63,
   "metadata": {
    "jupyter": {
     "outputs_hidden": false,
     "source_hidden": false
    },
    "nteract": {
     "transient": {
      "deleting": false
     }
    }
   },
   "outputs": [],
   "source": [
    "usinas2.to_parquet(abfss_path_enriched + 'tancagens_impt_usinas.parquet', \n",
    "                     storage_options = {'linked_service':linked_service_enriched})"
   ]
  }
 ],
 "metadata": {
  "hide_input": false,
  "kernelspec": {
   "display_name": "Python 3 (ipykernel)",
   "language": "python",
   "name": "python3"
  },
  "language_info": {
   "codemirror_mode": {
    "name": "ipython",
    "version": 3
   },
   "file_extension": ".py",
   "mimetype": "text/x-python",
   "name": "python",
   "nbconvert_exporter": "python",
   "pygments_lexer": "ipython3",
   "version": "3.9.7"
  },
  "save_output": true,
  "synapse_widget": {
   "state": {},
   "version": "0.1"
  }
 },
 "nbformat": 4,
 "nbformat_minor": 2
}
