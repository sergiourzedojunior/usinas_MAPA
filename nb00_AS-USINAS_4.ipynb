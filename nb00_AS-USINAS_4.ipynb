{
 "cells": [
  {
   "cell_type": "markdown",
   "metadata": {
    "nteract": {
     "transient": {
      "deleting": false
     }
    }
   },
   "source": [
    "# TAMANHO DE MERCADO USINAS"
   ]
  },
  {
   "cell_type": "markdown",
   "metadata": {
    "nteract": {
     "transient": {
      "deleting": false
     }
    }
   },
   "source": [
    "## Histórico de Atualizações\n",
    "\n",
    "<table>\n",
    "    <thead>\n",
    "        <tr>\n",
    "            <th>Versão</th>\n",
    "            <th>Data</th>\n",
    "            <th>Descrição</th>\n",
    "            <th>Autor</th>\n",
    "            <th>Email</th>\n",
    "        </tr>\n",
    "    </thead>\n",
    "    <tbody>\n",
    "        <tr>\n",
    "            <th>1.0</th>\n",
    "            <td>21/03/2023</td>\n",
    "            <td>\n",
    "                <p>Trabalho exploratório e ajustes das bases de clientes <i>{key:CNPJ}</i> da <b>MAPA</b> [<i>Estabelecimento</i>], <b>ANP</b> [<i>Usinas Autorizadas, Tancagem</i>] e <b>VIBRA</b> [<i>Histórico de vendas, Projeção de Mercado OD</i>]</p>\n",
    "                <br><b>Os objetivos são:</b>\n",
    "                <ol>\n",
    "                    <li>Complementar informações de Usinas Autorizadas com dados de Tancagem</li>\n",
    "                    <li>Extrair do Histórico de Vendas Vibra seus clientes (CNPJ)</li>\n",
    "                    <ol type=\"a\">\n",
    "                        <li>Agrupar CNPJ para criar base com única chave</li>\n",
    "                        <li>Merge com a base formada no Obj1</li>\n",
    "                        <li> ...</li>\n",
    "                    </ol>\n",
    "                </ol>\n",
    "            </td>\n",
    "            <td>Marcel Quintela, Sergio Urzedo Jr</td>\n",
    "            <td>marcel.quintela@avanade.com, sergiourzedojr@gmail.com</td>\n",
    "        </tr>\n",
    "    </tbody>\n",
    "</table>"
   ]
  },
  {
   "cell_type": "markdown",
   "metadata": {
    "nteract": {
     "transient": {
      "deleting": false
     }
    }
   },
   "source": [
    "**NOTAS REUNIÃO: 20230322** \n",
    "\n",
    "- Incluir base **Instituições do MAPA**, para agregar mais cnpj\n",
    "- Incluir base **PROJEÇÃO DE MERCADO OD**[Sales Force - VIBRA] que captura dados ROBO[RECEITA + ANP] -  objetivo coletar volume _tanques de diesel_ - Enriquecer dados de CNPJ Hist Diesel\n",
    "    - Coleta manual, mas existe um conector para o dado ir para AZURE (ainda não automatizado)\n",
    "- **Tancagem ANP** não está claro qual tipo de combustível\n",
    "    - Existe indícios de que seja etanól pela classificação de biocombustíveis dada em variável do banco\n",
    "    - !!! Investigar informação !!! - pode ser útil na formação de clusters de tipos de usinas\n",
    "        - uma forma de investigar é cruzar ANP e PROJEÇÃO e verificar as capacidades dos tanques\n",
    "        - DICA: \n",
    "            - tanque 5.000m³ VIBRA não atende - volume máximo de grandes clentes gira em torno de 50.000m³\n",
    "            - Ficar atento as unidades de medidas - algumas informações poem vir em Litro e não em m³\n",
    "- **AGROCONSULT** - !!! verificar dados de área plantada por CNPJ !!!"
   ]
  },
  {
   "cell_type": "markdown",
   "metadata": {
    "nteract": {
     "transient": {
      "deleting": false
     }
    }
   },
   "source": [
    "1. **MAPEAMENTO DE CLIENTES**\n",
    "\n",
    "- Dentro dos clientes VIBRA estimar os NÃO clientes VIBRA por similaridade\n",
    "\n",
    "2. **TAMANHO DO MERCADO**\n",
    "- Estratégias (considerar as produções regionais com clusters naturais):\n",
    "    - a. Agregação **MÍNIMA** (CNPJ):\n",
    "    - b. Agregação por tamanho da Usina (grupos de CNPJ)\n",
    "    - c. Agregação municipal;\n",
    "    - d. Agregação UF;\n",
    "    - e. Agregração **MÁXIMA** (Regional)\n",
    "- Variáveis disponíveis [até este momento]\n",
    "    - Produção;\n",
    "    - Área plantada;\n",
    "    - Moagem\n",
    "    - Exportação - talvez não traga grandes ganhos pois a info pode não abranger todas as UFs\n"
   ]
  },
  {
   "cell_type": "markdown",
   "metadata": {
    "nteract": {
     "transient": {
      "deleting": false
     }
    }
   },
   "source": [
    "# Setup Inicial"
   ]
  },
  {
   "cell_type": "markdown",
   "metadata": {
    "nteract": {
     "transient": {
      "deleting": false
     }
    }
   },
   "source": [
    "### Carregando linhas com configurações iniciais já escritas em notebook base\n",
    "No bloco de comando \"%run\" não pode ter nenhum outra linha de comando ou comentário"
   ]
  },
  {
   "cell_type": "code",
   "execution_count": 228,
   "metadata": {
    "jupyter": {
     "outputs_hidden": false,
     "source_hidden": false
    },
    "nteract": {
     "transient": {
      "deleting": false
     }
    }
   },
   "outputs": [
    {
     "data": {
      "application/vnd.livy.statement-meta+json": {
       "execution_finish_time": "2023-04-17T20:19:47.9556948Z",
       "execution_start_time": "2023-04-17T20:19:47.9552749Z",
       "livy_statement_state": "available",
       "parent_msg_id": "507ac88c-0d69-476b-af1f-8aeb6b054d8e",
       "queued_time": "2023-04-17T20:19:42.961382Z",
       "session_id": "627",
       "session_start_time": null,
       "spark_jobs": null,
       "spark_pool": null,
       "state": "finished",
       "statement_id": -1
      },
      "text/plain": [
       "StatementMeta(, 627, -1, Finished, Available)"
      ]
     },
     "metadata": {},
     "output_type": "display_data"
    },
    {
     "name": "stdout",
     "output_type": "stream",
     "text": [
      "Configurações carregadas com sucesso!\n"
     ]
    }
   ],
   "source": [
    "%run nb00_xls_to_csv{'blob_relative_path_raw': 'nuvem/Usinas/'}"
   ]
  },
  {
   "cell_type": "code",
   "execution_count": 229,
   "metadata": {
    "jupyter": {
     "outputs_hidden": false,
     "source_hidden": false
    },
    "nteract": {
     "transient": {
      "deleting": false
     }
    }
   },
   "outputs": [
    {
     "data": {
      "application/vnd.livy.statement-meta+json": {
       "execution_finish_time": "2023-04-17T20:19:50.9669304Z",
       "execution_start_time": "2023-04-17T20:19:48.1140688Z",
       "livy_statement_state": "available",
       "parent_msg_id": "ac1f5dda-4533-4d4d-b4c2-0f01cb0a18ee",
       "queued_time": "2023-04-17T20:19:43.1270772Z",
       "session_id": "627",
       "session_start_time": null,
       "spark_jobs": null,
       "spark_pool": "dssparkpool",
       "state": "finished",
       "statement_id": 73
      },
      "text/plain": [
       "StatementMeta(dssparkpool, 627, 73, Finished, Available)"
      ]
     },
     "metadata": {},
     "output_type": "display_data"
    },
    {
     "name": "stdout",
     "output_type": "stream",
     "text": [
      "Requirement already satisfied: ibge in /home/trusted-service-user/cluster-env/env/lib/python3.8/site-packages (0.0.5)\n",
      "Requirement already satisfied: requests in /home/trusted-service-user/cluster-env/env/lib/python3.8/site-packages (from ibge) (2.25.1)\n",
      "Requirement already satisfied: certifi>=2017.4.17 in /home/trusted-service-user/cluster-env/env/lib/python3.8/site-packages (from requests->ibge) (2022.6.15)\n",
      "Requirement already satisfied: idna<3,>=2.5 in /home/trusted-service-user/cluster-env/env/lib/python3.8/site-packages (from requests->ibge) (2.10)\n",
      "Requirement already satisfied: chardet<5,>=3.0.2 in /home/trusted-service-user/cluster-env/env/lib/python3.8/site-packages (from requests->ibge) (4.0.0)\n",
      "Requirement already satisfied: urllib3<1.27,>=1.21.1 in /home/trusted-service-user/cluster-env/env/lib/python3.8/site-packages (from requests->ibge) (1.26.4)\n",
      "\u001b[33mWARNING: Error parsing requirements for traitlets: [Errno 2] No such file or directory: '/home/trusted-service-user/cluster-env/env/lib/python3.8/site-packages/traitlets-5.4.0.dist-info/METADATA'\u001b[0m\u001b[33m\n",
      "\u001b[0m\u001b[33mWARNING: Error parsing requirements for nbformat: [Errno 2] No such file or directory: '/home/trusted-service-user/cluster-env/env/lib/python3.8/site-packages/nbformat-5.6.1.dist-info/METADATA'\u001b[0m\u001b[33m\n",
      "\u001b[0m\u001b[33mWARNING: Error parsing requirements for jsonschema: [Errno 2] No such file or directory: '/home/trusted-service-user/cluster-env/env/lib/python3.8/site-packages/jsonschema-4.16.0.dist-info/METADATA'\u001b[0m\u001b[33m\n",
      "\u001b[0mNote: you may need to restart the kernel to use updated packages.\n"
     ]
    }
   ],
   "source": [
    "pip install ibge                            # coleta informações de geograficas em nível municipal, UF, Região"
   ]
  },
  {
   "cell_type": "code",
   "execution_count": 230,
   "metadata": {
    "jupyter": {
     "outputs_hidden": false,
     "source_hidden": false
    },
    "nteract": {
     "transient": {
      "deleting": false
     }
    }
   },
   "outputs": [
    {
     "data": {
      "application/vnd.livy.statement-meta+json": {
       "execution_finish_time": "2023-04-17T20:19:51.2816659Z",
       "execution_start_time": "2023-04-17T20:19:51.122674Z",
       "livy_statement_state": "available",
       "parent_msg_id": "f2dcfb27-5966-41be-912c-6eec35fd5a2c",
       "queued_time": "2023-04-17T20:19:43.3310662Z",
       "session_id": "627",
       "session_start_time": null,
       "spark_jobs": null,
       "spark_pool": "dssparkpool",
       "state": "finished",
       "statement_id": 74
      },
      "text/plain": [
       "StatementMeta(dssparkpool, 627, 74, Finished, Available)"
      ]
     },
     "metadata": {},
     "output_type": "display_data"
    }
   ],
   "source": [
    "from ibge.localidades import *                          # funções de dados geograficos segundo codificação do IBGE\n",
    "from sklearn.preprocessing import LabelEncoder          # transformar var Categorica em numerica [ordinal ou não]\n",
    "from sklearn.impute import KNNImputer                   # função de imputação baseada em sua vizinhança"
   ]
  },
  {
   "cell_type": "markdown",
   "metadata": {
    "nteract": {
     "transient": {
      "deleting": false
     }
    }
   },
   "source": [
    "# Leitura dos Dados "
   ]
  },
  {
   "cell_type": "code",
   "execution_count": 231,
   "metadata": {
    "jupyter": {
     "outputs_hidden": false,
     "source_hidden": false
    },
    "nteract": {
     "transient": {
      "deleting": false
     }
    }
   },
   "outputs": [
    {
     "data": {
      "application/vnd.livy.statement-meta+json": {
       "execution_finish_time": "2023-04-17T20:19:51.6097882Z",
       "execution_start_time": "2023-04-17T20:19:51.4419116Z",
       "livy_statement_state": "available",
       "parent_msg_id": "796ab9b1-7431-463e-9b10-2e81e4ae273e",
       "queued_time": "2023-04-17T20:19:43.8490432Z",
       "session_id": "627",
       "session_start_time": null,
       "spark_jobs": null,
       "spark_pool": "dssparkpool",
       "state": "finished",
       "statement_id": 75
      },
      "text/plain": [
       "StatementMeta(dssparkpool, 627, 75, Finished, Available)"
      ]
     },
     "metadata": {},
     "output_type": "display_data"
    }
   ],
   "source": [
    "files = [\n",
    "         #'ANP/Usinas_Autorizadas/autorizacoes_biocombustiveis.xlsx', # arquivo com proteção tipo OLE2 usar xlwings\n",
    "         'MAPA/Cadastro_Instituicoes/relatorio_completo_14032023010158.xls',\n",
    "         'ANP/Usinas_Autorizadas/autorizacoes_biocombustiveis.csv',\n",
    "         'ANP/Usinas_Autorizadas/Autorizacoes_biocombustives_revogadas.xlsx',\n",
    "         'ANP/Tancagem/marco2023.csv',\n",
    "         'Vibra/MM_Proj_OD.xlsx',\n",
    "         'Vibra/hist_diesel.csv'\n",
    "        ]"
   ]
  },
  {
   "cell_type": "code",
   "execution_count": 232,
   "metadata": {
    "jupyter": {
     "outputs_hidden": false,
     "source_hidden": false
    },
    "nteract": {
     "transient": {
      "deleting": false
     }
    }
   },
   "outputs": [
    {
     "data": {
      "application/vnd.livy.statement-meta+json": {
       "execution_finish_time": "2023-04-17T20:19:51.9744666Z",
       "execution_start_time": "2023-04-17T20:19:51.7848628Z",
       "livy_statement_state": "available",
       "parent_msg_id": "46563fc5-79da-4b28-b760-f19115dbfcf0",
       "queued_time": "2023-04-17T20:19:44.0600685Z",
       "session_id": "627",
       "session_start_time": null,
       "spark_jobs": null,
       "spark_pool": "dssparkpool",
       "state": "finished",
       "statement_id": 76
      },
      "text/plain": [
       "StatementMeta(dssparkpool, 627, 76, Finished, Available)"
      ]
     },
     "metadata": {},
     "output_type": "display_data"
    }
   ],
   "source": [
    "# NÃO FUNCIONOU BUSCAR FORMAS EFICAZES\n",
    "\n",
    "# workbook = xw.Book(dir_m+files[0])\n",
    "# sheet1 = workbook.sheets['Produtores de Etanol'].used_range.value\n",
    "# df = pd.DataFrame(sheet1)\n"
   ]
  },
  {
   "cell_type": "markdown",
   "metadata": {
    "nteract": {
     "transient": {
      "deleting": false
     }
    }
   },
   "source": [
    "## Cadastro de Instituições - MAPA"
   ]
  },
  {
   "cell_type": "code",
   "execution_count": 233,
   "metadata": {
    "jupyter": {
     "outputs_hidden": false,
     "source_hidden": false
    },
    "nteract": {
     "transient": {
      "deleting": false
     }
    }
   },
   "outputs": [
    {
     "data": {
      "application/vnd.livy.statement-meta+json": {
       "execution_finish_time": "2023-04-17T20:19:52.3099614Z",
       "execution_start_time": "2023-04-17T20:19:52.1337947Z",
       "livy_statement_state": "available",
       "parent_msg_id": "e1ac9016-65bc-4072-9b17-890f25a11978",
       "queued_time": "2023-04-17T20:19:44.517246Z",
       "session_id": "627",
       "session_start_time": null,
       "spark_jobs": null,
       "spark_pool": "dssparkpool",
       "state": "finished",
       "statement_id": 77
      },
      "text/plain": [
       "StatementMeta(dssparkpool, 627, 77, Finished, Available)"
      ]
     },
     "metadata": {},
     "output_type": "display_data"
    }
   ],
   "source": [
    "inst = pd.read_excel(abfss_path_raw + files[0])\n",
    "\n",
    "inst['CNPJ'] = [re.sub('[^a-zA-Z0-9 \\\\\\]','',s) for s in inst['CNPJ']]          # ajuste de CNPJ remover caracts especiais\n",
    "inst = inst[['CNPJ','Razão social','Cidade','UF','CEP','Produção Safra']]       # selecionando colunas a serem utilizadas\n",
    "inst.columns = ['CNPJ','R_SOCIAL','MUNICIPIO','UF','CEP','PRODUCAO_SAFRA']\n"
   ]
  },
  {
   "cell_type": "markdown",
   "metadata": {
    "nteract": {
     "transient": {
      "deleting": false
     }
    }
   },
   "source": [
    "## Usinas Autorizadas - ANP"
   ]
  },
  {
   "cell_type": "code",
   "execution_count": 234,
   "metadata": {
    "jupyter": {
     "outputs_hidden": false,
     "source_hidden": false
    },
    "nteract": {
     "transient": {
      "deleting": false
     }
    }
   },
   "outputs": [
    {
     "data": {
      "application/vnd.livy.statement-meta+json": {
       "execution_finish_time": "2023-04-17T20:19:52.6421855Z",
       "execution_start_time": "2023-04-17T20:19:52.4832393Z",
       "livy_statement_state": "available",
       "parent_msg_id": "b04acf6a-7e37-4691-ab9c-aeca528a2534",
       "queued_time": "2023-04-17T20:19:44.8765067Z",
       "session_id": "627",
       "session_start_time": null,
       "spark_jobs": null,
       "spark_pool": "dssparkpool",
       "state": "finished",
       "statement_id": 78
      },
      "text/plain": [
       "StatementMeta(dssparkpool, 627, 78, Finished, Available)"
      ]
     },
     "metadata": {},
     "output_type": "display_data"
    }
   ],
   "source": [
    "col_names = pd.read_csv(abfss_path_raw + files[1], nrows=0).columns             # coletando informações de cabeçalho\n",
    "col_types = {col: str for col in col_names if col not in {}}                    # todas as colunas como str\n",
    "\n",
    "usinas_a = pd.read_csv(abfss_path_raw + files[1] , sep=\";\", dtype=col_types,\n",
    "                        storage_options = {'linked_service' : linked_service_raw})\n",
    "\n",
    "usinas_a.dropna(axis='columns',how='all', inplace=True)                         # limpando colunas vazias\n",
    "usinas_a.columns = ['R_SOCIAL', 'CNPJ', 'MUNICIPIO','UF',                       # renomeando colunas\n",
    "                  'CAP_HIDRATADO', 'CAP_ANIDRO', \n",
    "                  'AUTORIZA_AO', 'LINK_AO',\n",
    "                  'AUTORIZA_AEA', 'LINK_AEA']                               \n",
    "\n",
    "\n",
    "usinas_a['CNPJ'] = [re.sub('[^a-zA-Z0-9 \\\\\\]','',s) for s in usinas_a['CNPJ']]    # ajuste de CNPJ remover caracts especiais\n",
    "usinas_a = usinas_a[['CNPJ','R_SOCIAL', 'MUNICIPIO', 'UF',                       # selecionando colunas a serem utilizadas\n",
    "                     'CAP_HIDRATADO','CAP_ANIDRO']]                   \n",
    "\n",
    "del(col_names, col_types)"
   ]
  },
  {
   "cell_type": "markdown",
   "metadata": {
    "nteract": {
     "transient": {
      "deleting": false
     }
    }
   },
   "source": [
    "## Usinas Revogadas - ANP"
   ]
  },
  {
   "cell_type": "code",
   "execution_count": 235,
   "metadata": {
    "jupyter": {
     "outputs_hidden": false,
     "source_hidden": false
    },
    "nteract": {
     "transient": {
      "deleting": false
     }
    }
   },
   "outputs": [
    {
     "data": {
      "application/vnd.livy.statement-meta+json": {
       "execution_finish_time": "2023-04-17T20:19:53.3614115Z",
       "execution_start_time": "2023-04-17T20:19:52.8029888Z",
       "livy_statement_state": "available",
       "parent_msg_id": "c8a376ff-e642-49f0-a143-14aa6edd58df",
       "queued_time": "2023-04-17T20:19:45.2088536Z",
       "session_id": "627",
       "session_start_time": null,
       "spark_jobs": null,
       "spark_pool": "dssparkpool",
       "state": "finished",
       "statement_id": 79
      },
      "text/plain": [
       "StatementMeta(dssparkpool, 627, 79, Finished, Available)"
      ]
     },
     "metadata": {},
     "output_type": "display_data"
    }
   ],
   "source": [
    "usinas_r  = pd.read_excel(abfss_path_raw + files[2], sheet_name='Produtores de Etanol', \n",
    "                            skiprows=5, usecols='A:B,D:F,H:I',\n",
    "                            storage_options = {'linked_service' : linked_service_raw})\n",
    "usinas_r.columns = ['R_SOCIAL', 'CNPJ', 'MUNICIPIO', 'UF', 'SITUACAO', 'CAP_ANIDRO', 'CAP_HIDRATADO']\n",
    "usinas_r = usinas_r[['CNPJ','R_SOCIAL', 'MUNICIPIO', 'UF','CAP_HIDRATADO','CAP_ANIDRO','SITUACAO']]\n",
    "\n",
    "usinas_r['CNPJ'] = usinas_r['CNPJ'].astype(str).apply(lambda x: x.zfill(14))  #Transforma CPNJ em string"
   ]
  },
  {
   "cell_type": "markdown",
   "metadata": {
    "nteract": {
     "transient": {
      "deleting": false
     }
    }
   },
   "source": [
    "### Unificar Usinas - ANP"
   ]
  },
  {
   "cell_type": "code",
   "execution_count": 236,
   "metadata": {
    "jupyter": {
     "outputs_hidden": false,
     "source_hidden": false
    },
    "nteract": {
     "transient": {
      "deleting": false
     }
    }
   },
   "outputs": [
    {
     "data": {
      "application/vnd.livy.statement-meta+json": {
       "execution_finish_time": "2023-04-17T20:19:53.7023172Z",
       "execution_start_time": "2023-04-17T20:19:53.5374305Z",
       "livy_statement_state": "available",
       "parent_msg_id": "7d1c1d2e-abb6-4a5c-9e7f-a314e04f207f",
       "queued_time": "2023-04-17T20:19:45.5443442Z",
       "session_id": "627",
       "session_start_time": null,
       "spark_jobs": null,
       "spark_pool": "dssparkpool",
       "state": "finished",
       "statement_id": 80
      },
      "text/plain": [
       "StatementMeta(dssparkpool, 627, 80, Finished, Available)"
      ]
     },
     "metadata": {},
     "output_type": "display_data"
    }
   ],
   "source": [
    "usinas_anp = usinas_a.merge(usinas_r, how='outer', on='CNPJ')"
   ]
  },
  {
   "cell_type": "code",
   "execution_count": 237,
   "metadata": {
    "jupyter": {
     "outputs_hidden": false,
     "source_hidden": false
    },
    "nteract": {
     "transient": {
      "deleting": false
     }
    }
   },
   "outputs": [
    {
     "data": {
      "application/vnd.livy.statement-meta+json": {
       "execution_finish_time": "2023-04-17T20:19:55.3591676Z",
       "execution_start_time": "2023-04-17T20:19:53.8838848Z",
       "livy_statement_state": "available",
       "parent_msg_id": "2ef630a7-d49a-4baa-9d6b-f81cb7ba5677",
       "queued_time": "2023-04-17T20:19:45.8720019Z",
       "session_id": "627",
       "session_start_time": null,
       "spark_jobs": null,
       "spark_pool": "dssparkpool",
       "state": "finished",
       "statement_id": 81
      },
      "text/plain": [
       "StatementMeta(dssparkpool, 627, 81, Finished, Available)"
      ]
     },
     "metadata": {},
     "output_type": "display_data"
    }
   ],
   "source": [
    "# preenchendo informações vindas da base MM_proj\n",
    "usinas_anp['R_SOCIAL_x'] = usinas_anp['R_SOCIAL_x'].fillna(usinas_anp['R_SOCIAL_y'])\n",
    "usinas_anp['MUNICIPIO_x'] = usinas_anp['MUNICIPIO_x'].fillna(usinas_anp['MUNICIPIO_y'])\n",
    "usinas_anp['UF_x'] = usinas_anp['UF_x'].fillna(usinas_anp['UF_y'])\n",
    "usinas_anp['CAP_HIDRATADO_x'] = usinas_anp['CAP_HIDRATADO_x'].fillna(usinas_anp['CAP_HIDRATADO_y'])\n",
    "usinas_anp['CAP_ANIDRO_x'] = usinas_anp['CAP_ANIDRO_x'].fillna(usinas_anp['CAP_ANIDRO_y'])\n",
    "\n",
    "usinas_anp['SITUACAO'] = usinas_anp['SITUACAO'].fillna('ATIVA')\n",
    "usinas_anp.rename(columns={'SITUACAO': 'SITUACAO_ANP'}, inplace=True)\n",
    "\n",
    "usinas_anp.drop(usinas_anp.filter(regex='_y').columns, axis=1, inplace=True)                            # Eliminando colunas com _y\n",
    "usinas_anp.rename(columns=lambda s: s[:-2] if '_x' in s else s, inplace=True)                           # Renomeando colunas com _x "
   ]
  },
  {
   "cell_type": "markdown",
   "metadata": {
    "nteract": {
     "transient": {
      "deleting": false
     }
    }
   },
   "source": [
    "## Questões norteadoras\n",
    "\n",
    "     "
   ]
  },
  {
   "cell_type": "markdown",
   "metadata": {
    "nteract": {
     "transient": {
      "deleting": false
     }
    }
   },
   "source": [
    "- **1.** Qual Base utilizar como fonte para o tamanho do mercado?\n",
    "    - a) Instalações do MAPA; não só de produção etanol + tb de outro subprodutos\n",
    "    - b) Usinas Autorizadas da ANP;\n",
    "    - c) Usinas Autorizadas + Revogadas da ANP.\n",
    "\n",
    "    - **SUGESTÃO**\n",
    "        - Utilizar o MAPA enriquecendo a base com informações trazidas das bases (Autorizadas + Revogadas) da ANP + Tancagens Etanol da ANP e Tancagem Diesel da VIBRA.\n",
    "\n",
    "    - **Possibilidades:**\n",
    "        - 1. Utilizar MAPA enriquecida somente com informações da ANP Autorizadas;\n",
    "        - 2. Utilizar somente ANP Autorizadas enriquecida com informações do MAPA.\n",
    "\n",
    "- **2.** Agregar os dados de Tancagem de Diesel de MM_Proj_OD informados pela VIBRA\n",
    "    - a) CLENTE VIBRA: Similaridade por Tancagem Diesel + Localidade (Minicípio + UF);\n",
    "    - b) NÃO CLIENTE VIBRA: Similaridade por Localidade (Minicípio + UF) e Capacidade de Produção(Tancagem Etanol).\n",
    "\n",
    "- **3.** IMPUTAÇÕES: Independente das sugestões ou possibilidades, fazer inputações de informações faltantes.\n",
    "    - Possibilidade de imputações por meio de regressão a média.\n",
    "    - Imputar por Similaridade assumindo o valor da usina mais similar (menor ângulo lei dos cossenos)"
   ]
  },
  {
   "cell_type": "markdown",
   "metadata": {
    "nteract": {
     "transient": {
      "deleting": false
     }
    }
   },
   "source": [
    "# Consições a verificar\n",
    "\n",
    "- checar dentre as revogadas se exitem algumas com consumo no histórico Vibra\n",
    "- Não deixar de atentar para o consumo de tanques de diesel dos cnpj - giro baseado no histórico de vendas vibra"
   ]
  },
  {
   "cell_type": "markdown",
   "metadata": {
    "nteract": {
     "transient": {
      "deleting": false
     }
    }
   },
   "source": [
    "## Tancagem - ANP"
   ]
  },
  {
   "cell_type": "code",
   "execution_count": 238,
   "metadata": {
    "jupyter": {
     "outputs_hidden": false,
     "source_hidden": false
    },
    "nteract": {
     "transient": {
      "deleting": false
     }
    }
   },
   "outputs": [
    {
     "data": {
      "application/vnd.livy.statement-meta+json": {
       "execution_finish_time": "2023-04-17T20:19:56.0787511Z",
       "execution_start_time": "2023-04-17T20:19:55.5154409Z",
       "livy_statement_state": "available",
       "parent_msg_id": "fce4d5fd-5285-4867-a6ab-f7fd04ad48e8",
       "queued_time": "2023-04-17T20:19:46.1866732Z",
       "session_id": "627",
       "session_start_time": null,
       "spark_jobs": null,
       "spark_pool": "dssparkpool",
       "state": "finished",
       "statement_id": 82
      },
      "text/plain": [
       "StatementMeta(dssparkpool, 627, 82, Finished, Available)"
      ]
     },
     "metadata": {},
     "output_type": "display_data"
    }
   ],
   "source": [
    "col_names = pd.read_csv(abfss_path_raw + files[3], nrows=0).columns         # coletando informações de cabeçalho\n",
    "col_types = {col: str for col in col_names if col not in {}}                # todas as colunas como str\n",
    "\n",
    "tanque = pd.read_csv(abfss_path_raw + files[3], dtype=col_types,\n",
    "                        storage_options = {'linked_service' : linked_service_raw})\n",
    "\n",
    "# ajuste das colunas para seus tipos originais\n",
    "tanque['Data'] = pd.to_datetime(tanque['Data']) \n",
    "tanque['TancagemM3'] = tanque['TancagemM3'].astype(int)\n",
    "tanque.rename(columns={'Cnpj':'CNPJ'}, inplace=True)\n",
    "\n",
    "del(col_names, col_types)                                                   # eliminando dados de outra leitura"
   ]
  },
  {
   "cell_type": "markdown",
   "metadata": {
    "nteract": {
     "transient": {
      "deleting": false
     }
    }
   },
   "source": [
    "### Filtrando infos do Setor"
   ]
  },
  {
   "cell_type": "code",
   "execution_count": 239,
   "metadata": {
    "jupyter": {
     "outputs_hidden": false,
     "source_hidden": false
    },
    "nteract": {
     "transient": {
      "deleting": false
     }
    }
   },
   "outputs": [
    {
     "data": {
      "application/vnd.livy.statement-meta+json": {
       "execution_finish_time": "2023-04-17T20:19:56.436045Z",
       "execution_start_time": "2023-04-17T20:19:56.2565468Z",
       "livy_statement_state": "available",
       "parent_msg_id": "c7dfc0db-e7ca-4539-94fc-1e6a4646a490",
       "queued_time": "2023-04-17T20:19:46.5147546Z",
       "session_id": "627",
       "session_start_time": null,
       "spark_jobs": null,
       "spark_pool": "dssparkpool",
       "state": "finished",
       "statement_id": 83
      },
      "text/plain": [
       "StatementMeta(dssparkpool, 627, 83, Finished, Available)"
      ]
     },
     "metadata": {},
     "output_type": "display_data"
    }
   ],
   "source": [
    "# Dados de tanque a serem considerados tancagem de volume de etanol produzido\n",
    "tanque_g = tanque.groupby(['CNPJ','NomeEmpresarial','Municipio','Segmento','GrupoDeProdutos'])['TancagemM3'].sum().to_frame()\n",
    "tanque_g.reset_index(inplace=True)\n",
    " \n",
    "filtro_1 = (tanque_g['Segmento'] == 'INSTALAÇÃO PRODUTORA DE ETANOL')\n",
    "filtro_2 = (tanque_g['GrupoDeProdutos']=='DERIVADOS E BIOCOMBUSTÍVEIS')\n",
    "\n",
    "tanque_g = tanque_g[filtro_1 & filtro_2]\n",
    "\n",
    "del(filtro_1, filtro_2)"
   ]
  },
  {
   "cell_type": "markdown",
   "metadata": {
    "nteract": {
     "transient": {
      "deleting": false
     }
    }
   },
   "source": [
    "## Market Share Projeção OD - VIBRA"
   ]
  },
  {
   "cell_type": "code",
   "execution_count": 240,
   "metadata": {
    "jupyter": {
     "outputs_hidden": false,
     "source_hidden": false
    },
    "nteract": {
     "transient": {
      "deleting": false
     }
    }
   },
   "outputs": [
    {
     "data": {
      "application/vnd.livy.statement-meta+json": {
       "execution_finish_time": "2023-04-17T20:19:57.2055718Z",
       "execution_start_time": "2023-04-17T20:19:56.6183196Z",
       "livy_statement_state": "available",
       "parent_msg_id": "48af0791-dc49-4f7d-82d6-85f231e7073b",
       "queued_time": "2023-04-17T20:19:47.3045015Z",
       "session_id": "627",
       "session_start_time": null,
       "spark_jobs": null,
       "spark_pool": "dssparkpool",
       "state": "finished",
       "statement_id": 84
      },
      "text/plain": [
       "StatementMeta(dssparkpool, 627, 84, Finished, Available)"
      ]
     },
     "metadata": {},
     "output_type": "display_data"
    }
   ],
   "source": [
    "mm_proj = pd.read_excel(abfss_path_raw + files[4], usecols='B:I,R,Z',\n",
    "                        storage_options = {'linked_service' : linked_service_raw})"
   ]
  },
  {
   "cell_type": "code",
   "execution_count": 241,
   "metadata": {
    "jupyter": {
     "outputs_hidden": false,
     "source_hidden": false
    },
    "nteract": {
     "transient": {
      "deleting": false
     }
    }
   },
   "outputs": [
    {
     "data": {
      "application/vnd.livy.statement-meta+json": {
       "execution_finish_time": "2023-04-17T20:19:57.5507876Z",
       "execution_start_time": "2023-04-17T20:19:57.3859262Z",
       "livy_statement_state": "available",
       "parent_msg_id": "8f012506-a325-4e89-888b-1bf0d54451e6",
       "queued_time": "2023-04-17T20:19:47.6462464Z",
       "session_id": "627",
       "session_start_time": null,
       "spark_jobs": null,
       "spark_pool": "dssparkpool",
       "state": "finished",
       "statement_id": 85
      },
      "text/plain": [
       "StatementMeta(dssparkpool, 627, 85, Finished, Available)"
      ]
     },
     "metadata": {},
     "output_type": "display_data"
    }
   ],
   "source": [
    "mm_proj['CNPJ'] = mm_proj['CNPJ'].astype(str).apply(lambda x: x.zfill(14))  #Transforma CPNJ em string\n",
    "mm_proj = mm_proj[~mm_proj['CNPJ'].str.startswith('000')]                   # removendo possiveis CPFs"
   ]
  },
  {
   "cell_type": "code",
   "execution_count": 242,
   "metadata": {
    "jupyter": {
     "outputs_hidden": false,
     "source_hidden": false
    },
    "nteract": {
     "transient": {
      "deleting": false
     }
    }
   },
   "outputs": [
    {
     "data": {
      "application/vnd.livy.statement-meta+json": {
       "execution_finish_time": "2023-04-17T20:19:57.879995Z",
       "execution_start_time": "2023-04-17T20:19:57.7078026Z",
       "livy_statement_state": "available",
       "parent_msg_id": "92896e3c-a09d-456b-b69a-613fca8b1877",
       "queued_time": "2023-04-17T20:19:47.9844945Z",
       "session_id": "627",
       "session_start_time": null,
       "spark_jobs": null,
       "spark_pool": "dssparkpool",
       "state": "finished",
       "statement_id": 86
      },
      "text/plain": [
       "StatementMeta(dssparkpool, 627, 86, Finished, Available)"
      ]
     },
     "metadata": {},
     "output_type": "display_data"
    }
   ],
   "source": [
    "mm_proj.drop_duplicates('CNPJ', keep='first', inplace=True)"
   ]
  },
  {
   "cell_type": "markdown",
   "metadata": {
    "nteract": {
     "transient": {
      "deleting": false
     }
    }
   },
   "source": [
    "## 1ª Unificação das Bases\n",
    "Base de dados de referência: **CADASTRO DE INSTITUIÇÕES - MAPA**"
   ]
  },
  {
   "cell_type": "code",
   "execution_count": 243,
   "metadata": {
    "jupyter": {
     "outputs_hidden": false,
     "source_hidden": false
    },
    "nteract": {
     "transient": {
      "deleting": false
     }
    }
   },
   "outputs": [
    {
     "data": {
      "application/vnd.livy.statement-meta+json": {
       "execution_finish_time": "2023-04-17T20:19:58.2060609Z",
       "execution_start_time": "2023-04-17T20:19:58.0357799Z",
       "livy_statement_state": "available",
       "parent_msg_id": "8d4c8546-9bb7-436d-b94e-85c7b5ada111",
       "queued_time": "2023-04-17T20:19:48.3113913Z",
       "session_id": "627",
       "session_start_time": null,
       "spark_jobs": null,
       "spark_pool": "dssparkpool",
       "state": "finished",
       "statement_id": 87
      },
      "text/plain": [
       "StatementMeta(dssparkpool, 627, 87, Finished, Available)"
      ]
     },
     "metadata": {},
     "output_type": "display_data"
    }
   ],
   "source": [
    "usinas_e = (\n",
    "                inst[['CNPJ','R_SOCIAL','MUNICIPIO','UF','PRODUCAO_SAFRA']].merge(\n",
    "                    usinas_anp, how='outer', on='CNPJ').merge(\n",
    "                        tanque_g, how='left', on='CNPJ')\n",
    "            )\n",
    "\n",
    "# preenchendo informações vindas da usinas_anp\n",
    "usinas_e['R_SOCIAL'] = usinas_e['R_SOCIAL_x'].fillna(usinas_e['R_SOCIAL_y'])\n",
    "usinas_e['MUNICIPIO'] = usinas_e['MUNICIPIO_x'].fillna(usinas_e['MUNICIPIO_y'])\n",
    "usinas_e['UF'] = usinas_e['UF_x'].fillna(usinas_e['UF_y'])\n",
    "\n",
    "usinas_e = usinas_e[['CNPJ',\n",
    "                     'R_SOCIAL',\n",
    "                     'MUNICIPIO',\n",
    "                     'UF',\n",
    "                     'PRODUCAO_SAFRA',\n",
    "                     'SITUACAO_ANP',\n",
    "                     'CAP_HIDRATADO',\n",
    "                     'CAP_ANIDRO',\n",
    "                     'TancagemM3']]\n",
    "\n",
    "usinas_e.rename(columns={'PRODUCAO_SAFRA':'PRODUCAO', 'TancagemM3':'TANCAGEM_ETANOL'}, inplace=True)"
   ]
  },
  {
   "cell_type": "markdown",
   "metadata": {
    "nteract": {
     "transient": {
      "deleting": false
     }
    }
   },
   "source": [
    "## 2ª Unificação das Bases"
   ]
  },
  {
   "cell_type": "code",
   "execution_count": 244,
   "metadata": {
    "jupyter": {
     "outputs_hidden": false,
     "source_hidden": false
    },
    "nteract": {
     "transient": {
      "deleting": false
     }
    }
   },
   "outputs": [
    {
     "data": {
      "application/vnd.livy.statement-meta+json": {
       "execution_finish_time": "2023-04-17T20:19:58.6102022Z",
       "execution_start_time": "2023-04-17T20:19:58.4084702Z",
       "livy_statement_state": "available",
       "parent_msg_id": "d6e97623-854d-4685-9d19-f259084eb0bd",
       "queued_time": "2023-04-17T20:19:48.5332562Z",
       "session_id": "627",
       "session_start_time": null,
       "spark_jobs": null,
       "spark_pool": "dssparkpool",
       "state": "finished",
       "statement_id": 88
      },
      "text/plain": [
       "StatementMeta(dssparkpool, 627, 88, Finished, Available)"
      ]
     },
     "metadata": {},
     "output_type": "display_data"
    }
   ],
   "source": [
    "# Juntando as bases de Usinas MAPA enriquecida com infos da ANP de Autorização e Tancagem de Etanol \n",
    "# a base de Clientes do segmento Usinas do MM_Projeção da Vibra \n",
    "usinas_e2 = (\n",
    "                usinas_e.merge(\n",
    "                mm_proj[['CNPJ',\n",
    "                         'COD_SAP',\n",
    "                         'RSOCIAL',\n",
    "                         'MUNIC',\n",
    "                         'UF', \n",
    "                         'Tancagem',\n",
    "                         'AECO']], how='left', on='CNPJ')\n",
    "            )"
   ]
  },
  {
   "cell_type": "code",
   "execution_count": 245,
   "metadata": {
    "jupyter": {
     "outputs_hidden": false,
     "source_hidden": false
    },
    "nteract": {
     "transient": {
      "deleting": false
     }
    }
   },
   "outputs": [
    {
     "data": {
      "application/vnd.livy.statement-meta+json": {
       "execution_finish_time": "2023-04-17T20:19:58.9577826Z",
       "execution_start_time": "2023-04-17T20:19:58.7755991Z",
       "livy_statement_state": "available",
       "parent_msg_id": "07dd5ba3-3e63-42b0-8793-435c0568a592",
       "queued_time": "2023-04-17T20:19:48.9918409Z",
       "session_id": "627",
       "session_start_time": null,
       "spark_jobs": null,
       "spark_pool": "dssparkpool",
       "state": "finished",
       "statement_id": 89
      },
      "text/plain": [
       "StatementMeta(dssparkpool, 627, 89, Finished, Available)"
      ]
     },
     "metadata": {},
     "output_type": "display_data"
    }
   ],
   "source": [
    "# preenchendo informações vindas da base MM_proj\n",
    "usinas_e2['R_SOCIAL'] = usinas_e2['R_SOCIAL'].fillna(usinas_e2['RSOCIAL'])\n",
    "usinas_e2['MUNICIPIO'] = usinas_e2['MUNICIPIO'].fillna(usinas_e2['MUNIC'])\n",
    "usinas_e2['UF'] = usinas_e2['UF_x'].fillna(usinas_e2['UF_y'])\n",
    "\n",
    "#usinas_e2['CLIENTE'] = usinas_e2['COD_SAP'].notnull().astype(int) # Se COD_SAP não nulo Verdade transformando para int da 1\n",
    "\n",
    "#Mantendo somente as columas de interesse\n",
    "colunas = ['CNPJ', \n",
    "           'R_SOCIAL',\n",
    "           'UF_x',\n",
    "           'MUNICIPIO',\n",
    "           'PRODUCAO',\n",
    "           'SITUACAO_ANP',\n",
    "#           'CLIENTE',          # Explicar para o MArcel pq a marcação aqui se é cliente não faz sentido\n",
    "           'CAP_HIDRATADO',\n",
    "           'CAP_ANIDRO',\n",
    "           'TANCAGEM_ETANOL',\n",
    "           'Tancagem',\n",
    "           'COD_SAP',\n",
    "           'AECO']\n",
    "\n",
    "usinas = usinas_e2[colunas]\n",
    "usinas.rename(columns={'UF_x':'UF', 'Tancagem':'TANCAGEM_DIESEL'}, inplace=True)\n",
    "\n",
    "del(usinas_e2, usinas_e, usinas_a, usinas_r, usinas_anp, inst, tanque, tanque_g)"
   ]
  },
  {
   "cell_type": "code",
   "execution_count": 246,
   "metadata": {
    "jupyter": {
     "outputs_hidden": false,
     "source_hidden": false
    },
    "nteract": {
     "transient": {
      "deleting": false
     }
    }
   },
   "outputs": [
    {
     "data": {
      "application/vnd.livy.statement-meta+json": {
       "execution_finish_time": "2023-04-17T20:19:59.2813008Z",
       "execution_start_time": "2023-04-17T20:19:59.1100001Z",
       "livy_statement_state": "available",
       "parent_msg_id": "90ed4b39-fbb2-471c-ba90-334b3fecb5db",
       "queued_time": "2023-04-17T20:19:49.3994094Z",
       "session_id": "627",
       "session_start_time": null,
       "spark_jobs": null,
       "spark_pool": "dssparkpool",
       "state": "finished",
       "statement_id": 90
      },
      "text/plain": [
       "StatementMeta(dssparkpool, 627, 90, Finished, Available)"
      ]
     },
     "metadata": {},
     "output_type": "display_data"
    }
   ],
   "source": [
    "# Ajuste de informação float gravada como string\n",
    "usinas['CAP_HIDRATADO'] = [x if type(x)==float else x.replace(\",\",'.') for x in  usinas['CAP_HIDRATADO']]\n",
    "usinas['CAP_HIDRATADO'] = usinas['CAP_HIDRATADO'].astype(float)\n",
    "\n",
    "# Ajuste de para maiusculas\n",
    "#usinas = usinas.apply(lambda x: x.astype(str).str.upper())"
   ]
  },
  {
   "cell_type": "markdown",
   "metadata": {
    "nteract": {
     "transient": {
      "deleting": false
     }
    }
   },
   "source": [
    "# Imputação de dados das Tancagens"
   ]
  },
  {
   "cell_type": "code",
   "execution_count": 247,
   "metadata": {
    "jupyter": {
     "outputs_hidden": false,
     "source_hidden": false
    },
    "nteract": {
     "transient": {
      "deleting": false
     }
    }
   },
   "outputs": [
    {
     "data": {
      "application/vnd.livy.statement-meta+json": {
       "execution_finish_time": "2023-04-17T20:19:59.9859176Z",
       "execution_start_time": "2023-04-17T20:19:59.4379532Z",
       "livy_statement_state": "available",
       "parent_msg_id": "b6f97d79-7cff-4690-8083-2735d1862e6b",
       "queued_time": "2023-04-17T20:19:49.5883489Z",
       "session_id": "627",
       "session_start_time": null,
       "spark_jobs": null,
       "spark_pool": "dssparkpool",
       "state": "finished",
       "statement_id": 91
      },
      "text/plain": [
       "StatementMeta(dssparkpool, 627, 91, Finished, Available)"
      ]
     },
     "metadata": {},
     "output_type": "display_data"
    }
   ],
   "source": [
    "# colentando cod nomes UFs\n",
    "uf = pd.json_normalize(Estados().json_ibge)\n",
    "\n",
    "# agregando infos geograficas as usinas\n",
    "usinas = usinas.merge(uf[['id','sigla','regiao.id','regiao.sigla']], how='left', left_on='UF', right_on='sigla')\n",
    "usinas.rename(columns={'id':'ID_UF','regiao.id':'ID_REGIAO','regiao.sigla':'REGIAO'}, inplace=True)\n",
    "usinas.drop('sigla', axis=1, inplace=True)\n",
    "del(uf)"
   ]
  },
  {
   "cell_type": "code",
   "execution_count": 248,
   "metadata": {
    "jupyter": {
     "outputs_hidden": false,
     "source_hidden": false
    },
    "nteract": {
     "transient": {
      "deleting": false
     }
    }
   },
   "outputs": [
    {
     "data": {
      "application/vnd.livy.statement-meta+json": {
       "execution_finish_time": "2023-04-17T20:20:00.3230186Z",
       "execution_start_time": "2023-04-17T20:20:00.1523281Z",
       "livy_statement_state": "available",
       "parent_msg_id": "4abda97d-6bbd-4849-8278-706dff1be460",
       "queued_time": "2023-04-17T20:19:49.8130735Z",
       "session_id": "627",
       "session_start_time": null,
       "spark_jobs": null,
       "spark_pool": "dssparkpool",
       "state": "finished",
       "statement_id": 92
      },
      "text/plain": [
       "StatementMeta(dssparkpool, 627, 92, Finished, Available)"
      ]
     },
     "metadata": {},
     "output_type": "display_data"
    }
   ],
   "source": [
    "# criando validador para o tipo de imputação: TIPO_IMP -  0: UF; 1:REGIAO\n",
    "\n",
    "def validador_impt (dados, alvo, chave='CNPJ', geo='UF'):\n",
    "    df = dados.copy()\n",
    "    df['TIPO_IMP'] = 0                                                               # Todos assumem, a priori, que será por UF\n",
    "    uf = df[geo].value_counts().index.to_list()\n",
    "    for i in uf:\n",
    "        falta = df[df[geo]==i][alvo].isna().sum()/len(df[df[geo]==i])\n",
    "        if falta >=0.6:                                                             # se 60% dos dados forem faltantes faz por REGIAO\n",
    "            df.loc[df[geo]==i, 'TIPO_IMP'] = 1\n",
    "\n",
    "    df.sort_values(chave, ignore_index=True, inplace=True)\n",
    "    #df.reset_index(drop=True, inplace=True)\n",
    "    return(df)"
   ]
  },
  {
   "cell_type": "markdown",
   "metadata": {
    "nteract": {
     "transient": {
      "deleting": false
     }
    }
   },
   "source": [
    "**NOTA** criar nova regionalização a partir das infors das bases de Distribuição da VIBRA - SERGIO vai passar (Reunião 13/04)"
   ]
  },
  {
   "cell_type": "markdown",
   "metadata": {
    "nteract": {
     "transient": {
      "deleting": false
     }
    }
   },
   "source": [
    "**Nota** verificar a possibilidade de saida dos clusters. na documentação do KNNImputer"
   ]
  },
  {
   "cell_type": "markdown",
   "metadata": {
    "nteract": {
     "transient": {
      "deleting": false
     }
    }
   },
   "source": [
    "**NOTA** incluir novo nível regional: N-NE e Centro-Sul, conforme dados de produção do MAPA - AGROSONCULT\n",
    "\n",
    "**NOTA** incluir coluna se o dado é imputado ou não - tem na função update um parametro para isso"
   ]
  },
  {
   "cell_type": "code",
   "execution_count": 249,
   "metadata": {
    "jupyter": {
     "outputs_hidden": false,
     "source_hidden": false
    },
    "nteract": {
     "transient": {
      "deleting": false
     }
    }
   },
   "outputs": [
    {
     "data": {
      "application/vnd.livy.statement-meta+json": {
       "execution_finish_time": "2023-04-17T20:20:00.7096553Z",
       "execution_start_time": "2023-04-17T20:20:00.5473871Z",
       "livy_statement_state": "available",
       "parent_msg_id": "dd1d2c16-0ac5-4582-ab27-fb2ba81c278c",
       "queued_time": "2023-04-17T20:19:50.0288918Z",
       "session_id": "627",
       "session_start_time": null,
       "spark_jobs": null,
       "spark_pool": "dssparkpool",
       "state": "finished",
       "statement_id": 93
      },
      "text/plain": [
       "StatementMeta(dssparkpool, 627, 93, Finished, Available)"
      ]
     },
     "metadata": {},
     "output_type": "display_data"
    }
   ],
   "source": [
    "def imputacao(dados, variaveis, chave, geo='UF', viz=5):\n",
    "    df = dados.copy()\n",
    "    cols = df.columns.drop(variaveis)                                                      # Variáveis auxiliares\n",
    "    query     = 'TIPO_IMP == 0' if geo=='UF' else 'TIPO_IMP == 1'\n",
    "    #viz       = 5                                                                         # 2 if geo=='UF' else 5\n",
    "    loc       = df.query(query)[geo].value_counts().index.to_list()                        # listando as UF\n",
    "    knn       = KNNImputer(n_neighbors=viz, weights = 'distance', add_indicator=False)                           # modelo e imputação\n",
    "    result = pd.DataFrame()                                                                # dataframe que acumulará os resultados por UF\n",
    "\n",
    "    for i in loc:\n",
    "        aux_1 = df[df[geo]==i][cols].reset_index(drop=True)\n",
    "        aux_2 = df[df[geo]==i][variaveis].reset_index(drop=True)\n",
    "        knn.fit(aux_2)\n",
    "        aux = pd.DataFrame(knn.transform(aux_2), columns=aux_2.columns)\n",
    "        aux = aux_1.join(aux)\n",
    "        result = pd.concat([result, aux], axis=0, ignore_index=True)\n",
    "    result.sort_values(chave, ignore_index=True, inplace=True)\n",
    "    #result.reset_index(drop=True, inplace=True)\n",
    "    return (result)"
   ]
  },
  {
   "cell_type": "code",
   "execution_count": 250,
   "metadata": {
    "jupyter": {
     "outputs_hidden": false,
     "source_hidden": false
    },
    "nteract": {
     "transient": {
      "deleting": false
     }
    }
   },
   "outputs": [
    {
     "data": {
      "application/vnd.livy.statement-meta+json": {
       "execution_finish_time": "2023-04-17T20:20:01.0638594Z",
       "execution_start_time": "2023-04-17T20:20:00.8651699Z",
       "livy_statement_state": "available",
       "parent_msg_id": "06b53076-dde6-46dc-825f-b21012d6884b",
       "queued_time": "2023-04-17T20:19:50.2009518Z",
       "session_id": "627",
       "session_start_time": null,
       "spark_jobs": null,
       "spark_pool": "dssparkpool",
       "state": "finished",
       "statement_id": 94
      },
      "text/plain": [
       "StatementMeta(dssparkpool, 627, 94, Finished, Available)"
      ]
     },
     "metadata": {},
     "output_type": "display_data"
    }
   ],
   "source": [
    "def agrega_imputados(dados, variaveis, chave, alvo, nivel, viz):\n",
    "    df = dados.copy()\n",
    "    df = validador_impt(df, alvo)\n",
    "    col = df.columns.drop(variaveis)\n",
    "    for i in nivel:\n",
    "        aux = imputacao(df, variaveis, chave, i, viz).set_index(chave)\n",
    "        df.set_index(chave, inplace=True)\n",
    "        df.update(aux, overwrite=False)\n",
    "        df.reset_index(drop=False, inplace=True)\n",
    "    return(df)\n"
   ]
  },
  {
   "cell_type": "code",
   "execution_count": 251,
   "metadata": {
    "jupyter": {
     "outputs_hidden": false,
     "source_hidden": false
    },
    "nteract": {
     "transient": {
      "deleting": false
     }
    }
   },
   "outputs": [
    {
     "data": {
      "application/vnd.livy.statement-meta+json": {
       "execution_finish_time": "2023-04-17T20:20:01.4069427Z",
       "execution_start_time": "2023-04-17T20:20:01.2411174Z",
       "livy_statement_state": "available",
       "parent_msg_id": "1e380bb9-5bfd-44c9-91fb-c9d8632daff4",
       "queued_time": "2023-04-17T20:19:50.3731599Z",
       "session_id": "627",
       "session_start_time": null,
       "spark_jobs": null,
       "spark_pool": "dssparkpool",
       "state": "finished",
       "statement_id": 95
      },
      "text/plain": [
       "StatementMeta(dssparkpool, 627, 95, Finished, Available)"
      ]
     },
     "metadata": {},
     "output_type": "display_data"
    }
   ],
   "source": [
    "#usinas.to_csv(abfss_path_raw +'usinas_gov.csv')"
   ]
  },
  {
   "cell_type": "code",
   "execution_count": 252,
   "metadata": {
    "jupyter": {
     "outputs_hidden": false,
     "source_hidden": false
    },
    "nteract": {
     "transient": {
      "deleting": false
     }
    }
   },
   "outputs": [
    {
     "data": {
      "application/vnd.livy.statement-meta+json": {
       "execution_finish_time": "2023-04-17T20:20:01.8013127Z",
       "execution_start_time": "2023-04-17T20:20:01.6347829Z",
       "livy_statement_state": "available",
       "parent_msg_id": "4a375e8c-6748-4f68-bb52-3834a8b90734",
       "queued_time": "2023-04-17T20:19:50.6180955Z",
       "session_id": "627",
       "session_start_time": null,
       "spark_jobs": null,
       "spark_pool": "dssparkpool",
       "state": "finished",
       "statement_id": 96
      },
      "text/plain": [
       "StatementMeta(dssparkpool, 627, 96, Finished, Available)"
      ]
     },
     "metadata": {},
     "output_type": "display_data"
    }
   ],
   "source": [
    "usinas_impt  = usinas[['CNPJ','UF','REGIAO','CAP_HIDRATADO','CAP_ANIDRO','TANCAGEM_ETANOL','TANCAGEM_DIESEL']]\n",
    "usinas_impt2 = usinas[['CNPJ','UF','REGIAO','CAP_HIDRATADO','CAP_ANIDRO','TANCAGEM_ETANOL']]\n",
    "teste        = usinas[['CNPJ','UF','REGIAO','CAP_HIDRATADO','CAP_ANIDRO','TANCAGEM_ETANOL','TANCAGEM_DIESEL']]\n",
    "\n",
    "var     = ['CAP_HIDRATADO','CAP_ANIDRO','TANCAGEM_ETANOL','TANCAGEM_DIESEL']\n",
    "var2    = ['CAP_HIDRATADO','CAP_ANIDRO','TANCAGEM_ETANOL']\n",
    "\n",
    "usinas_impt.sort_values('CNPJ', ignore_index=True, inplace=True)\n",
    "usinas_impt2.sort_values('CNPJ', ignore_index=True, inplace=True)"
   ]
  },
  {
   "cell_type": "code",
   "execution_count": 253,
   "metadata": {
    "jupyter": {
     "outputs_hidden": false,
     "source_hidden": false
    },
    "nteract": {
     "transient": {
      "deleting": false
     }
    }
   },
   "outputs": [
    {
     "data": {
      "application/vnd.livy.statement-meta+json": {
       "execution_finish_time": "2023-04-17T20:20:02.5015487Z",
       "execution_start_time": "2023-04-17T20:20:01.9512107Z",
       "livy_statement_state": "available",
       "parent_msg_id": "d88019c3-3e85-47fa-b362-105c70c75265",
       "queued_time": "2023-04-17T20:19:50.8856094Z",
       "session_id": "627",
       "session_start_time": null,
       "spark_jobs": null,
       "spark_pool": "dssparkpool",
       "state": "finished",
       "statement_id": 97
      },
      "text/plain": [
       "StatementMeta(dssparkpool, 627, 97, Finished, Available)"
      ]
     },
     "metadata": {},
     "output_type": "display_data"
    }
   ],
   "source": [
    "# IMPUTANDO TUDO - ATÉ TANCAGEM DIESEL\n",
    "usinas_impt = agrega_imputados(usinas_impt, var, chave='CNPJ', alvo='TANCAGEM_DIESEL', nivel=['UF', 'REGIAO'], viz=5)"
   ]
  },
  {
   "cell_type": "code",
   "execution_count": 254,
   "metadata": {
    "jupyter": {
     "outputs_hidden": false,
     "source_hidden": false
    },
    "nteract": {
     "transient": {
      "deleting": false
     }
    }
   },
   "outputs": [
    {
     "data": {
      "application/vnd.livy.statement-meta+json": {
       "execution_finish_time": "2023-04-17T20:20:02.8439927Z",
       "execution_start_time": "2023-04-17T20:20:02.6687804Z",
       "livy_statement_state": "available",
       "parent_msg_id": "1d24ffa8-455b-419f-9f3e-9678c42ed1d1",
       "queued_time": "2023-04-17T20:19:51.1005623Z",
       "session_id": "627",
       "session_start_time": null,
       "spark_jobs": null,
       "spark_pool": "dssparkpool",
       "state": "finished",
       "statement_id": 98
      },
      "text/plain": [
       "StatementMeta(dssparkpool, 627, 98, Finished, Available)"
      ]
     },
     "metadata": {},
     "output_type": "display_data"
    }
   ],
   "source": [
    "usinas1.update(usinas_impt.set_index('CNPJ'),overwrite=False)\n",
    "usinas1.reset_index(drop=False, inplace=True)"
   ]
  },
  {
   "cell_type": "code",
   "execution_count": 224,
   "metadata": {
    "jupyter": {
     "outputs_hidden": false,
     "source_hidden": false
    },
    "nteract": {
     "transient": {
      "deleting": false
     }
    }
   },
   "outputs": [
    {
     "data": {
      "application/vnd.livy.statement-meta+json": {
       "execution_finish_time": "2023-04-17T20:19:05.3914502Z",
       "execution_start_time": "2023-04-17T20:19:05.185581Z",
       "livy_statement_state": "available",
       "parent_msg_id": "9638c439-f537-4a39-8d92-6c1fd8ea8512",
       "queued_time": "2023-04-17T20:19:05.0382231Z",
       "session_id": "627",
       "session_start_time": null,
       "spark_jobs": null,
       "spark_pool": "dssparkpool",
       "state": "finished",
       "statement_id": 60
      },
      "text/plain": [
       "StatementMeta(dssparkpool, 627, 60, Finished, Available)"
      ]
     },
     "metadata": {},
     "output_type": "display_data"
    }
   ],
   "source": [
    "#Atualização das Usinas com todos as Imputações\n",
    "\n",
    "usinas.set_index('CNPJ', inplace=True)\n",
    "usinas.sort_index(inplace=True)\n",
    "# usinas1 = usinas.copy()\n",
    "# usinas2 = usinas.copy()"
   ]
  },
  {
   "cell_type": "code",
   "execution_count": 100,
   "metadata": {
    "jupyter": {
     "outputs_hidden": false,
     "source_hidden": false
    },
    "nteract": {
     "transient": {
      "deleting": false
     }
    }
   },
   "outputs": [
    {
     "data": {
      "application/vnd.livy.statement-meta+json": {
       "execution_finish_time": "2023-04-17T17:49:59.3997511Z",
       "execution_start_time": "2023-04-17T17:49:58.8381571Z",
       "livy_statement_state": "available",
       "parent_msg_id": "20cda0ce-fc82-49d6-918d-8531141a5e50",
       "queued_time": "2023-04-17T17:49:58.6758802Z",
       "session_id": "625",
       "session_start_time": null,
       "spark_jobs": null,
       "spark_pool": "dssparkpool",
       "state": "finished",
       "statement_id": 124
      },
      "text/plain": [
       "StatementMeta(dssparkpool, 625, 124, Finished, Available)"
      ]
     },
     "metadata": {},
     "output_type": "display_data"
    }
   ],
   "source": [
    "# IMPUTANDO ATÉ ETANOL\n",
    "usinas_impt2 = agrega_imputados(usinas_impt2, var2, chave='CNPJ', alvo='TANCAGEM_ETANOL', nivel=['UF', 'REGIAO'], viz=5)\n",
    "\n",
    "#ATUALIZANDO\n",
    "usinas2.update(usinas_impt2.set_index('CNPJ'),overwrite=False)\n",
    "usinas2.reset_index(drop=False, inplace=True)\n",
    "\n",
    "# IMPUTANDO DIESEL\n",
    "\n",
    "# FAZER AS IMPUTAÇÕES SUCESSIVAS..."
   ]
  },
  {
   "cell_type": "markdown",
   "metadata": {
    "nteract": {
     "transient": {
      "deleting": false
     }
    }
   },
   "source": [
    "\n",
    "\n",
    "\n",
    "### Testes\n",
    "\n",
    "Identificar vizinhos"
   ]
  },
  {
   "cell_type": "code",
   "execution_count": 129,
   "metadata": {
    "jupyter": {
     "outputs_hidden": false,
     "source_hidden": false
    },
    "nteract": {
     "transient": {
      "deleting": false
     }
    }
   },
   "outputs": [
    {
     "data": {
      "application/vnd.livy.statement-meta+json": {
       "execution_finish_time": "2023-04-17T18:55:16.5697974Z",
       "execution_start_time": "2023-04-17T18:55:16.3802441Z",
       "livy_statement_state": "available",
       "parent_msg_id": "f13f4475-ee27-475c-b108-7b5375a77783",
       "queued_time": "2023-04-17T18:55:16.2001184Z",
       "session_id": "626",
       "session_start_time": null,
       "spark_jobs": null,
       "spark_pool": "dssparkpool",
       "state": "finished",
       "statement_id": 145
      },
      "text/plain": [
       "StatementMeta(dssparkpool, 626, 145, Finished, Available)"
      ]
     },
     "metadata": {},
     "output_type": "display_data"
    }
   ],
   "source": [
    "Matriz = np.array ([\n",
    "                    [3, np.nan, 5],\n",
    "                    [1, 0, 0],\n",
    "                    [ 4, 1, 4],\n",
    "                    [ 5, 3, 1]\n",
    "                    ])"
   ]
  },
  {
   "cell_type": "code",
   "execution_count": 130,
   "metadata": {
    "jupyter": {
     "outputs_hidden": false,
     "source_hidden": false
    },
    "nteract": {
     "transient": {
      "deleting": false
     }
    }
   },
   "outputs": [
    {
     "data": {
      "application/vnd.livy.statement-meta+json": {
       "execution_finish_time": "2023-04-17T18:55:18.3090423Z",
       "execution_start_time": "2023-04-17T18:55:18.1230383Z",
       "livy_statement_state": "available",
       "parent_msg_id": "9b598242-36f9-474a-86ed-960d4e8acbaa",
       "queued_time": "2023-04-17T18:55:17.9383978Z",
       "session_id": "626",
       "session_start_time": null,
       "spark_jobs": null,
       "spark_pool": "dssparkpool",
       "state": "finished",
       "statement_id": 146
      },
      "text/plain": [
       "StatementMeta(dssparkpool, 626, 146, Finished, Available)"
      ]
     },
     "metadata": {},
     "output_type": "display_data"
    }
   ],
   "source": [
    "#df = usinas_impt[var]\n",
    "df = pd.DataFrame(Matriz)"
   ]
  },
  {
   "cell_type": "code",
   "execution_count": 131,
   "metadata": {
    "jupyter": {
     "outputs_hidden": false,
     "source_hidden": false
    },
    "nteract": {
     "transient": {
      "deleting": false
     }
    }
   },
   "outputs": [
    {
     "data": {
      "application/vnd.livy.statement-meta+json": {
       "execution_finish_time": "2023-04-17T18:55:20.4119762Z",
       "execution_start_time": "2023-04-17T18:55:20.2447532Z",
       "livy_statement_state": "available",
       "parent_msg_id": "4b085e57-4104-4e08-916d-a3171f92cb62",
       "queued_time": "2023-04-17T18:55:20.0579301Z",
       "session_id": "626",
       "session_start_time": null,
       "spark_jobs": null,
       "spark_pool": "dssparkpool",
       "state": "finished",
       "statement_id": 147
      },
      "text/plain": [
       "StatementMeta(dssparkpool, 626, 147, Finished, Available)"
      ]
     },
     "metadata": {},
     "output_type": "display_data"
    }
   ],
   "source": [
    "k = 2\n",
    "knn = KNNImputer(n_neighbors=k, add_indicator=False)\n",
    "knn.fit(df)\n",
    "df2 = pd.DataFrame(knn.transform(df), columns=knn.get_feature_names_out())"
   ]
  },
  {
   "cell_type": "code",
   "execution_count": 132,
   "metadata": {
    "jupyter": {
     "outputs_hidden": false,
     "source_hidden": false
    },
    "nteract": {
     "transient": {
      "deleting": false
     }
    }
   },
   "outputs": [
    {
     "data": {
      "application/vnd.livy.statement-meta+json": {
       "execution_finish_time": "2023-04-17T18:55:22.7223685Z",
       "execution_start_time": "2023-04-17T18:55:22.546007Z",
       "livy_statement_state": "available",
       "parent_msg_id": "d94bdc5e-e477-491a-ba53-e328f6371e96",
       "queued_time": "2023-04-17T18:55:22.396956Z",
       "session_id": "626",
       "session_start_time": null,
       "spark_jobs": null,
       "spark_pool": "dssparkpool",
       "state": "finished",
       "statement_id": 148
      },
      "text/plain": [
       "StatementMeta(dssparkpool, 626, 148, Finished, Available)"
      ]
     },
     "metadata": {},
     "output_type": "display_data"
    },
    {
     "data": {
      "text/html": [
       "<div>\n",
       "<style scoped>\n",
       "    .dataframe tbody tr th:only-of-type {\n",
       "        vertical-align: middle;\n",
       "    }\n",
       "\n",
       "    .dataframe tbody tr th {\n",
       "        vertical-align: top;\n",
       "    }\n",
       "\n",
       "    .dataframe thead th {\n",
       "        text-align: right;\n",
       "    }\n",
       "</style>\n",
       "<table border=\"1\" class=\"dataframe\">\n",
       "  <thead>\n",
       "    <tr style=\"text-align: right;\">\n",
       "      <th></th>\n",
       "      <th>0</th>\n",
       "      <th>1</th>\n",
       "      <th>2</th>\n",
       "    </tr>\n",
       "  </thead>\n",
       "  <tbody>\n",
       "    <tr>\n",
       "      <th>0</th>\n",
       "      <td>3.0</td>\n",
       "      <td>NaN</td>\n",
       "      <td>5.0</td>\n",
       "    </tr>\n",
       "    <tr>\n",
       "      <th>1</th>\n",
       "      <td>1.0</td>\n",
       "      <td>0.0</td>\n",
       "      <td>0.0</td>\n",
       "    </tr>\n",
       "    <tr>\n",
       "      <th>2</th>\n",
       "      <td>4.0</td>\n",
       "      <td>1.0</td>\n",
       "      <td>4.0</td>\n",
       "    </tr>\n",
       "    <tr>\n",
       "      <th>3</th>\n",
       "      <td>5.0</td>\n",
       "      <td>3.0</td>\n",
       "      <td>1.0</td>\n",
       "    </tr>\n",
       "  </tbody>\n",
       "</table>\n",
       "</div>"
      ],
      "text/plain": [
       "     0    1    2\n",
       "0  3.0  NaN  5.0\n",
       "1  1.0  0.0  0.0\n",
       "2  4.0  1.0  4.0\n",
       "3  5.0  3.0  1.0"
      ]
     },
     "execution_count": 299,
     "metadata": {},
     "output_type": "execute_result"
    }
   ],
   "source": [
    "df"
   ]
  },
  {
   "cell_type": "code",
   "execution_count": 133,
   "metadata": {
    "jupyter": {
     "outputs_hidden": false,
     "source_hidden": false
    },
    "nteract": {
     "transient": {
      "deleting": false
     }
    }
   },
   "outputs": [
    {
     "data": {
      "application/vnd.livy.statement-meta+json": {
       "execution_finish_time": "2023-04-17T18:55:25.5692501Z",
       "execution_start_time": "2023-04-17T18:55:25.3845392Z",
       "livy_statement_state": "available",
       "parent_msg_id": "a7129d01-932b-4db2-83cd-c916ec676052",
       "queued_time": "2023-04-17T18:55:25.2247485Z",
       "session_id": "626",
       "session_start_time": null,
       "spark_jobs": null,
       "spark_pool": "dssparkpool",
       "state": "finished",
       "statement_id": 149
      },
      "text/plain": [
       "StatementMeta(dssparkpool, 626, 149, Finished, Available)"
      ]
     },
     "metadata": {},
     "output_type": "display_data"
    },
    {
     "data": {
      "text/html": [
       "<div>\n",
       "<style scoped>\n",
       "    .dataframe tbody tr th:only-of-type {\n",
       "        vertical-align: middle;\n",
       "    }\n",
       "\n",
       "    .dataframe tbody tr th {\n",
       "        vertical-align: top;\n",
       "    }\n",
       "\n",
       "    .dataframe thead th {\n",
       "        text-align: right;\n",
       "    }\n",
       "</style>\n",
       "<table border=\"1\" class=\"dataframe\">\n",
       "  <thead>\n",
       "    <tr style=\"text-align: right;\">\n",
       "      <th></th>\n",
       "      <th>x0</th>\n",
       "      <th>x1</th>\n",
       "      <th>x2</th>\n",
       "    </tr>\n",
       "  </thead>\n",
       "  <tbody>\n",
       "    <tr>\n",
       "      <th>0</th>\n",
       "      <td>3.0</td>\n",
       "      <td>2.0</td>\n",
       "      <td>5.0</td>\n",
       "    </tr>\n",
       "    <tr>\n",
       "      <th>1</th>\n",
       "      <td>1.0</td>\n",
       "      <td>0.0</td>\n",
       "      <td>0.0</td>\n",
       "    </tr>\n",
       "    <tr>\n",
       "      <th>2</th>\n",
       "      <td>4.0</td>\n",
       "      <td>1.0</td>\n",
       "      <td>4.0</td>\n",
       "    </tr>\n",
       "    <tr>\n",
       "      <th>3</th>\n",
       "      <td>5.0</td>\n",
       "      <td>3.0</td>\n",
       "      <td>1.0</td>\n",
       "    </tr>\n",
       "  </tbody>\n",
       "</table>\n",
       "</div>"
      ],
      "text/plain": [
       "    x0   x1   x2\n",
       "0  3.0  2.0  5.0\n",
       "1  1.0  0.0  0.0\n",
       "2  4.0  1.0  4.0\n",
       "3  5.0  3.0  1.0"
      ]
     },
     "execution_count": 301,
     "metadata": {},
     "output_type": "execute_result"
    }
   ],
   "source": [
    "df2"
   ]
  },
  {
   "cell_type": "code",
   "execution_count": 134,
   "metadata": {
    "jupyter": {
     "outputs_hidden": false,
     "source_hidden": false
    },
    "nteract": {
     "transient": {
      "deleting": false
     }
    }
   },
   "outputs": [
    {
     "data": {
      "application/vnd.livy.statement-meta+json": {
       "execution_finish_time": "2023-04-17T18:55:28.6344264Z",
       "execution_start_time": "2023-04-17T18:55:28.4650492Z",
       "livy_statement_state": "available",
       "parent_msg_id": "c83e7cad-0dab-4c64-b836-94e4a36fa1a6",
       "queued_time": "2023-04-17T18:55:27.9072611Z",
       "session_id": "626",
       "session_start_time": null,
       "spark_jobs": null,
       "spark_pool": "dssparkpool",
       "state": "finished",
       "statement_id": 150
      },
      "text/plain": [
       "StatementMeta(dssparkpool, 626, 150, Finished, Available)"
      ]
     },
     "metadata": {},
     "output_type": "display_data"
    },
    {
     "data": {
      "text/html": [
       "<style>#sk-container-id-5 {color: black;background-color: white;}#sk-container-id-5 pre{padding: 0;}#sk-container-id-5 div.sk-toggleable {background-color: white;}#sk-container-id-5 label.sk-toggleable__label {cursor: pointer;display: block;width: 100%;margin-bottom: 0;padding: 0.3em;box-sizing: border-box;text-align: center;}#sk-container-id-5 label.sk-toggleable__label-arrow:before {content: \"▸\";float: left;margin-right: 0.25em;color: #696969;}#sk-container-id-5 label.sk-toggleable__label-arrow:hover:before {color: black;}#sk-container-id-5 div.sk-estimator:hover label.sk-toggleable__label-arrow:before {color: black;}#sk-container-id-5 div.sk-toggleable__content {max-height: 0;max-width: 0;overflow: hidden;text-align: left;background-color: #f0f8ff;}#sk-container-id-5 div.sk-toggleable__content pre {margin: 0.2em;color: black;border-radius: 0.25em;background-color: #f0f8ff;}#sk-container-id-5 input.sk-toggleable__control:checked~div.sk-toggleable__content {max-height: 200px;max-width: 100%;overflow: auto;}#sk-container-id-5 input.sk-toggleable__control:checked~label.sk-toggleable__label-arrow:before {content: \"▾\";}#sk-container-id-5 div.sk-estimator input.sk-toggleable__control:checked~label.sk-toggleable__label {background-color: #d4ebff;}#sk-container-id-5 div.sk-label input.sk-toggleable__control:checked~label.sk-toggleable__label {background-color: #d4ebff;}#sk-container-id-5 input.sk-hidden--visually {border: 0;clip: rect(1px 1px 1px 1px);clip: rect(1px, 1px, 1px, 1px);height: 1px;margin: -1px;overflow: hidden;padding: 0;position: absolute;width: 1px;}#sk-container-id-5 div.sk-estimator {font-family: monospace;background-color: #f0f8ff;border: 1px dotted black;border-radius: 0.25em;box-sizing: border-box;margin-bottom: 0.5em;}#sk-container-id-5 div.sk-estimator:hover {background-color: #d4ebff;}#sk-container-id-5 div.sk-parallel-item::after {content: \"\";width: 100%;border-bottom: 1px solid gray;flex-grow: 1;}#sk-container-id-5 div.sk-label:hover label.sk-toggleable__label {background-color: #d4ebff;}#sk-container-id-5 div.sk-serial::before {content: \"\";position: absolute;border-left: 1px solid gray;box-sizing: border-box;top: 0;bottom: 0;left: 50%;z-index: 0;}#sk-container-id-5 div.sk-serial {display: flex;flex-direction: column;align-items: center;background-color: white;padding-right: 0.2em;padding-left: 0.2em;position: relative;}#sk-container-id-5 div.sk-item {position: relative;z-index: 1;}#sk-container-id-5 div.sk-parallel {display: flex;align-items: stretch;justify-content: center;background-color: white;position: relative;}#sk-container-id-5 div.sk-item::before, #sk-container-id-5 div.sk-parallel-item::before {content: \"\";position: absolute;border-left: 1px solid gray;box-sizing: border-box;top: 0;bottom: 0;left: 50%;z-index: -1;}#sk-container-id-5 div.sk-parallel-item {display: flex;flex-direction: column;z-index: 1;position: relative;background-color: white;}#sk-container-id-5 div.sk-parallel-item:first-child::after {align-self: flex-end;width: 50%;}#sk-container-id-5 div.sk-parallel-item:last-child::after {align-self: flex-start;width: 50%;}#sk-container-id-5 div.sk-parallel-item:only-child::after {width: 0;}#sk-container-id-5 div.sk-dashed-wrapped {border: 1px dashed gray;margin: 0 0.4em 0.5em 0.4em;box-sizing: border-box;padding-bottom: 0.4em;background-color: white;}#sk-container-id-5 div.sk-label label {font-family: monospace;font-weight: bold;display: inline-block;line-height: 1.2em;}#sk-container-id-5 div.sk-label-container {text-align: center;}#sk-container-id-5 div.sk-container {/* jupyter's `normalize.less` sets `[hidden] { display: none; }` but bootstrap.min.css set `[hidden] { display: none !important; }` so we also need the `!important` here to be able to override the default hidden behavior on the sphinx rendered scikit-learn.org. See: https://github.com/scikit-learn/scikit-learn/issues/21755 */display: inline-block !important;position: relative;}#sk-container-id-5 div.sk-text-repr-fallback {display: none;}</style><div id=\"sk-container-id-5\" class=\"sk-top-container\"><div class=\"sk-text-repr-fallback\"><pre>NearestNeighbors(n_neighbors=3)</pre><b>In a Jupyter environment, please rerun this cell to show the HTML representation or trust the notebook. <br />On GitHub, the HTML representation is unable to render, please try loading this page with nbviewer.org.</b></div><div class=\"sk-container\" hidden><div class=\"sk-item\"><div class=\"sk-estimator sk-toggleable\"><input class=\"sk-toggleable__control sk-hidden--visually\" id=\"sk-estimator-id-5\" type=\"checkbox\" checked><label for=\"sk-estimator-id-5\" class=\"sk-toggleable__label sk-toggleable__label-arrow\">NearestNeighbors</label><div class=\"sk-toggleable__content\"><pre>NearestNeighbors(n_neighbors=3)</pre></div></div></div></div></div>"
      ],
      "text/plain": [
       "NearestNeighbors(n_neighbors=3)"
      ]
     },
     "execution_count": 303,
     "metadata": {},
     "output_type": "execute_result"
    }
   ],
   "source": [
    "from sklearn.neighbors import NearestNeighbors\n",
    "\n",
    "neigh = NearestNeighbors(n_neighbors=k+1)\n",
    "neigh.fit(df2)\n",
    "\n",
    "#Mensagens de Exeption por conta de numpy não atualizado para 1.24.2"
   ]
  },
  {
   "cell_type": "code",
   "execution_count": null,
   "metadata": {
    "jupyter": {
     "outputs_hidden": false,
     "source_hidden": false
    },
    "nteract": {
     "transient": {
      "deleting": false
     }
    }
   },
   "outputs": [
    {
     "data": {
      "application/vnd.livy.statement-meta+json": {
       "execution_finish_time": "2023-04-17T17:26:23.4355519Z",
       "execution_start_time": null,
       "livy_statement_state": null,
       "parent_msg_id": "7446655a-e2b5-4892-b7ca-f240a0ea17ed",
       "queued_time": "2023-04-17T17:25:00.1088458Z",
       "session_id": null,
       "session_start_time": null,
       "spark_jobs": null,
       "spark_pool": null,
       "state": "cancelled",
       "statement_id": null
      },
      "text/plain": [
       "StatementMeta(, , , Cancelled, )"
      ]
     },
     "metadata": {},
     "output_type": "display_data"
    }
   ],
   "source": [
    "d, v = neigh.kneighbors([df2.loc[0].to_list()], return_distance=True)"
   ]
  },
  {
   "cell_type": "code",
   "execution_count": null,
   "metadata": {
    "jupyter": {
     "outputs_hidden": false,
     "source_hidden": false
    },
    "nteract": {
     "transient": {
      "deleting": false
     }
    }
   },
   "outputs": [
    {
     "data": {
      "application/vnd.livy.statement-meta+json": {
       "execution_finish_time": "2023-04-17T17:26:23.436174Z",
       "execution_start_time": null,
       "livy_statement_state": null,
       "parent_msg_id": "d7ec3891-341c-4535-a5c4-b3cdb165baee",
       "queued_time": "2023-04-17T17:25:00.2633331Z",
       "session_id": null,
       "session_start_time": null,
       "spark_jobs": null,
       "spark_pool": null,
       "state": "cancelled",
       "statement_id": null
      },
      "text/plain": [
       "StatementMeta(, , , Cancelled, )"
      ]
     },
     "metadata": {},
     "output_type": "display_data"
    }
   ],
   "source": [
    "print('Vizinhos de:', df2.loc[0].to_list(), ' estão nas linhas:',v[0][1:],'. Com distâncias de:', d[0][1:], sep='')"
   ]
  },
  {
   "cell_type": "code",
   "execution_count": null,
   "metadata": {
    "jupyter": {
     "outputs_hidden": false,
     "source_hidden": false
    },
    "nteract": {
     "transient": {
      "deleting": false
     }
    }
   },
   "outputs": [
    {
     "data": {
      "application/vnd.livy.statement-meta+json": {
       "execution_finish_time": "2023-04-17T17:26:23.4367859Z",
       "execution_start_time": null,
       "livy_statement_state": null,
       "parent_msg_id": "5b06dda6-2bf6-4f7f-9459-71a138d83e81",
       "queued_time": "2023-04-17T17:25:00.4486154Z",
       "session_id": null,
       "session_start_time": null,
       "spark_jobs": null,
       "spark_pool": null,
       "state": "cancelled",
       "statement_id": null
      },
      "text/plain": [
       "StatementMeta(, , , Cancelled, )"
      ]
     },
     "metadata": {},
     "output_type": "display_data"
    }
   ],
   "source": [
    "df"
   ]
  },
  {
   "cell_type": "markdown",
   "metadata": {
    "nteract": {
     "transient": {
      "deleting": false
     }
    }
   },
   "source": [
    "https://scikit-learn.org/stable/modules/generated/sklearn.neighbors.NearestNeighbors.html#sklearn.neighbors.NearestNeighbors.kneighbors"
   ]
  },
  {
   "cell_type": "markdown",
   "metadata": {
    "nteract": {
     "transient": {
      "deleting": false
     }
    }
   },
   "source": [
    "### teste em nivel UF"
   ]
  },
  {
   "cell_type": "code",
   "execution_count": 143,
   "metadata": {
    "jupyter": {
     "outputs_hidden": false,
     "source_hidden": false
    },
    "nteract": {
     "transient": {
      "deleting": false
     }
    }
   },
   "outputs": [
    {
     "data": {
      "application/vnd.livy.statement-meta+json": {
       "execution_finish_time": "2023-04-17T19:02:47.8156978Z",
       "execution_start_time": "2023-04-17T19:02:47.6424958Z",
       "livy_statement_state": "available",
       "parent_msg_id": "82b877f2-b50c-4be4-a079-16c071eafc39",
       "queued_time": "2023-04-17T19:02:47.4820938Z",
       "session_id": "626",
       "session_start_time": null,
       "spark_jobs": null,
       "spark_pool": "dssparkpool",
       "state": "finished",
       "statement_id": 159
      },
      "text/plain": [
       "StatementMeta(dssparkpool, 626, 159, Finished, Available)"
      ]
     },
     "metadata": {},
     "output_type": "display_data"
    }
   ],
   "source": [
    "n_imput =validador_impt(teste, 'TANCAGEM_DIESEL')\n",
    "n_imput = n_imput[n_imput['UF']=='SP']\n",
    "n_imput\n",
    "\n",
    "n_imput.reset_index(drop=True, inplace=True)"
   ]
  },
  {
   "cell_type": "code",
   "execution_count": 156,
   "metadata": {
    "jupyter": {
     "outputs_hidden": false,
     "source_hidden": false
    },
    "nteract": {
     "transient": {
      "deleting": false
     }
    }
   },
   "outputs": [
    {
     "data": {
      "application/vnd.livy.statement-meta+json": {
       "execution_finish_time": "2023-04-17T19:10:25.3111494Z",
       "execution_start_time": "2023-04-17T19:10:25.1390323Z",
       "livy_statement_state": "available",
       "parent_msg_id": "37ed6ca5-0f6f-4f90-bad9-d09fdd984d85",
       "queued_time": "2023-04-17T19:10:24.9654031Z",
       "session_id": "626",
       "session_start_time": null,
       "spark_jobs": null,
       "spark_pool": "dssparkpool",
       "state": "finished",
       "statement_id": 172
      },
      "text/plain": [
       "StatementMeta(dssparkpool, 626, 172, Finished, Available)"
      ]
     },
     "metadata": {},
     "output_type": "display_data"
    }
   ],
   "source": [
    "n_imput =validador_impt(teste, 'TANCAGEM_DIESEL')\n",
    "n_imput = n_imput[n_imput['UF']=='RJ']\n",
    "\n",
    "# imput = usinas_impt[usinas_impt['UF']=='RJ'][var]\n",
    "\n",
    "n_imput.reset_index(drop=True, inplace=True)\n",
    "# imput.reset_index(drop=True, inplace=True)\n"
   ]
  },
  {
   "cell_type": "code",
   "execution_count": 179,
   "metadata": {
    "jupyter": {
     "outputs_hidden": false,
     "source_hidden": false
    },
    "nteract": {
     "transient": {
      "deleting": false
     }
    }
   },
   "outputs": [
    {
     "data": {
      "application/vnd.livy.statement-meta+json": {
       "execution_finish_time": "2023-04-17T19:22:20.7879162Z",
       "execution_start_time": "2023-04-17T19:22:20.6267509Z",
       "livy_statement_state": "available",
       "parent_msg_id": "f6af3520-c7c1-4dae-9c21-30614e68471b",
       "queued_time": "2023-04-17T19:22:20.4698977Z",
       "session_id": "626",
       "session_start_time": null,
       "spark_jobs": null,
       "spark_pool": "dssparkpool",
       "state": "finished",
       "statement_id": 195
      },
      "text/plain": [
       "StatementMeta(dssparkpool, 626, 195, Finished, Available)"
      ]
     },
     "metadata": {},
     "output_type": "display_data"
    }
   ],
   "source": [
    "viz=3\n",
    "knn = KNNImputer(n_neighbors=viz, weights = 'distance', add_indicator=True)\n",
    "knn.fit(n_imput[var])\n",
    "imput = pd.DataFrame(knn.transform(n_imput[var]), columns=knn.get_feature_names_out())\n",
    "imput = n_imput[n_imput.columns.drop(var)].join(imput)\n",
    "#result.sort_values(chave, ignore_index=True, inplace=True)"
   ]
  },
  {
   "cell_type": "code",
   "execution_count": 163,
   "metadata": {
    "jupyter": {
     "outputs_hidden": false,
     "source_hidden": false
    },
    "nteract": {
     "transient": {
      "deleting": false
     }
    }
   },
   "outputs": [
    {
     "data": {
      "application/vnd.livy.statement-meta+json": {
       "execution_finish_time": "2023-04-17T19:11:26.0797848Z",
       "execution_start_time": "2023-04-17T19:11:25.9094845Z",
       "livy_statement_state": "available",
       "parent_msg_id": "8cfdd5d3-db98-40a7-b098-b21ff67cfa2d",
       "queued_time": "2023-04-17T19:11:25.7668942Z",
       "session_id": "626",
       "session_start_time": null,
       "spark_jobs": null,
       "spark_pool": "dssparkpool",
       "state": "finished",
       "statement_id": 179
      },
      "text/plain": [
       "StatementMeta(dssparkpool, 626, 179, Finished, Available)"
      ]
     },
     "metadata": {},
     "output_type": "display_data"
    },
    {
     "data": {
      "text/html": [
       "<div>\n",
       "<style scoped>\n",
       "    .dataframe tbody tr th:only-of-type {\n",
       "        vertical-align: middle;\n",
       "    }\n",
       "\n",
       "    .dataframe tbody tr th {\n",
       "        vertical-align: top;\n",
       "    }\n",
       "\n",
       "    .dataframe thead th {\n",
       "        text-align: right;\n",
       "    }\n",
       "</style>\n",
       "<table border=\"1\" class=\"dataframe\">\n",
       "  <thead>\n",
       "    <tr style=\"text-align: right;\">\n",
       "      <th></th>\n",
       "      <th>CNPJ</th>\n",
       "      <th>UF</th>\n",
       "      <th>REGIAO</th>\n",
       "      <th>CAP_HIDRATADO</th>\n",
       "      <th>CAP_ANIDRO</th>\n",
       "      <th>TANCAGEM_ETANOL</th>\n",
       "      <th>TANCAGEM_DIESEL</th>\n",
       "      <th>TIPO_IMP</th>\n",
       "    </tr>\n",
       "  </thead>\n",
       "  <tbody>\n",
       "    <tr>\n",
       "      <th>0</th>\n",
       "      <td>05500757000168</td>\n",
       "      <td>RJ</td>\n",
       "      <td>SE</td>\n",
       "      <td>250.0</td>\n",
       "      <td>0.0</td>\n",
       "      <td>16265.0</td>\n",
       "      <td>60.0</td>\n",
       "      <td>0</td>\n",
       "    </tr>\n",
       "    <tr>\n",
       "      <th>1</th>\n",
       "      <td>05627254000158</td>\n",
       "      <td>RJ</td>\n",
       "      <td>SE</td>\n",
       "      <td>600.0</td>\n",
       "      <td>0.0</td>\n",
       "      <td>10240.0</td>\n",
       "      <td>NaN</td>\n",
       "      <td>0</td>\n",
       "    </tr>\n",
       "    <tr>\n",
       "      <th>2</th>\n",
       "      <td>28851889000210</td>\n",
       "      <td>RJ</td>\n",
       "      <td>SE</td>\n",
       "      <td>270.0</td>\n",
       "      <td>240.0</td>\n",
       "      <td>18000.0</td>\n",
       "      <td>44.0</td>\n",
       "      <td>0</td>\n",
       "    </tr>\n",
       "    <tr>\n",
       "      <th>3</th>\n",
       "      <td>28963189000137</td>\n",
       "      <td>RJ</td>\n",
       "      <td>SE</td>\n",
       "      <td>150.0</td>\n",
       "      <td>0.0</td>\n",
       "      <td>11330.0</td>\n",
       "      <td>30.0</td>\n",
       "      <td>0</td>\n",
       "    </tr>\n",
       "  </tbody>\n",
       "</table>\n",
       "</div>"
      ],
      "text/plain": [
       "             CNPJ  UF REGIAO  CAP_HIDRATADO  CAP_ANIDRO  TANCAGEM_ETANOL  \\\n",
       "0  05500757000168  RJ     SE          250.0         0.0          16265.0   \n",
       "1  05627254000158  RJ     SE          600.0         0.0          10240.0   \n",
       "2  28851889000210  RJ     SE          270.0       240.0          18000.0   \n",
       "3  28963189000137  RJ     SE          150.0         0.0          11330.0   \n",
       "\n",
       "   TANCAGEM_DIESEL  TIPO_IMP  \n",
       "0             60.0         0  \n",
       "1              NaN         0  \n",
       "2             44.0         0  \n",
       "3             30.0         0  "
      ]
     },
     "execution_count": 361,
     "metadata": {},
     "output_type": "execute_result"
    }
   ],
   "source": [
    "n_imput"
   ]
  },
  {
   "cell_type": "code",
   "execution_count": 167,
   "metadata": {
    "jupyter": {
     "outputs_hidden": false,
     "source_hidden": false
    },
    "nteract": {
     "transient": {
      "deleting": false
     }
    }
   },
   "outputs": [
    {
     "data": {
      "application/vnd.livy.statement-meta+json": {
       "execution_finish_time": "2023-04-17T19:12:55.3511232Z",
       "execution_start_time": "2023-04-17T19:12:55.1792573Z",
       "livy_statement_state": "available",
       "parent_msg_id": "18532818-0709-452e-966b-dd5a579ef0bf",
       "queued_time": "2023-04-17T19:12:55.0281952Z",
       "session_id": "626",
       "session_start_time": null,
       "spark_jobs": null,
       "spark_pool": "dssparkpool",
       "state": "finished",
       "statement_id": 183
      },
      "text/plain": [
       "StatementMeta(dssparkpool, 626, 183, Finished, Available)"
      ]
     },
     "metadata": {},
     "output_type": "display_data"
    },
    {
     "data": {
      "image/png": "[encoded data removed]",
      "text/plain": [
       "<Figure size 432x288 with 1 Axes>"
      ]
     },
     "metadata": {
      "needs_background": "light"
     },
     "output_type": "display_data"
    }
   ],
   "source": [
    "fig = plt.Figure()\n",
    "null_values = imput['missingindicator_TANCAGEM_DIESEL']==0\n",
    "fig = imput.plot(y='TANCAGEM_DIESEL', x='TANCAGEM_ETANOL', kind='scatter', c=null_values, cmap='winter', title='KNN Imputation- Distance', colorbar=False)\n"
   ]
  },
  {
   "cell_type": "code",
   "execution_count": 170,
   "metadata": {
    "jupyter": {
     "outputs_hidden": false,
     "source_hidden": false
    },
    "nteract": {
     "transient": {
      "deleting": false
     }
    }
   },
   "outputs": [
    {
     "data": {
      "application/vnd.livy.statement-meta+json": {
       "execution_finish_time": "2023-04-17T19:13:24.1006283Z",
       "execution_start_time": "2023-04-17T19:13:23.9435016Z",
       "livy_statement_state": "available",
       "parent_msg_id": "b6a362ce-22f9-45cb-8f38-d3277bd8bedd",
       "queued_time": "2023-04-17T19:13:23.7625654Z",
       "session_id": "626",
       "session_start_time": null,
       "spark_jobs": null,
       "spark_pool": "dssparkpool",
       "state": "finished",
       "statement_id": 186
      },
      "text/plain": [
       "StatementMeta(dssparkpool, 626, 186, Finished, Available)"
      ]
     },
     "metadata": {},
     "output_type": "display_data"
    },
    {
     "data": {
      "image/png": "[encoded data removed]",
      "text/plain": [
       "<Figure size 432x288 with 1 Axes>"
      ]
     },
     "metadata": {
      "needs_background": "light"
     },
     "output_type": "display_data"
    }
   ],
   "source": [
    "fig = plt.Figure()\n",
    "null_values = imput['missingindicator_TANCAGEM_DIESEL']==0\n",
    "fig = imput.plot(y='TANCAGEM_DIESEL', x='TANCAGEM_ETANOL', kind='scatter', c=null_values, cmap='winter', title='KNN Imputation- Uniform', colorbar=False)"
   ]
  },
  {
   "cell_type": "code",
   "execution_count": 173,
   "metadata": {
    "jupyter": {
     "outputs_hidden": false,
     "source_hidden": false
    },
    "nteract": {
     "transient": {
      "deleting": false
     }
    }
   },
   "outputs": [
    {
     "data": {
      "application/vnd.livy.statement-meta+json": {
       "execution_finish_time": "2023-04-17T19:20:32.9034624Z",
       "execution_start_time": "2023-04-17T19:20:32.7233588Z",
       "livy_statement_state": "available",
       "parent_msg_id": "34ea34f3-1666-45ee-a16f-7d801e5c91a0",
       "queued_time": "2023-04-17T19:20:32.5619071Z",
       "session_id": "626",
       "session_start_time": null,
       "spark_jobs": null,
       "spark_pool": "dssparkpool",
       "state": "finished",
       "statement_id": 189
      },
      "text/plain": [
       "StatementMeta(dssparkpool, 626, 189, Finished, Available)"
      ]
     },
     "metadata": {},
     "output_type": "display_data"
    },
    {
     "data": {
      "text/html": [
       "<style>#sk-container-id-6 {color: black;background-color: white;}#sk-container-id-6 pre{padding: 0;}#sk-container-id-6 div.sk-toggleable {background-color: white;}#sk-container-id-6 label.sk-toggleable__label {cursor: pointer;display: block;width: 100%;margin-bottom: 0;padding: 0.3em;box-sizing: border-box;text-align: center;}#sk-container-id-6 label.sk-toggleable__label-arrow:before {content: \"▸\";float: left;margin-right: 0.25em;color: #696969;}#sk-container-id-6 label.sk-toggleable__label-arrow:hover:before {color: black;}#sk-container-id-6 div.sk-estimator:hover label.sk-toggleable__label-arrow:before {color: black;}#sk-container-id-6 div.sk-toggleable__content {max-height: 0;max-width: 0;overflow: hidden;text-align: left;background-color: #f0f8ff;}#sk-container-id-6 div.sk-toggleable__content pre {margin: 0.2em;color: black;border-radius: 0.25em;background-color: #f0f8ff;}#sk-container-id-6 input.sk-toggleable__control:checked~div.sk-toggleable__content {max-height: 200px;max-width: 100%;overflow: auto;}#sk-container-id-6 input.sk-toggleable__control:checked~label.sk-toggleable__label-arrow:before {content: \"▾\";}#sk-container-id-6 div.sk-estimator input.sk-toggleable__control:checked~label.sk-toggleable__label {background-color: #d4ebff;}#sk-container-id-6 div.sk-label input.sk-toggleable__control:checked~label.sk-toggleable__label {background-color: #d4ebff;}#sk-container-id-6 input.sk-hidden--visually {border: 0;clip: rect(1px 1px 1px 1px);clip: rect(1px, 1px, 1px, 1px);height: 1px;margin: -1px;overflow: hidden;padding: 0;position: absolute;width: 1px;}#sk-container-id-6 div.sk-estimator {font-family: monospace;background-color: #f0f8ff;border: 1px dotted black;border-radius: 0.25em;box-sizing: border-box;margin-bottom: 0.5em;}#sk-container-id-6 div.sk-estimator:hover {background-color: #d4ebff;}#sk-container-id-6 div.sk-parallel-item::after {content: \"\";width: 100%;border-bottom: 1px solid gray;flex-grow: 1;}#sk-container-id-6 div.sk-label:hover label.sk-toggleable__label {background-color: #d4ebff;}#sk-container-id-6 div.sk-serial::before {content: \"\";position: absolute;border-left: 1px solid gray;box-sizing: border-box;top: 0;bottom: 0;left: 50%;z-index: 0;}#sk-container-id-6 div.sk-serial {display: flex;flex-direction: column;align-items: center;background-color: white;padding-right: 0.2em;padding-left: 0.2em;position: relative;}#sk-container-id-6 div.sk-item {position: relative;z-index: 1;}#sk-container-id-6 div.sk-parallel {display: flex;align-items: stretch;justify-content: center;background-color: white;position: relative;}#sk-container-id-6 div.sk-item::before, #sk-container-id-6 div.sk-parallel-item::before {content: \"\";position: absolute;border-left: 1px solid gray;box-sizing: border-box;top: 0;bottom: 0;left: 50%;z-index: -1;}#sk-container-id-6 div.sk-parallel-item {display: flex;flex-direction: column;z-index: 1;position: relative;background-color: white;}#sk-container-id-6 div.sk-parallel-item:first-child::after {align-self: flex-end;width: 50%;}#sk-container-id-6 div.sk-parallel-item:last-child::after {align-self: flex-start;width: 50%;}#sk-container-id-6 div.sk-parallel-item:only-child::after {width: 0;}#sk-container-id-6 div.sk-dashed-wrapped {border: 1px dashed gray;margin: 0 0.4em 0.5em 0.4em;box-sizing: border-box;padding-bottom: 0.4em;background-color: white;}#sk-container-id-6 div.sk-label label {font-family: monospace;font-weight: bold;display: inline-block;line-height: 1.2em;}#sk-container-id-6 div.sk-label-container {text-align: center;}#sk-container-id-6 div.sk-container {/* jupyter's `normalize.less` sets `[hidden] { display: none; }` but bootstrap.min.css set `[hidden] { display: none !important; }` so we also need the `!important` here to be able to override the default hidden behavior on the sphinx rendered scikit-learn.org. See: https://github.com/scikit-learn/scikit-learn/issues/21755 */display: inline-block !important;position: relative;}#sk-container-id-6 div.sk-text-repr-fallback {display: none;}</style><div id=\"sk-container-id-6\" class=\"sk-top-container\"><div class=\"sk-text-repr-fallback\"><pre>NearestNeighbors(n_neighbors=4)</pre><b>In a Jupyter environment, please rerun this cell to show the HTML representation or trust the notebook. <br />On GitHub, the HTML representation is unable to render, please try loading this page with nbviewer.org.</b></div><div class=\"sk-container\" hidden><div class=\"sk-item\"><div class=\"sk-estimator sk-toggleable\"><input class=\"sk-toggleable__control sk-hidden--visually\" id=\"sk-estimator-id-6\" type=\"checkbox\" checked><label for=\"sk-estimator-id-6\" class=\"sk-toggleable__label sk-toggleable__label-arrow\">NearestNeighbors</label><div class=\"sk-toggleable__content\"><pre>NearestNeighbors(n_neighbors=4)</pre></div></div></div></div></div>"
      ],
      "text/plain": [
       "NearestNeighbors(n_neighbors=4)"
      ]
     },
     "execution_count": 381,
     "metadata": {},
     "output_type": "execute_result"
    }
   ],
   "source": [
    "from sklearn.neighbors import NearestNeighbors\n",
    "neigh = NearestNeighbors(n_neighbors=viz+1)\n",
    "neigh.fit(imput[var])"
   ]
  },
  {
   "cell_type": "code",
   "execution_count": 174,
   "metadata": {
    "jupyter": {
     "outputs_hidden": false,
     "source_hidden": false
    },
    "nteract": {
     "transient": {
      "deleting": false
     }
    }
   },
   "outputs": [
    {
     "data": {
      "application/vnd.livy.statement-meta+json": {
       "execution_finish_time": "2023-04-17T19:20:35.1944512Z",
       "execution_start_time": "2023-04-17T19:20:35.0234114Z",
       "livy_statement_state": "available",
       "parent_msg_id": "7d49251b-0981-49e6-bae2-5658f38db3d9",
       "queued_time": "2023-04-17T19:20:34.8605175Z",
       "session_id": "626",
       "session_start_time": null,
       "spark_jobs": null,
       "spark_pool": "dssparkpool",
       "state": "finished",
       "statement_id": 190
      },
      "text/plain": [
       "StatementMeta(dssparkpool, 626, 190, Finished, Available)"
      ]
     },
     "metadata": {},
     "output_type": "display_data"
    },
    {
     "name": "stderr",
     "output_type": "stream",
     "text": [
      "/home/trusted-service-user/cluster-env/clonedenv/lib/python3.8/site-packages/sklearn/base.py:409: UserWarning: X does not have valid feature names, but NearestNeighbors was fitted with feature names\n",
      "  warnings.warn(\n",
      "Exception ignored on calling ctypes callback function: <function _ThreadpoolInfo._find_modules_with_dl_iterate_phdr.<locals>.match_module_callback at 0x7fa95bf008b0>\n",
      "Traceback (most recent call last):\n",
      "  File \"/home/trusted-service-user/cluster-env/clonedenv/lib/python3.8/site-packages/threadpoolctl.py\", line 400, in match_module_callback\n",
      "    self._make_module_from_path(filepath)\n",
      "  File \"/home/trusted-service-user/cluster-env/clonedenv/lib/python3.8/site-packages/threadpoolctl.py\", line 515, in _make_module_from_path\n",
      "    module = module_class(filepath, prefix, user_api, internal_api)\n",
      "  File \"/home/trusted-service-user/cluster-env/clonedenv/lib/python3.8/site-packages/threadpoolctl.py\", line 606, in __init__\n",
      "    self.version = self.get_version()\n",
      "  File \"/home/trusted-service-user/cluster-env/clonedenv/lib/python3.8/site-packages/threadpoolctl.py\", line 646, in get_version\n",
      "    config = get_config().split()\n",
      "AttributeError: 'NoneType' object has no attribute 'split'\n"
     ]
    }
   ],
   "source": [
    "d, v = neigh.kneighbors([imput[var].loc[1].to_list()], return_distance=True)"
   ]
  },
  {
   "cell_type": "code",
   "execution_count": 175,
   "metadata": {
    "jupyter": {
     "outputs_hidden": false,
     "source_hidden": false
    },
    "nteract": {
     "transient": {
      "deleting": false
     }
    }
   },
   "outputs": [
    {
     "data": {
      "application/vnd.livy.statement-meta+json": {
       "execution_finish_time": "2023-04-17T19:20:39.324617Z",
       "execution_start_time": "2023-04-17T19:20:39.15855Z",
       "livy_statement_state": "available",
       "parent_msg_id": "075ae7d3-d283-48de-a4b5-1791a0917940",
       "queued_time": "2023-04-17T19:20:39.0055597Z",
       "session_id": "626",
       "session_start_time": null,
       "spark_jobs": null,
       "spark_pool": "dssparkpool",
       "state": "finished",
       "statement_id": 191
      },
      "text/plain": [
       "StatementMeta(dssparkpool, 626, 191, Finished, Available)"
      ]
     },
     "metadata": {},
     "output_type": "display_data"
    },
    {
     "data": {
      "text/html": [
       "<div>\n",
       "<style scoped>\n",
       "    .dataframe tbody tr th:only-of-type {\n",
       "        vertical-align: middle;\n",
       "    }\n",
       "\n",
       "    .dataframe tbody tr th {\n",
       "        vertical-align: top;\n",
       "    }\n",
       "\n",
       "    .dataframe thead th {\n",
       "        text-align: right;\n",
       "    }\n",
       "</style>\n",
       "<table border=\"1\" class=\"dataframe\">\n",
       "  <thead>\n",
       "    <tr style=\"text-align: right;\">\n",
       "      <th></th>\n",
       "      <th>CNPJ</th>\n",
       "      <th>UF</th>\n",
       "      <th>REGIAO</th>\n",
       "      <th>CAP_HIDRATADO</th>\n",
       "      <th>CAP_ANIDRO</th>\n",
       "      <th>TANCAGEM_ETANOL</th>\n",
       "      <th>TANCAGEM_DIESEL</th>\n",
       "      <th>TIPO_IMP</th>\n",
       "    </tr>\n",
       "  </thead>\n",
       "  <tbody>\n",
       "    <tr>\n",
       "      <th>1</th>\n",
       "      <td>05627254000158</td>\n",
       "      <td>RJ</td>\n",
       "      <td>SE</td>\n",
       "      <td>600.0</td>\n",
       "      <td>0.0</td>\n",
       "      <td>10240.0</td>\n",
       "      <td>NaN</td>\n",
       "      <td>0</td>\n",
       "    </tr>\n",
       "    <tr>\n",
       "      <th>3</th>\n",
       "      <td>28963189000137</td>\n",
       "      <td>RJ</td>\n",
       "      <td>SE</td>\n",
       "      <td>150.0</td>\n",
       "      <td>0.0</td>\n",
       "      <td>11330.0</td>\n",
       "      <td>30.0</td>\n",
       "      <td>0</td>\n",
       "    </tr>\n",
       "    <tr>\n",
       "      <th>0</th>\n",
       "      <td>05500757000168</td>\n",
       "      <td>RJ</td>\n",
       "      <td>SE</td>\n",
       "      <td>250.0</td>\n",
       "      <td>0.0</td>\n",
       "      <td>16265.0</td>\n",
       "      <td>60.0</td>\n",
       "      <td>0</td>\n",
       "    </tr>\n",
       "    <tr>\n",
       "      <th>2</th>\n",
       "      <td>28851889000210</td>\n",
       "      <td>RJ</td>\n",
       "      <td>SE</td>\n",
       "      <td>270.0</td>\n",
       "      <td>240.0</td>\n",
       "      <td>18000.0</td>\n",
       "      <td>44.0</td>\n",
       "      <td>0</td>\n",
       "    </tr>\n",
       "  </tbody>\n",
       "</table>\n",
       "</div>"
      ],
      "text/plain": [
       "             CNPJ  UF REGIAO  CAP_HIDRATADO  CAP_ANIDRO  TANCAGEM_ETANOL  \\\n",
       "1  05627254000158  RJ     SE          600.0         0.0          10240.0   \n",
       "3  28963189000137  RJ     SE          150.0         0.0          11330.0   \n",
       "0  05500757000168  RJ     SE          250.0         0.0          16265.0   \n",
       "2  28851889000210  RJ     SE          270.0       240.0          18000.0   \n",
       "\n",
       "   TANCAGEM_DIESEL  TIPO_IMP  \n",
       "1              NaN         0  \n",
       "3             30.0         0  \n",
       "0             60.0         0  \n",
       "2             44.0         0  "
      ]
     },
     "execution_count": 385,
     "metadata": {},
     "output_type": "execute_result"
    }
   ],
   "source": [
    "n_imput.loc[list(v[0])]"
   ]
  },
  {
   "cell_type": "code",
   "execution_count": 176,
   "metadata": {
    "jupyter": {
     "outputs_hidden": false,
     "source_hidden": false
    },
    "nteract": {
     "transient": {
      "deleting": false
     }
    }
   },
   "outputs": [
    {
     "data": {
      "application/vnd.livy.statement-meta+json": {
       "execution_finish_time": "2023-04-17T19:20:43.3522477Z",
       "execution_start_time": "2023-04-17T19:20:43.1781227Z",
       "livy_statement_state": "available",
       "parent_msg_id": "806f4d57-319c-4240-88fc-b47c35c14da3",
       "queued_time": "2023-04-17T19:20:43.0262536Z",
       "session_id": "626",
       "session_start_time": null,
       "spark_jobs": null,
       "spark_pool": "dssparkpool",
       "state": "finished",
       "statement_id": 192
      },
      "text/plain": [
       "StatementMeta(dssparkpool, 626, 192, Finished, Available)"
      ]
     },
     "metadata": {},
     "output_type": "display_data"
    },
    {
     "data": {
      "text/html": [
       "<div>\n",
       "<style scoped>\n",
       "    .dataframe tbody tr th:only-of-type {\n",
       "        vertical-align: middle;\n",
       "    }\n",
       "\n",
       "    .dataframe tbody tr th {\n",
       "        vertical-align: top;\n",
       "    }\n",
       "\n",
       "    .dataframe thead th {\n",
       "        text-align: right;\n",
       "    }\n",
       "</style>\n",
       "<table border=\"1\" class=\"dataframe\">\n",
       "  <thead>\n",
       "    <tr style=\"text-align: right;\">\n",
       "      <th></th>\n",
       "      <th>CNPJ</th>\n",
       "      <th>UF</th>\n",
       "      <th>REGIAO</th>\n",
       "      <th>TIPO_IMP</th>\n",
       "      <th>CAP_HIDRATADO</th>\n",
       "      <th>CAP_ANIDRO</th>\n",
       "      <th>TANCAGEM_ETANOL</th>\n",
       "      <th>TANCAGEM_DIESEL</th>\n",
       "      <th>missingindicator_TANCAGEM_DIESEL</th>\n",
       "    </tr>\n",
       "  </thead>\n",
       "  <tbody>\n",
       "    <tr>\n",
       "      <th>1</th>\n",
       "      <td>05627254000158</td>\n",
       "      <td>RJ</td>\n",
       "      <td>SE</td>\n",
       "      <td>0</td>\n",
       "      <td>600.0</td>\n",
       "      <td>0.0</td>\n",
       "      <td>10240.0</td>\n",
       "      <td>44.666667</td>\n",
       "      <td>1.0</td>\n",
       "    </tr>\n",
       "    <tr>\n",
       "      <th>3</th>\n",
       "      <td>28963189000137</td>\n",
       "      <td>RJ</td>\n",
       "      <td>SE</td>\n",
       "      <td>0</td>\n",
       "      <td>150.0</td>\n",
       "      <td>0.0</td>\n",
       "      <td>11330.0</td>\n",
       "      <td>30.000000</td>\n",
       "      <td>0.0</td>\n",
       "    </tr>\n",
       "    <tr>\n",
       "      <th>0</th>\n",
       "      <td>05500757000168</td>\n",
       "      <td>RJ</td>\n",
       "      <td>SE</td>\n",
       "      <td>0</td>\n",
       "      <td>250.0</td>\n",
       "      <td>0.0</td>\n",
       "      <td>16265.0</td>\n",
       "      <td>60.000000</td>\n",
       "      <td>0.0</td>\n",
       "    </tr>\n",
       "    <tr>\n",
       "      <th>2</th>\n",
       "      <td>28851889000210</td>\n",
       "      <td>RJ</td>\n",
       "      <td>SE</td>\n",
       "      <td>0</td>\n",
       "      <td>270.0</td>\n",
       "      <td>240.0</td>\n",
       "      <td>18000.0</td>\n",
       "      <td>44.000000</td>\n",
       "      <td>0.0</td>\n",
       "    </tr>\n",
       "  </tbody>\n",
       "</table>\n",
       "</div>"
      ],
      "text/plain": [
       "             CNPJ  UF REGIAO  TIPO_IMP  CAP_HIDRATADO  CAP_ANIDRO  \\\n",
       "1  05627254000158  RJ     SE         0          600.0         0.0   \n",
       "3  28963189000137  RJ     SE         0          150.0         0.0   \n",
       "0  05500757000168  RJ     SE         0          250.0         0.0   \n",
       "2  28851889000210  RJ     SE         0          270.0       240.0   \n",
       "\n",
       "   TANCAGEM_ETANOL  TANCAGEM_DIESEL  missingindicator_TANCAGEM_DIESEL  \n",
       "1          10240.0        44.666667                               1.0  \n",
       "3          11330.0        30.000000                               0.0  \n",
       "0          16265.0        60.000000                               0.0  \n",
       "2          18000.0        44.000000                               0.0  "
      ]
     },
     "execution_count": 387,
     "metadata": {},
     "output_type": "execute_result"
    }
   ],
   "source": [
    "imput.loc[list(v[0])]"
   ]
  },
  {
   "cell_type": "code",
   "execution_count": 182,
   "metadata": {
    "jupyter": {
     "outputs_hidden": false,
     "source_hidden": false
    },
    "nteract": {
     "transient": {
      "deleting": false
     }
    }
   },
   "outputs": [
    {
     "data": {
      "application/vnd.livy.statement-meta+json": {
       "execution_finish_time": "2023-04-17T20:07:17.0732584Z",
       "execution_start_time": "2023-04-17T20:07:16.9000061Z",
       "livy_statement_state": "available",
       "parent_msg_id": "e6013c75-c4ce-4075-97c9-3fb5df388073",
       "queued_time": "2023-04-17T20:07:16.7241578Z",
       "session_id": "627",
       "session_start_time": null,
       "spark_jobs": null,
       "spark_pool": "dssparkpool",
       "state": "finished",
       "statement_id": 2
      },
      "text/plain": [
       "StatementMeta(dssparkpool, 627, 2, Finished, Available)"
      ]
     },
     "metadata": {},
     "output_type": "display_data"
    },
    {
     "ename": "NameError",
     "evalue": "name 'n_imput' is not defined",
     "output_type": "error",
     "traceback": [
      "\u001b[0;31m---------------------------------------------------------------------------\u001b[0m",
      "\u001b[0;31mNameError\u001b[0m                                 Traceback (most recent call last)",
      "\u001b[0;32m/tmp/ipykernel_13485/399700187.py\u001b[0m in \u001b[0;36m<module>\u001b[0;34m\u001b[0m\n\u001b[0;32m----> 1\u001b[0;31m \u001b[0mn_imput\u001b[0m\u001b[0;34m.\u001b[0m\u001b[0mloc\u001b[0m\u001b[0;34m[\u001b[0m\u001b[0mlist\u001b[0m\u001b[0;34m(\u001b[0m\u001b[0mv\u001b[0m\u001b[0;34m[\u001b[0m\u001b[0;36m0\u001b[0m\u001b[0;34m]\u001b[0m\u001b[0;34m[\u001b[0m\u001b[0;36m1\u001b[0m\u001b[0;34m:\u001b[0m\u001b[0;34m]\u001b[0m\u001b[0;34m)\u001b[0m\u001b[0;34m]\u001b[0m\u001b[0;34m[\u001b[0m\u001b[0;34m'TANCAGEM_DIESEL'\u001b[0m\u001b[0;34m]\u001b[0m\u001b[0;34m.\u001b[0m\u001b[0mmean\u001b[0m\u001b[0;34m(\u001b[0m\u001b[0;34m)\u001b[0m\u001b[0;34m\u001b[0m\u001b[0;34m\u001b[0m\u001b[0m\n\u001b[0m",
      "\u001b[0;31mNameError\u001b[0m: name 'n_imput' is not defined"
     ]
    }
   ],
   "source": [
    "n_imput.loc[list(v[0][1:])]['TANCAGEM_DIESEL'].mean()"
   ]
  },
  {
   "cell_type": "code",
   "execution_count": null,
   "metadata": {
    "jupyter": {
     "outputs_hidden": false,
     "source_hidden": false
    },
    "nteract": {
     "transient": {
      "deleting": false
     }
    }
   },
   "outputs": [
    {
     "data": {
      "application/vnd.livy.statement-meta+json": {
       "execution_finish_time": "2023-04-17T17:26:23.4486598Z",
       "execution_start_time": null,
       "livy_statement_state": null,
       "parent_msg_id": "3830a8da-061d-40bd-a17b-7f192c44c9d0",
       "queued_time": "2023-04-17T17:25:02.2737037Z",
       "session_id": null,
       "session_start_time": null,
       "spark_jobs": null,
       "spark_pool": null,
       "state": "cancelled",
       "statement_id": null
      },
      "text/plain": [
       "StatementMeta(, , , Cancelled, )"
      ]
     },
     "metadata": {},
     "output_type": "display_data"
    }
   ],
   "source": [
    "(50+60+75)/3"
   ]
  },
  {
   "cell_type": "code",
   "execution_count": null,
   "metadata": {
    "jupyter": {
     "outputs_hidden": false,
     "source_hidden": false
    },
    "nteract": {
     "transient": {
      "deleting": false
     }
    }
   },
   "outputs": [],
   "source": [
    "erro"
   ]
  },
  {
   "cell_type": "code",
   "execution_count": null,
   "metadata": {
    "jupyter": {
     "outputs_hidden": false,
     "source_hidden": false
    },
    "nteract": {
     "transient": {
      "deleting": false
     }
    }
   },
   "outputs": [
    {
     "data": {
      "application/vnd.livy.statement-meta+json": {
       "execution_finish_time": "2023-04-17T17:26:23.4491851Z",
       "execution_start_time": null,
       "livy_statement_state": null,
       "parent_msg_id": "18df6b66-d424-4323-ad87-97d37f9306ba",
       "queued_time": "2023-04-17T17:25:02.4385469Z",
       "session_id": null,
       "session_start_time": null,
       "spark_jobs": null,
       "spark_pool": null,
       "state": "cancelled",
       "statement_id": null
      },
      "text/plain": [
       "StatementMeta(, , , Cancelled, )"
      ]
     },
     "metadata": {},
     "output_type": "display_data"
    }
   ],
   "source": [
    "fig, axis = plt.subplots(2,2,figsize=(8, 8))\n",
    "df.hist(ax=axis, bins=50)"
   ]
  },
  {
   "cell_type": "code",
   "execution_count": null,
   "metadata": {
    "jupyter": {
     "outputs_hidden": false,
     "source_hidden": false
    },
    "nteract": {
     "transient": {
      "deleting": false
     }
    }
   },
   "outputs": [
    {
     "data": {
      "application/vnd.livy.statement-meta+json": {
       "execution_finish_time": "2023-04-17T17:26:23.4497668Z",
       "execution_start_time": null,
       "livy_statement_state": null,
       "parent_msg_id": "ce902e4e-eb0e-4fb6-af14-7ac44f75329e",
       "queued_time": "2023-04-17T17:25:02.6214087Z",
       "session_id": null,
       "session_start_time": null,
       "spark_jobs": null,
       "spark_pool": null,
       "state": "cancelled",
       "statement_id": null
      },
      "text/plain": [
       "StatementMeta(, , , Cancelled, )"
      ]
     },
     "metadata": {},
     "output_type": "display_data"
    }
   ],
   "source": [
    "import matplotlib.pyplot as plt\n",
    "%matplotlib inline\n",
    "\n",
    "fig, axis = plt.subplots(2,2,figsize=(8, 8))\n",
    "usinas_impt[var].hist(ax=axis, bins=50)"
   ]
  },
  {
   "cell_type": "code",
   "execution_count": null,
   "metadata": {
    "jupyter": {
     "outputs_hidden": false,
     "source_hidden": false
    },
    "nteract": {
     "transient": {
      "deleting": false
     }
    }
   },
   "outputs": [
    {
     "data": {
      "application/vnd.livy.statement-meta+json": {
       "execution_finish_time": "2023-04-17T17:26:23.4502276Z",
       "execution_start_time": null,
       "livy_statement_state": null,
       "parent_msg_id": "19d9b1aa-1963-4be9-a501-4d3ca8813805",
       "queued_time": "2023-04-17T17:25:02.8003015Z",
       "session_id": null,
       "session_start_time": null,
       "spark_jobs": null,
       "spark_pool": null,
       "state": "cancelled",
       "statement_id": null
      },
      "text/plain": [
       "StatementMeta(, , , Cancelled, )"
      ]
     },
     "metadata": {},
     "output_type": "display_data"
    }
   ],
   "source": [
    "usinas_impt[var].hist()"
   ]
  },
  {
   "cell_type": "code",
   "execution_count": null,
   "metadata": {
    "jupyter": {
     "outputs_hidden": false,
     "source_hidden": false
    },
    "nteract": {
     "transient": {
      "deleting": false
     }
    }
   },
   "outputs": [
    {
     "data": {
      "application/vnd.livy.statement-meta+json": {
       "execution_finish_time": "2023-04-17T17:26:23.4507673Z",
       "execution_start_time": null,
       "livy_statement_state": null,
       "parent_msg_id": "faad38ee-aad0-4034-b78d-f60fcdc9b330",
       "queued_time": "2023-04-17T17:25:02.9715959Z",
       "session_id": null,
       "session_start_time": null,
       "spark_jobs": null,
       "spark_pool": null,
       "state": "cancelled",
       "statement_id": null
      },
      "text/plain": [
       "StatementMeta(, , , Cancelled, )"
      ]
     },
     "metadata": {},
     "output_type": "display_data"
    }
   ],
   "source": [
    "df = usinas_impt[var]\n",
    "knn = KNNImputer(n_neighbors=5, add_indicator=True)\n",
    "knn.fit(df)\n",
    "pd.DataFrame(knn.transform(df), columns=knn.get_feature_names_out())"
   ]
  },
  {
   "cell_type": "code",
   "execution_count": null,
   "metadata": {
    "jupyter": {
     "outputs_hidden": false,
     "source_hidden": false
    },
    "nteract": {
     "transient": {
      "deleting": false
     }
    }
   },
   "outputs": [
    {
     "data": {
      "application/vnd.livy.statement-meta+json": {
       "execution_finish_time": "2023-04-17T17:26:23.451283Z",
       "execution_start_time": null,
       "livy_statement_state": null,
       "parent_msg_id": "5c0951cf-b245-4f6a-ba00-4f24236ac247",
       "queued_time": "2023-04-17T17:25:03.1306666Z",
       "session_id": null,
       "session_start_time": null,
       "spark_jobs": null,
       "spark_pool": null,
       "state": "cancelled",
       "statement_id": null
      },
      "text/plain": [
       "StatementMeta(, , , Cancelled, )"
      ]
     },
     "metadata": {},
     "output_type": "display_data"
    }
   ],
   "source": [
    "knn."
   ]
  },
  {
   "cell_type": "code",
   "execution_count": null,
   "metadata": {
    "jupyter": {
     "outputs_hidden": false,
     "source_hidden": false
    },
    "nteract": {
     "transient": {
      "deleting": false
     }
    }
   },
   "outputs": [
    {
     "data": {
      "application/vnd.livy.statement-meta+json": {
       "execution_finish_time": "2023-04-17T17:26:23.4516975Z",
       "execution_start_time": null,
       "livy_statement_state": null,
       "parent_msg_id": "f78a87a6-0fc1-4bad-b682-2ce064a80ceb",
       "queued_time": "2023-04-17T17:25:03.2933543Z",
       "session_id": null,
       "session_start_time": null,
       "spark_jobs": null,
       "spark_pool": null,
       "state": "cancelled",
       "statement_id": null
      },
      "text/plain": [
       "StatementMeta(, , , Cancelled, )"
      ]
     },
     "metadata": {},
     "output_type": "display_data"
    }
   ],
   "source": [
    "\n",
    "\n"
   ]
  },
  {
   "cell_type": "markdown",
   "metadata": {
    "nteract": {
     "transient": {
      "deleting": false
     }
    }
   },
   "source": [
    "# ADD infos do Histórico de vendas da VIBRA"
   ]
  },
  {
   "cell_type": "code",
   "execution_count": 189,
   "metadata": {
    "jupyter": {
     "outputs_hidden": false,
     "source_hidden": false
    },
    "nteract": {
     "transient": {
      "deleting": false
     }
    }
   },
   "outputs": [
    {
     "data": {
      "application/vnd.livy.statement-meta+json": {
       "execution_finish_time": "2023-04-17T20:13:22.2602602Z",
       "execution_start_time": "2023-04-17T20:13:19.4659184Z",
       "livy_statement_state": "available",
       "parent_msg_id": "ca23c5bc-ccb2-4e33-933b-c5ff288cb46e",
       "queued_time": "2023-04-17T20:13:19.3183154Z",
       "session_id": "627",
       "session_start_time": null,
       "spark_jobs": null,
       "spark_pool": "dssparkpool",
       "state": "finished",
       "statement_id": 17
      },
      "text/plain": [
       "StatementMeta(dssparkpool, 627, 17, Finished, Available)"
      ]
     },
     "metadata": {},
     "output_type": "display_data"
    }
   ],
   "source": [
    "#del(col_names, col_types)                                                  # eliminando dados de outra leitura\n",
    "col_names = pd.read_csv(abfss_path_raw + files[5], nrows=0).columns         # coletando informações de cabeçalho\n",
    "col_types = {col: str for col in col_names if col not in {}}                # todas as colunas como str\n",
    "\n",
    "hist = pd.read_csv(abfss_path_raw + files[5], dtype=col_types,\n",
    "                        storage_options = {'linked_service' : linked_service_raw})\n",
    "\n",
    "hist.drop('keymodel',axis=1,inplace=True) # var não necessária\n",
    "hist['VEDI_VOL'] = hist['VEDI_VOL'].astype(float)\n",
    "hist['VEDI_DAT_VEN'] = pd.to_datetime(hist['VEDI_DAT_VEN'])\n",
    "\n",
    "#organizando o Coreto!\n",
    "hist = hist[['CLIE_NUM_CPF_CNPJ', 'CLIE_NOM_CLIENTE','VEDI_COD_CLI', 'VEDI_VOL', 'VEDI_DAT_VEN', 'ProdutoD', 'AECO']]\n",
    "\n",
    "hist.rename(columns={'CLIE_NUM_CPF_CNPJ': 'CNPJ'}, errors='raise', inplace=True)"
   ]
  },
  {
   "cell_type": "code",
   "execution_count": 190,
   "metadata": {
    "jupyter": {
     "outputs_hidden": false,
     "source_hidden": false
    },
    "nteract": {
     "transient": {
      "deleting": false
     }
    }
   },
   "outputs": [
    {
     "data": {
      "application/vnd.livy.statement-meta+json": {
       "execution_finish_time": "2023-04-17T20:13:26.6651524Z",
       "execution_start_time": "2023-04-17T20:13:26.4990435Z",
       "livy_statement_state": "available",
       "parent_msg_id": "dab0193c-99b9-4837-9ba1-1182e9f429f1",
       "queued_time": "2023-04-17T20:13:26.347118Z",
       "session_id": "627",
       "session_start_time": null,
       "spark_jobs": null,
       "spark_pool": "dssparkpool",
       "state": "finished",
       "statement_id": 18
      },
      "text/plain": [
       "StatementMeta(dssparkpool, 627, 18, Finished, Available)"
      ]
     },
     "metadata": {},
     "output_type": "display_data"
    },
    {
     "data": {
      "text/html": [
       "<div>\n",
       "<style scoped>\n",
       "    .dataframe tbody tr th:only-of-type {\n",
       "        vertical-align: middle;\n",
       "    }\n",
       "\n",
       "    .dataframe tbody tr th {\n",
       "        vertical-align: top;\n",
       "    }\n",
       "\n",
       "    .dataframe thead th {\n",
       "        text-align: right;\n",
       "    }\n",
       "</style>\n",
       "<table border=\"1\" class=\"dataframe\">\n",
       "  <thead>\n",
       "    <tr style=\"text-align: right;\">\n",
       "      <th></th>\n",
       "      <th>CNPJ</th>\n",
       "      <th>CLIE_NOM_CLIENTE</th>\n",
       "      <th>VEDI_COD_CLI</th>\n",
       "      <th>VEDI_VOL</th>\n",
       "      <th>VEDI_DAT_VEN</th>\n",
       "      <th>ProdutoD</th>\n",
       "      <th>AECO</th>\n",
       "    </tr>\n",
       "  </thead>\n",
       "  <tbody>\n",
       "    <tr>\n",
       "      <th>0</th>\n",
       "      <td>26300196000123</td>\n",
       "      <td>ARAUNA PETRO COMBUSTIVEIS LTDA</td>\n",
       "      <td>1165222</td>\n",
       "      <td>23492.800000</td>\n",
       "      <td>2022-06-17</td>\n",
       "      <td>Diesel</td>\n",
       "      <td>TRR</td>\n",
       "    </tr>\n",
       "    <tr>\n",
       "      <th>1</th>\n",
       "      <td>17890705000124</td>\n",
       "      <td>PETRODADO COMERCIO DE COMBUSTIVEIS</td>\n",
       "      <td>1021492</td>\n",
       "      <td>20341.450000</td>\n",
       "      <td>2022-02-24</td>\n",
       "      <td>Diesel</td>\n",
       "      <td>TRR</td>\n",
       "    </tr>\n",
       "    <tr>\n",
       "      <th>2</th>\n",
       "      <td>87356168000112</td>\n",
       "      <td>T R R COMBUSTIVEIS OURENSE LTDA</td>\n",
       "      <td>20991</td>\n",
       "      <td>19418.560151</td>\n",
       "      <td>2018-08-30</td>\n",
       "      <td>Diesel</td>\n",
       "      <td>TRR</td>\n",
       "    </tr>\n",
       "    <tr>\n",
       "      <th>3</th>\n",
       "      <td>13462206000185</td>\n",
       "      <td>SAVE REVENDEDOR RETALHISTA LTDA.</td>\n",
       "      <td>1045004</td>\n",
       "      <td>19107.780000</td>\n",
       "      <td>2022-03-04</td>\n",
       "      <td>Diesel</td>\n",
       "      <td>TRR</td>\n",
       "    </tr>\n",
       "    <tr>\n",
       "      <th>4</th>\n",
       "      <td>05787607000187</td>\n",
       "      <td>WELP TRANSPORTADOR REVENDEDOR RETAL</td>\n",
       "      <td>85310</td>\n",
       "      <td>18930.800000</td>\n",
       "      <td>2022-05-09</td>\n",
       "      <td>Diesel</td>\n",
       "      <td>TRR</td>\n",
       "    </tr>\n",
       "    <tr>\n",
       "      <th>...</th>\n",
       "      <td>...</td>\n",
       "      <td>...</td>\n",
       "      <td>...</td>\n",
       "      <td>...</td>\n",
       "      <td>...</td>\n",
       "      <td>...</td>\n",
       "      <td>...</td>\n",
       "    </tr>\n",
       "    <tr>\n",
       "      <th>40893</th>\n",
       "      <td>40254927000172</td>\n",
       "      <td>PARANA XISTO S.A.</td>\n",
       "      <td>1660529</td>\n",
       "      <td>-575.000000</td>\n",
       "      <td>2022-10-13</td>\n",
       "      <td>Diesel</td>\n",
       "      <td>ÓLEO E GÁS</td>\n",
       "    </tr>\n",
       "    <tr>\n",
       "      <th>40894</th>\n",
       "      <td>15144306000199</td>\n",
       "      <td>VALE MANGANES S.A</td>\n",
       "      <td>9585</td>\n",
       "      <td>-585.000000</td>\n",
       "      <td>2018-01-16</td>\n",
       "      <td>Diesel</td>\n",
       "      <td>METALURGIA E SIDERUR</td>\n",
       "    </tr>\n",
       "    <tr>\n",
       "      <th>40895</th>\n",
       "      <td>04028583000209</td>\n",
       "      <td>EQUINOR BRASIL ENERGIA LTDA.</td>\n",
       "      <td>148699</td>\n",
       "      <td>-800.000000</td>\n",
       "      <td>2021-09-08</td>\n",
       "      <td>Diesel</td>\n",
       "      <td>ÓLEO E GÁS</td>\n",
       "    </tr>\n",
       "    <tr>\n",
       "      <th>40896</th>\n",
       "      <td>33000167111957</td>\n",
       "      <td>PETROLEO BRASILEIRO S A PETROBRAS</td>\n",
       "      <td>35668</td>\n",
       "      <td>-995.000000</td>\n",
       "      <td>2022-08-19</td>\n",
       "      <td>Diesel</td>\n",
       "      <td>ÓLEO E GÁS</td>\n",
       "    </tr>\n",
       "    <tr>\n",
       "      <th>40897</th>\n",
       "      <td>10456016004405</td>\n",
       "      <td>SHELL BRASIL PETROLEO LTDA</td>\n",
       "      <td>1629863</td>\n",
       "      <td>-1345.000000</td>\n",
       "      <td>2022-05-10</td>\n",
       "      <td>Diesel</td>\n",
       "      <td>ÓLEO E GÁS</td>\n",
       "    </tr>\n",
       "  </tbody>\n",
       "</table>\n",
       "<p>40898 rows × 7 columns</p>\n",
       "</div>"
      ],
      "text/plain": [
       "                 CNPJ                     CLIE_NOM_CLIENTE VEDI_COD_CLI  \\\n",
       "0      26300196000123       ARAUNA PETRO COMBUSTIVEIS LTDA      1165222   \n",
       "1      17890705000124   PETRODADO COMERCIO DE COMBUSTIVEIS      1021492   \n",
       "2      87356168000112      T R R COMBUSTIVEIS OURENSE LTDA        20991   \n",
       "3      13462206000185     SAVE REVENDEDOR RETALHISTA LTDA.      1045004   \n",
       "4      05787607000187  WELP TRANSPORTADOR REVENDEDOR RETAL        85310   \n",
       "...               ...                                  ...          ...   \n",
       "40893  40254927000172                    PARANA XISTO S.A.      1660529   \n",
       "40894  15144306000199                    VALE MANGANES S.A         9585   \n",
       "40895  04028583000209         EQUINOR BRASIL ENERGIA LTDA.       148699   \n",
       "40896  33000167111957    PETROLEO BRASILEIRO S A PETROBRAS        35668   \n",
       "40897  10456016004405           SHELL BRASIL PETROLEO LTDA      1629863   \n",
       "\n",
       "           VEDI_VOL VEDI_DAT_VEN ProdutoD                  AECO  \n",
       "0      23492.800000   2022-06-17   Diesel                   TRR  \n",
       "1      20341.450000   2022-02-24   Diesel                   TRR  \n",
       "2      19418.560151   2018-08-30   Diesel                   TRR  \n",
       "3      19107.780000   2022-03-04   Diesel                   TRR  \n",
       "4      18930.800000   2022-05-09   Diesel                   TRR  \n",
       "...             ...          ...      ...                   ...  \n",
       "40893   -575.000000   2022-10-13   Diesel            ÓLEO E GÁS  \n",
       "40894   -585.000000   2018-01-16   Diesel  METALURGIA E SIDERUR  \n",
       "40895   -800.000000   2021-09-08   Diesel            ÓLEO E GÁS  \n",
       "40896   -995.000000   2022-08-19   Diesel            ÓLEO E GÁS  \n",
       "40897  -1345.000000   2022-05-10   Diesel            ÓLEO E GÁS  \n",
       "\n",
       "[40898 rows x 7 columns]"
      ]
     },
     "execution_count": 39,
     "metadata": {},
     "output_type": "execute_result"
    }
   ],
   "source": [
    "hist"
   ]
  },
  {
   "cell_type": "markdown",
   "metadata": {
    "nteract": {
     "transient": {
      "deleting": false
     }
    }
   },
   "source": [
    "### Explorer histdiesel"
   ]
  },
  {
   "cell_type": "code",
   "execution_count": 191,
   "metadata": {
    "jupyter": {
     "outputs_hidden": false,
     "source_hidden": false
    },
    "nteract": {
     "transient": {
      "deleting": false
     }
    }
   },
   "outputs": [
    {
     "data": {
      "application/vnd.livy.statement-meta+json": {
       "execution_finish_time": "2023-04-17T20:15:10.8017018Z",
       "execution_start_time": "2023-04-17T20:15:10.6140336Z",
       "livy_statement_state": "available",
       "parent_msg_id": "9df6d0d7-f8a2-43eb-8c12-eb6d72674996",
       "queued_time": "2023-04-17T20:15:10.4587502Z",
       "session_id": "627",
       "session_start_time": null,
       "spark_jobs": null,
       "spark_pool": "dssparkpool",
       "state": "finished",
       "statement_id": 19
      },
      "text/plain": [
       "StatementMeta(dssparkpool, 627, 19, Finished, Available)"
      ]
     },
     "metadata": {},
     "output_type": "display_data"
    }
   ],
   "source": [
    "import plotly.graph_objects as go"
   ]
  },
  {
   "cell_type": "code",
   "execution_count": 192,
   "metadata": {
    "jupyter": {
     "outputs_hidden": false,
     "source_hidden": false
    },
    "nteract": {
     "transient": {
      "deleting": false
     }
    }
   },
   "outputs": [
    {
     "data": {
      "application/vnd.livy.statement-meta+json": {
       "execution_finish_time": "2023-04-17T20:15:16.2241064Z",
       "execution_start_time": "2023-04-17T20:15:16.0520063Z",
       "livy_statement_state": "available",
       "parent_msg_id": "831bf118-1646-48c3-900c-98cd7a6de510",
       "queued_time": "2023-04-17T20:15:15.9077722Z",
       "session_id": "627",
       "session_start_time": null,
       "spark_jobs": null,
       "spark_pool": "dssparkpool",
       "state": "finished",
       "statement_id": 20
      },
      "text/plain": [
       "StatementMeta(dssparkpool, 627, 20, Finished, Available)"
      ]
     },
     "metadata": {},
     "output_type": "display_data"
    }
   ],
   "source": [
    "# multi_plot requires two variables:\n",
    "# - df is a dataframe with stocks as columns and rows as date of the stock price\n",
    "# - addAll is to have a dropdown button to display all stocks at once\n",
    "def multi_plot(df, addAll = True):\n",
    "    fig = go.Figure()\n",
    "\n",
    "    for column in df.columns.to_list():\n",
    "        fig.add_trace(\n",
    "            go.Scatter(\n",
    "                x = df.index,\n",
    "                y = df[column],\n",
    "                name = column\n",
    "            )\n",
    "        )\n",
    "\n",
    "    button_all = dict(label = 'All',\n",
    "                      method = 'update',\n",
    "                      args = [{'visible': df.columns.isin(df.columns),\n",
    "                               'title': 'All',\n",
    "                               'showlegend':True}])\n",
    "\n",
    "    def create_layout_button(column):\n",
    "        return dict(label = column,\n",
    "                    method = 'update',\n",
    "                    args = [{'visible': df.columns.isin([column]),\n",
    "                             'title': column,\n",
    "                             'showlegend': True}])\n",
    "\n",
    "    fig.update_layout(\n",
    "        updatemenus=[go.layout.Updatemenu(\n",
    "            active = 0,\n",
    "            buttons = ([button_all] * addAll) + list(df.columns.map(lambda column: create_layout_button(column)))\n",
    "            )\n",
    "        ])\n",
    "    \n",
    "    fig.show()"
   ]
  },
  {
   "cell_type": "code",
   "execution_count": 193,
   "metadata": {
    "jupyter": {
     "outputs_hidden": false,
     "source_hidden": false
    },
    "nteract": {
     "transient": {
      "deleting": false
     }
    }
   },
   "outputs": [
    {
     "data": {
      "application/vnd.livy.statement-meta+json": {
       "execution_finish_time": "2023-04-17T20:15:22.0304069Z",
       "execution_start_time": "2023-04-17T20:15:21.857882Z",
       "livy_statement_state": "available",
       "parent_msg_id": "40055157-e887-4187-8019-8b78578b13c5",
       "queued_time": "2023-04-17T20:15:21.6984724Z",
       "session_id": "627",
       "session_start_time": null,
       "spark_jobs": null,
       "spark_pool": "dssparkpool",
       "state": "finished",
       "statement_id": 21
      },
      "text/plain": [
       "StatementMeta(dssparkpool, 627, 21, Finished, Available)"
      ]
     },
     "metadata": {},
     "output_type": "display_data"
    }
   ],
   "source": [
    "def hist_geo(geo='UF'):\n",
    "    aux = hist1.set_index('VEDI_DAT_VEN')\n",
    "    aux = aux.groupby([geo]).resample('MS').sum()\n",
    "    aux = aux.unstack(level=0)\n",
    "    aux.columns = aux.columns.droplevel(0)\n",
    "    aux = aux.rename_axis(None, axis=1)\n",
    "    return(aux)\n",
    "\n",
    "def hist_all():\n",
    "    aux = hist1.set_index('VEDI_DAT_VEN')\n",
    "    aux = aux.resample('MS').sum()\n",
    "    return(aux)"
   ]
  },
  {
   "cell_type": "code",
   "execution_count": 198,
   "metadata": {
    "jupyter": {
     "outputs_hidden": false,
     "source_hidden": false
    },
    "nteract": {
     "transient": {
      "deleting": false
     }
    }
   },
   "outputs": [
    {
     "data": {
      "application/vnd.livy.statement-meta+json": {
       "execution_finish_time": "2023-04-17T20:16:26.3627671Z",
       "execution_start_time": "2023-04-17T20:16:25.2525432Z",
       "livy_statement_state": "available",
       "parent_msg_id": "58e3819f-85a1-4b56-9e6e-2058a8ebc813",
       "queued_time": "2023-04-17T20:16:25.0995237Z",
       "session_id": "627",
       "session_start_time": null,
       "spark_jobs": null,
       "spark_pool": "dssparkpool",
       "state": "finished",
       "statement_id": 26
      },
      "text/plain": [
       "StatementMeta(dssparkpool, 627, 26, Finished, Available)"
      ]
     },
     "metadata": {},
     "output_type": "display_data"
    }
   ],
   "source": [
    "# colentando cod nomes UFs\n",
    "uf = pd.json_normalize(Estados().json_ibge)\n",
    "\n",
    "hist1 = hist.merge(mm_proj[['CNPJ','UF']], how='left', on='CNPJ')                                   # Agregando UF ao Histórico\n",
    "hist1 = hist1.merge(uf[['sigla','regiao.sigla']], how='left', left_on='UF', right_on='sigla')       # Agregando Região ao Histórico\n",
    "hist1.rename(columns={'regiao.sigla':'REGIAO'}, inplace=True)\n",
    "hist1.drop('sigla', axis=1, inplace=True)\n",
    "hist1 = hist1[hist1['AECO']=='USINA'].reset_index(drop=True)\n",
    "\n",
    "\n",
    "hist1.loc[hist1['UF'].isnull(),['UF','REGIAO']] = 'Sem_UF'\n"
   ]
  },
  {
   "cell_type": "code",
   "execution_count": null,
   "metadata": {
    "jupyter": {
     "outputs_hidden": false,
     "source_hidden": false
    },
    "nteract": {
     "transient": {
      "deleting": false
     }
    }
   },
   "outputs": [
    {
     "data": {
      "application/vnd.livy.statement-meta+json": {
       "execution_finish_time": "2023-04-17T17:26:23.4542228Z",
       "execution_start_time": null,
       "livy_statement_state": null,
       "parent_msg_id": "1892d942-f727-442b-b3f1-7f5fbea0f3d6",
       "queued_time": "2023-04-17T17:25:04.2889645Z",
       "session_id": null,
       "session_start_time": null,
       "spark_jobs": null,
       "spark_pool": null,
       "state": "cancelled",
       "statement_id": null
      },
      "text/plain": [
       "StatementMeta(, , , Cancelled, )"
      ]
     },
     "metadata": {},
     "output_type": "display_data"
    }
   ],
   "source": [
    "multi_plot(hist_all())"
   ]
  },
  {
   "cell_type": "code",
   "execution_count": null,
   "metadata": {
    "jupyter": {
     "outputs_hidden": false,
     "source_hidden": false
    },
    "nteract": {
     "transient": {
      "deleting": false
     }
    }
   },
   "outputs": [
    {
     "data": {
      "application/vnd.livy.statement-meta+json": {
       "execution_finish_time": "2023-04-17T17:26:23.4560141Z",
       "execution_start_time": null,
       "livy_statement_state": null,
       "parent_msg_id": "41b35d2d-6fb3-46a7-9a3e-a4f28512a735",
       "queued_time": "2023-04-17T17:25:04.4413661Z",
       "session_id": null,
       "session_start_time": null,
       "spark_jobs": null,
       "spark_pool": null,
       "state": "cancelled",
       "statement_id": null
      },
      "text/plain": [
       "StatementMeta(, , , Cancelled, )"
      ]
     },
     "metadata": {},
     "output_type": "display_data"
    }
   ],
   "source": [
    "multi_plot(hist_geo('REGIAO'))"
   ]
  },
  {
   "cell_type": "code",
   "execution_count": null,
   "metadata": {
    "jupyter": {
     "outputs_hidden": false,
     "source_hidden": false
    },
    "nteract": {
     "transient": {
      "deleting": false
     }
    }
   },
   "outputs": [
    {
     "data": {
      "application/vnd.livy.statement-meta+json": {
       "execution_finish_time": "2023-04-17T17:26:23.4564442Z",
       "execution_start_time": null,
       "livy_statement_state": null,
       "parent_msg_id": "262f059b-ad07-45e9-878b-65d46d158e5b",
       "queued_time": "2023-04-17T17:25:04.6602376Z",
       "session_id": null,
       "session_start_time": null,
       "spark_jobs": null,
       "spark_pool": null,
       "state": "cancelled",
       "statement_id": null
      },
      "text/plain": [
       "StatementMeta(, , , Cancelled, )"
      ]
     },
     "metadata": {},
     "output_type": "display_data"
    }
   ],
   "source": [
    "multi_plot(hist_geo('UF'))\n"
   ]
  },
  {
   "cell_type": "markdown",
   "metadata": {
    "nteract": {
     "transient": {
      "deleting": false
     }
    }
   },
   "source": [
    "### Filtros da base de histórico de vendas Vibra"
   ]
  },
  {
   "cell_type": "markdown",
   "metadata": {
    "nteract": {
     "transient": {
      "deleting": false
     }
    }
   },
   "source": [
    "**Nota**\n",
    "\n",
    "Estudar a natureza e peculiaridades das vendas AECO=USINA\n",
    "GRAFICO VENDAS VIBRA USINAS NO TEMPO MES/ANO - groupbr mes/ano sum() VOL VENDAS"
   ]
  },
  {
   "cell_type": "code",
   "execution_count": null,
   "metadata": {
    "jupyter": {
     "outputs_hidden": false,
     "source_hidden": false
    },
    "nteract": {
     "transient": {
      "deleting": false
     }
    }
   },
   "outputs": [
    {
     "data": {
      "application/vnd.livy.statement-meta+json": {
       "execution_finish_time": "2023-04-17T17:26:23.456929Z",
       "execution_start_time": null,
       "livy_statement_state": null,
       "parent_msg_id": "d155c80c-f290-4fb4-910a-0b9e8da42cd4",
       "queued_time": "2023-04-17T17:25:04.831649Z",
       "session_id": null,
       "session_start_time": null,
       "spark_jobs": null,
       "spark_pool": null,
       "state": "cancelled",
       "statement_id": null
      },
      "text/plain": [
       "StatementMeta(, , , Cancelled, )"
      ]
     },
     "metadata": {},
     "output_type": "display_data"
    }
   ],
   "source": [
    "#dfUsinaVibra[(dfUsinaVibra[ \"VEDI_VOL\" ] <=50) & (dfUsinaVibra['AECO']=='USINA')]"
   ]
  },
  {
   "cell_type": "code",
   "execution_count": 262,
   "metadata": {
    "jupyter": {
     "outputs_hidden": false,
     "source_hidden": false
    },
    "nteract": {
     "transient": {
      "deleting": false
     }
    }
   },
   "outputs": [
    {
     "data": {
      "application/vnd.livy.statement-meta+json": {
       "execution_finish_time": "2023-04-17T20:22:56.3760472Z",
       "execution_start_time": "2023-04-17T20:22:56.177102Z",
       "livy_statement_state": "available",
       "parent_msg_id": "1ae566c5-07c0-4e13-93ce-6005c1223cd1",
       "queued_time": "2023-04-17T20:22:56.0305839Z",
       "session_id": "627",
       "session_start_time": null,
       "spark_jobs": null,
       "spark_pool": "dssparkpool",
       "state": "finished",
       "statement_id": 106
      },
      "text/plain": [
       "StatementMeta(dssparkpool, 627, 106, Finished, Available)"
      ]
     },
     "metadata": {},
     "output_type": "display_data"
    }
   ],
   "source": [
    "dfUsinaVibra = hist[(hist[\"ProdutoD\"] == \"Diesel\") & (hist[ \"VEDI_VOL\" ] > 0)]      # eliminando dados de vendas negativas ou zeradas\n",
    "dfUsinaVibra = dfUsinaVibra.merge(usinas1[['CNPJ', 'MUNICIPIO','UF', 'TANCAGEM_DIESEL', 'SITUACAO_ANP']], how='left', on ='CNPJ')\n",
    "df = dfUsinaVibra.copy()"
   ]
  },
  {
   "cell_type": "code",
   "execution_count": 265,
   "metadata": {
    "jupyter": {
     "outputs_hidden": false,
     "source_hidden": false
    },
    "nteract": {
     "transient": {
      "deleting": false
     }
    }
   },
   "outputs": [
    {
     "data": {
      "application/vnd.livy.statement-meta+json": {
       "execution_finish_time": "2023-04-17T20:44:39.0612018Z",
       "execution_start_time": "2023-04-17T20:44:38.8945751Z",
       "livy_statement_state": "available",
       "parent_msg_id": "3f82b8f3-693f-49d3-aa31-8838a53c62f8",
       "queued_time": "2023-04-17T20:44:38.7364418Z",
       "session_id": "627",
       "session_start_time": null,
       "spark_jobs": null,
       "spark_pool": "dssparkpool",
       "state": "finished",
       "statement_id": 109
      },
      "text/plain": [
       "StatementMeta(dssparkpool, 627, 109, Finished, Available)"
      ]
     },
     "metadata": {},
     "output_type": "display_data"
    },
    {
     "data": {
      "text/html": [
       "<div>\n",
       "<style scoped>\n",
       "    .dataframe tbody tr th:only-of-type {\n",
       "        vertical-align: middle;\n",
       "    }\n",
       "\n",
       "    .dataframe tbody tr th {\n",
       "        vertical-align: top;\n",
       "    }\n",
       "\n",
       "    .dataframe thead th {\n",
       "        text-align: right;\n",
       "    }\n",
       "</style>\n",
       "<table border=\"1\" class=\"dataframe\">\n",
       "  <thead>\n",
       "    <tr style=\"text-align: right;\">\n",
       "      <th></th>\n",
       "      <th>CNPJ</th>\n",
       "      <th>CLIE_NOM_CLIENTE</th>\n",
       "      <th>VEDI_COD_CLI</th>\n",
       "      <th>VEDI_VOL</th>\n",
       "      <th>VEDI_DAT_VEN</th>\n",
       "      <th>ProdutoD</th>\n",
       "      <th>AECO</th>\n",
       "      <th>MUNICIPIO</th>\n",
       "      <th>UF</th>\n",
       "      <th>TANCAGEM_DIESEL</th>\n",
       "      <th>SITUACAO_ANP</th>\n",
       "    </tr>\n",
       "  </thead>\n",
       "  <tbody>\n",
       "    <tr>\n",
       "      <th>3269</th>\n",
       "      <td>01105558000102</td>\n",
       "      <td>WD AGROINDUSTRIAL LTDA</td>\n",
       "      <td>64314</td>\n",
       "      <td>3749.1</td>\n",
       "      <td>2018-05-11</td>\n",
       "      <td>Diesel</td>\n",
       "      <td>USINA</td>\n",
       "      <td>João Pinheiro</td>\n",
       "      <td>MG</td>\n",
       "      <td>165.0</td>\n",
       "      <td>ATIVA</td>\n",
       "    </tr>\n",
       "    <tr>\n",
       "      <th>4029</th>\n",
       "      <td>01105558000102</td>\n",
       "      <td>WD AGROINDUSTRIAL LTDA</td>\n",
       "      <td>64314</td>\n",
       "      <td>3112.5</td>\n",
       "      <td>2019-06-19</td>\n",
       "      <td>Diesel</td>\n",
       "      <td>USINA</td>\n",
       "      <td>João Pinheiro</td>\n",
       "      <td>MG</td>\n",
       "      <td>165.0</td>\n",
       "      <td>ATIVA</td>\n",
       "    </tr>\n",
       "    <tr>\n",
       "      <th>4342</th>\n",
       "      <td>01105558000102</td>\n",
       "      <td>WD AGROINDUSTRIAL LTDA</td>\n",
       "      <td>64314</td>\n",
       "      <td>2961.0</td>\n",
       "      <td>2020-04-27</td>\n",
       "      <td>Diesel</td>\n",
       "      <td>USINA</td>\n",
       "      <td>João Pinheiro</td>\n",
       "      <td>MG</td>\n",
       "      <td>165.0</td>\n",
       "      <td>ATIVA</td>\n",
       "    </tr>\n",
       "    <tr>\n",
       "      <th>6078</th>\n",
       "      <td>01105558000102</td>\n",
       "      <td>WD AGROINDUSTRIAL LTDA</td>\n",
       "      <td>64314</td>\n",
       "      <td>2486.1</td>\n",
       "      <td>2021-07-30</td>\n",
       "      <td>Diesel</td>\n",
       "      <td>USINA</td>\n",
       "      <td>João Pinheiro</td>\n",
       "      <td>MG</td>\n",
       "      <td>165.0</td>\n",
       "      <td>ATIVA</td>\n",
       "    </tr>\n",
       "    <tr>\n",
       "      <th>9540</th>\n",
       "      <td>01105558000102</td>\n",
       "      <td>WD AGROINDUSTRIAL LTDA</td>\n",
       "      <td>64314</td>\n",
       "      <td>1850.5</td>\n",
       "      <td>2020-11-07</td>\n",
       "      <td>Diesel</td>\n",
       "      <td>USINA</td>\n",
       "      <td>João Pinheiro</td>\n",
       "      <td>MG</td>\n",
       "      <td>165.0</td>\n",
       "      <td>ATIVA</td>\n",
       "    </tr>\n",
       "    <tr>\n",
       "      <th>9567</th>\n",
       "      <td>01105558000102</td>\n",
       "      <td>WD AGROINDUSTRIAL LTDA</td>\n",
       "      <td>64314</td>\n",
       "      <td>1845.7</td>\n",
       "      <td>2022-06-21</td>\n",
       "      <td>Diesel</td>\n",
       "      <td>USINA</td>\n",
       "      <td>João Pinheiro</td>\n",
       "      <td>MG</td>\n",
       "      <td>165.0</td>\n",
       "      <td>ATIVA</td>\n",
       "    </tr>\n",
       "    <tr>\n",
       "      <th>13592</th>\n",
       "      <td>01105558000102</td>\n",
       "      <td>WD AGROINDUSTRIAL LTDA</td>\n",
       "      <td>64314</td>\n",
       "      <td>881.9</td>\n",
       "      <td>2022-03-22</td>\n",
       "      <td>Diesel</td>\n",
       "      <td>USINA</td>\n",
       "      <td>João Pinheiro</td>\n",
       "      <td>MG</td>\n",
       "      <td>165.0</td>\n",
       "      <td>ATIVA</td>\n",
       "    </tr>\n",
       "    <tr>\n",
       "      <th>13658</th>\n",
       "      <td>01105558000102</td>\n",
       "      <td>WD AGROINDUSTRIAL LTDA</td>\n",
       "      <td>64314</td>\n",
       "      <td>870.5</td>\n",
       "      <td>2017-12-02</td>\n",
       "      <td>Diesel</td>\n",
       "      <td>USINA</td>\n",
       "      <td>João Pinheiro</td>\n",
       "      <td>MG</td>\n",
       "      <td>165.0</td>\n",
       "      <td>ATIVA</td>\n",
       "    </tr>\n",
       "  </tbody>\n",
       "</table>\n",
       "</div>"
      ],
      "text/plain": [
       "                 CNPJ        CLIE_NOM_CLIENTE VEDI_COD_CLI  VEDI_VOL  \\\n",
       "3269   01105558000102  WD AGROINDUSTRIAL LTDA        64314    3749.1   \n",
       "4029   01105558000102  WD AGROINDUSTRIAL LTDA        64314    3112.5   \n",
       "4342   01105558000102  WD AGROINDUSTRIAL LTDA        64314    2961.0   \n",
       "6078   01105558000102  WD AGROINDUSTRIAL LTDA        64314    2486.1   \n",
       "9540   01105558000102  WD AGROINDUSTRIAL LTDA        64314    1850.5   \n",
       "9567   01105558000102  WD AGROINDUSTRIAL LTDA        64314    1845.7   \n",
       "13592  01105558000102  WD AGROINDUSTRIAL LTDA        64314     881.9   \n",
       "13658  01105558000102  WD AGROINDUSTRIAL LTDA        64314     870.5   \n",
       "\n",
       "      VEDI_DAT_VEN ProdutoD   AECO      MUNICIPIO  UF  TANCAGEM_DIESEL  \\\n",
       "3269    2018-05-11   Diesel  USINA  João Pinheiro  MG            165.0   \n",
       "4029    2019-06-19   Diesel  USINA  João Pinheiro  MG            165.0   \n",
       "4342    2020-04-27   Diesel  USINA  João Pinheiro  MG            165.0   \n",
       "6078    2021-07-30   Diesel  USINA  João Pinheiro  MG            165.0   \n",
       "9540    2020-11-07   Diesel  USINA  João Pinheiro  MG            165.0   \n",
       "9567    2022-06-21   Diesel  USINA  João Pinheiro  MG            165.0   \n",
       "13592   2022-03-22   Diesel  USINA  João Pinheiro  MG            165.0   \n",
       "13658   2017-12-02   Diesel  USINA  João Pinheiro  MG            165.0   \n",
       "\n",
       "      SITUACAO_ANP  \n",
       "3269         ATIVA  \n",
       "4029         ATIVA  \n",
       "4342         ATIVA  \n",
       "6078         ATIVA  \n",
       "9540         ATIVA  \n",
       "9567         ATIVA  \n",
       "13592        ATIVA  \n",
       "13658        ATIVA  "
      ]
     },
     "execution_count": 221,
     "metadata": {},
     "output_type": "execute_result"
    }
   ],
   "source": [
    "df[df['CLIE_NOM_CLIENTE']=='WD AGROINDUSTRIAL LTDA']"
   ]
  },
  {
   "cell_type": "code",
   "execution_count": 266,
   "metadata": {
    "jupyter": {
     "outputs_hidden": false,
     "source_hidden": false
    },
    "nteract": {
     "transient": {
      "deleting": false
     }
    }
   },
   "outputs": [
    {
     "data": {
      "application/vnd.livy.statement-meta+json": {
       "execution_finish_time": "2023-04-17T20:44:51.3879Z",
       "execution_start_time": "2023-04-17T20:44:51.2223757Z",
       "livy_statement_state": "available",
       "parent_msg_id": "2d0a6922-21f2-4e5d-b6e3-d2c6f35d58d0",
       "queued_time": "2023-04-17T20:44:51.0282002Z",
       "session_id": "627",
       "session_start_time": null,
       "spark_jobs": null,
       "spark_pool": "dssparkpool",
       "state": "finished",
       "statement_id": 110
      },
      "text/plain": [
       "StatementMeta(dssparkpool, 627, 110, Finished, Available)"
      ]
     },
     "metadata": {},
     "output_type": "display_data"
    },
    {
     "data": {
      "text/html": [
       "<div>\n",
       "<style scoped>\n",
       "    .dataframe tbody tr th:only-of-type {\n",
       "        vertical-align: middle;\n",
       "    }\n",
       "\n",
       "    .dataframe tbody tr th {\n",
       "        vertical-align: top;\n",
       "    }\n",
       "\n",
       "    .dataframe thead th {\n",
       "        text-align: right;\n",
       "    }\n",
       "</style>\n",
       "<table border=\"1\" class=\"dataframe\">\n",
       "  <thead>\n",
       "    <tr style=\"text-align: right;\">\n",
       "      <th></th>\n",
       "      <th>CNPJ</th>\n",
       "      <th>CLIE_NOM_CLIENTE</th>\n",
       "      <th>VEDI_COD_CLI</th>\n",
       "      <th>VEDI_VOL</th>\n",
       "      <th>VEDI_DAT_VEN</th>\n",
       "      <th>ProdutoD</th>\n",
       "      <th>AECO</th>\n",
       "      <th>MUNICIPIO</th>\n",
       "      <th>UF</th>\n",
       "      <th>TANCAGEM_DIESEL</th>\n",
       "      <th>SITUACAO_ANP</th>\n",
       "    </tr>\n",
       "  </thead>\n",
       "  <tbody>\n",
       "    <tr>\n",
       "      <th>3269</th>\n",
       "      <td>01105558000102</td>\n",
       "      <td>WD AGROINDUSTRIAL LTDA</td>\n",
       "      <td>64314</td>\n",
       "      <td>3749.100</td>\n",
       "      <td>2018-05-11</td>\n",
       "      <td>Diesel</td>\n",
       "      <td>USINA</td>\n",
       "      <td>João Pinheiro</td>\n",
       "      <td>MG</td>\n",
       "      <td>165.0</td>\n",
       "      <td>ATIVA</td>\n",
       "    </tr>\n",
       "    <tr>\n",
       "      <th>4029</th>\n",
       "      <td>01105558000102</td>\n",
       "      <td>WD AGROINDUSTRIAL LTDA</td>\n",
       "      <td>64314</td>\n",
       "      <td>3112.500</td>\n",
       "      <td>2019-06-19</td>\n",
       "      <td>Diesel</td>\n",
       "      <td>USINA</td>\n",
       "      <td>João Pinheiro</td>\n",
       "      <td>MG</td>\n",
       "      <td>165.0</td>\n",
       "      <td>ATIVA</td>\n",
       "    </tr>\n",
       "    <tr>\n",
       "      <th>4342</th>\n",
       "      <td>01105558000102</td>\n",
       "      <td>WD AGROINDUSTRIAL LTDA</td>\n",
       "      <td>64314</td>\n",
       "      <td>2961.000</td>\n",
       "      <td>2020-04-27</td>\n",
       "      <td>Diesel</td>\n",
       "      <td>USINA</td>\n",
       "      <td>João Pinheiro</td>\n",
       "      <td>MG</td>\n",
       "      <td>165.0</td>\n",
       "      <td>ATIVA</td>\n",
       "    </tr>\n",
       "    <tr>\n",
       "      <th>6078</th>\n",
       "      <td>01105558000102</td>\n",
       "      <td>WD AGROINDUSTRIAL LTDA</td>\n",
       "      <td>64314</td>\n",
       "      <td>2486.100</td>\n",
       "      <td>2021-07-30</td>\n",
       "      <td>Diesel</td>\n",
       "      <td>USINA</td>\n",
       "      <td>João Pinheiro</td>\n",
       "      <td>MG</td>\n",
       "      <td>165.0</td>\n",
       "      <td>ATIVA</td>\n",
       "    </tr>\n",
       "    <tr>\n",
       "      <th>9540</th>\n",
       "      <td>01105558000102</td>\n",
       "      <td>WD AGROINDUSTRIAL LTDA</td>\n",
       "      <td>64314</td>\n",
       "      <td>1850.500</td>\n",
       "      <td>2020-11-07</td>\n",
       "      <td>Diesel</td>\n",
       "      <td>USINA</td>\n",
       "      <td>João Pinheiro</td>\n",
       "      <td>MG</td>\n",
       "      <td>165.0</td>\n",
       "      <td>ATIVA</td>\n",
       "    </tr>\n",
       "    <tr>\n",
       "      <th>9567</th>\n",
       "      <td>01105558000102</td>\n",
       "      <td>WD AGROINDUSTRIAL LTDA</td>\n",
       "      <td>64314</td>\n",
       "      <td>1845.700</td>\n",
       "      <td>2022-06-21</td>\n",
       "      <td>Diesel</td>\n",
       "      <td>USINA</td>\n",
       "      <td>João Pinheiro</td>\n",
       "      <td>MG</td>\n",
       "      <td>165.0</td>\n",
       "      <td>ATIVA</td>\n",
       "    </tr>\n",
       "    <tr>\n",
       "      <th>12922</th>\n",
       "      <td>00143381000168</td>\n",
       "      <td>MONTEVERDE AGRO-ENERGETICA S.A</td>\n",
       "      <td>92671</td>\n",
       "      <td>1032.500</td>\n",
       "      <td>2017-05-27</td>\n",
       "      <td>Diesel</td>\n",
       "      <td>OUTROS</td>\n",
       "      <td>Ponta Porã</td>\n",
       "      <td>MS</td>\n",
       "      <td>135.0</td>\n",
       "      <td>REVOGADA</td>\n",
       "    </tr>\n",
       "    <tr>\n",
       "      <th>13225</th>\n",
       "      <td>00143381000168</td>\n",
       "      <td>MONTEVERDE AGRO-ENERGETICA S.A</td>\n",
       "      <td>92671</td>\n",
       "      <td>965.500</td>\n",
       "      <td>2016-05-03</td>\n",
       "      <td>Diesel</td>\n",
       "      <td>OUTROS</td>\n",
       "      <td>Ponta Porã</td>\n",
       "      <td>MS</td>\n",
       "      <td>135.0</td>\n",
       "      <td>REVOGADA</td>\n",
       "    </tr>\n",
       "    <tr>\n",
       "      <th>13592</th>\n",
       "      <td>01105558000102</td>\n",
       "      <td>WD AGROINDUSTRIAL LTDA</td>\n",
       "      <td>64314</td>\n",
       "      <td>881.900</td>\n",
       "      <td>2022-03-22</td>\n",
       "      <td>Diesel</td>\n",
       "      <td>USINA</td>\n",
       "      <td>João Pinheiro</td>\n",
       "      <td>MG</td>\n",
       "      <td>165.0</td>\n",
       "      <td>ATIVA</td>\n",
       "    </tr>\n",
       "    <tr>\n",
       "      <th>13658</th>\n",
       "      <td>01105558000102</td>\n",
       "      <td>WD AGROINDUSTRIAL LTDA</td>\n",
       "      <td>64314</td>\n",
       "      <td>870.500</td>\n",
       "      <td>2017-12-02</td>\n",
       "      <td>Diesel</td>\n",
       "      <td>USINA</td>\n",
       "      <td>João Pinheiro</td>\n",
       "      <td>MG</td>\n",
       "      <td>165.0</td>\n",
       "      <td>ATIVA</td>\n",
       "    </tr>\n",
       "    <tr>\n",
       "      <th>16271</th>\n",
       "      <td>00143381000168</td>\n",
       "      <td>MONTEVERDE AGRO-ENERGETICA S.A</td>\n",
       "      <td>92671</td>\n",
       "      <td>555.000</td>\n",
       "      <td>2019-04-01</td>\n",
       "      <td>Diesel</td>\n",
       "      <td>OUTROS</td>\n",
       "      <td>Ponta Porã</td>\n",
       "      <td>MS</td>\n",
       "      <td>135.0</td>\n",
       "      <td>REVOGADA</td>\n",
       "    </tr>\n",
       "    <tr>\n",
       "      <th>16935</th>\n",
       "      <td>00143381000168</td>\n",
       "      <td>MONTEVERDE AGRO-ENERGETICA S.A</td>\n",
       "      <td>92671</td>\n",
       "      <td>517.195</td>\n",
       "      <td>2019-06-27</td>\n",
       "      <td>Diesel</td>\n",
       "      <td>OUTROS</td>\n",
       "      <td>Ponta Porã</td>\n",
       "      <td>MS</td>\n",
       "      <td>135.0</td>\n",
       "      <td>REVOGADA</td>\n",
       "    </tr>\n",
       "    <tr>\n",
       "      <th>17392</th>\n",
       "      <td>00143381000168</td>\n",
       "      <td>MONTEVERDE AGRO-ENERGETICA S.A</td>\n",
       "      <td>92671</td>\n",
       "      <td>491.000</td>\n",
       "      <td>2016-04-25</td>\n",
       "      <td>Diesel</td>\n",
       "      <td>OUTROS</td>\n",
       "      <td>Ponta Porã</td>\n",
       "      <td>MS</td>\n",
       "      <td>135.0</td>\n",
       "      <td>REVOGADA</td>\n",
       "    </tr>\n",
       "    <tr>\n",
       "      <th>19104</th>\n",
       "      <td>00143381000168</td>\n",
       "      <td>MONTEVERDE AGRO-ENERGETICA S.A</td>\n",
       "      <td>92671</td>\n",
       "      <td>414.500</td>\n",
       "      <td>2017-02-20</td>\n",
       "      <td>Diesel</td>\n",
       "      <td>OUTROS</td>\n",
       "      <td>Ponta Porã</td>\n",
       "      <td>MS</td>\n",
       "      <td>135.0</td>\n",
       "      <td>REVOGADA</td>\n",
       "    </tr>\n",
       "    <tr>\n",
       "      <th>23009</th>\n",
       "      <td>00143381000168</td>\n",
       "      <td>MONTEVERDE AGRO-ENERGETICA S.A</td>\n",
       "      <td>92671</td>\n",
       "      <td>289.500</td>\n",
       "      <td>2018-06-23</td>\n",
       "      <td>Diesel</td>\n",
       "      <td>OUTROS</td>\n",
       "      <td>Ponta Porã</td>\n",
       "      <td>MS</td>\n",
       "      <td>135.0</td>\n",
       "      <td>REVOGADA</td>\n",
       "    </tr>\n",
       "  </tbody>\n",
       "</table>\n",
       "</div>"
      ],
      "text/plain": [
       "                 CNPJ                CLIE_NOM_CLIENTE VEDI_COD_CLI  VEDI_VOL  \\\n",
       "3269   01105558000102          WD AGROINDUSTRIAL LTDA        64314  3749.100   \n",
       "4029   01105558000102          WD AGROINDUSTRIAL LTDA        64314  3112.500   \n",
       "4342   01105558000102          WD AGROINDUSTRIAL LTDA        64314  2961.000   \n",
       "6078   01105558000102          WD AGROINDUSTRIAL LTDA        64314  2486.100   \n",
       "9540   01105558000102          WD AGROINDUSTRIAL LTDA        64314  1850.500   \n",
       "9567   01105558000102          WD AGROINDUSTRIAL LTDA        64314  1845.700   \n",
       "12922  00143381000168  MONTEVERDE AGRO-ENERGETICA S.A        92671  1032.500   \n",
       "13225  00143381000168  MONTEVERDE AGRO-ENERGETICA S.A        92671   965.500   \n",
       "13592  01105558000102          WD AGROINDUSTRIAL LTDA        64314   881.900   \n",
       "13658  01105558000102          WD AGROINDUSTRIAL LTDA        64314   870.500   \n",
       "16271  00143381000168  MONTEVERDE AGRO-ENERGETICA S.A        92671   555.000   \n",
       "16935  00143381000168  MONTEVERDE AGRO-ENERGETICA S.A        92671   517.195   \n",
       "17392  00143381000168  MONTEVERDE AGRO-ENERGETICA S.A        92671   491.000   \n",
       "19104  00143381000168  MONTEVERDE AGRO-ENERGETICA S.A        92671   414.500   \n",
       "23009  00143381000168  MONTEVERDE AGRO-ENERGETICA S.A        92671   289.500   \n",
       "\n",
       "      VEDI_DAT_VEN ProdutoD    AECO      MUNICIPIO  UF  TANCAGEM_DIESEL  \\\n",
       "3269    2018-05-11   Diesel   USINA  João Pinheiro  MG            165.0   \n",
       "4029    2019-06-19   Diesel   USINA  João Pinheiro  MG            165.0   \n",
       "4342    2020-04-27   Diesel   USINA  João Pinheiro  MG            165.0   \n",
       "6078    2021-07-30   Diesel   USINA  João Pinheiro  MG            165.0   \n",
       "9540    2020-11-07   Diesel   USINA  João Pinheiro  MG            165.0   \n",
       "9567    2022-06-21   Diesel   USINA  João Pinheiro  MG            165.0   \n",
       "12922   2017-05-27   Diesel  OUTROS     Ponta Porã  MS            135.0   \n",
       "13225   2016-05-03   Diesel  OUTROS     Ponta Porã  MS            135.0   \n",
       "13592   2022-03-22   Diesel   USINA  João Pinheiro  MG            165.0   \n",
       "13658   2017-12-02   Diesel   USINA  João Pinheiro  MG            165.0   \n",
       "16271   2019-04-01   Diesel  OUTROS     Ponta Porã  MS            135.0   \n",
       "16935   2019-06-27   Diesel  OUTROS     Ponta Porã  MS            135.0   \n",
       "17392   2016-04-25   Diesel  OUTROS     Ponta Porã  MS            135.0   \n",
       "19104   2017-02-20   Diesel  OUTROS     Ponta Porã  MS            135.0   \n",
       "23009   2018-06-23   Diesel  OUTROS     Ponta Porã  MS            135.0   \n",
       "\n",
       "      SITUACAO_ANP  \n",
       "3269         ATIVA  \n",
       "4029         ATIVA  \n",
       "4342         ATIVA  \n",
       "6078         ATIVA  \n",
       "9540         ATIVA  \n",
       "9567         ATIVA  \n",
       "12922     REVOGADA  \n",
       "13225     REVOGADA  \n",
       "13592        ATIVA  \n",
       "13658        ATIVA  \n",
       "16271     REVOGADA  \n",
       "16935     REVOGADA  \n",
       "17392     REVOGADA  \n",
       "19104     REVOGADA  \n",
       "23009     REVOGADA  "
      ]
     },
     "execution_count": 223,
     "metadata": {},
     "output_type": "execute_result"
    }
   ],
   "source": [
    "df[df['CNPJ'].isin(['00143381000168','01105558000102'])]"
   ]
  },
  {
   "cell_type": "code",
   "execution_count": null,
   "metadata": {
    "jupyter": {
     "outputs_hidden": false,
     "source_hidden": false
    },
    "nteract": {
     "transient": {
      "deleting": false
     }
    }
   },
   "outputs": [
    {
     "data": {
      "application/vnd.livy.statement-meta+json": {
       "execution_finish_time": "2023-04-17T17:26:23.4578965Z",
       "execution_start_time": null,
       "livy_statement_state": null,
       "parent_msg_id": "6fcad406-f3ea-4130-ac0d-d244ac6673bc",
       "queued_time": "2023-04-17T17:25:05.2035399Z",
       "session_id": null,
       "session_start_time": null,
       "spark_jobs": null,
       "spark_pool": null,
       "state": "cancelled",
       "statement_id": null
      },
      "text/plain": [
       "StatementMeta(, , , Cancelled, )"
      ]
     },
     "metadata": {},
     "output_type": "display_data"
    }
   ],
   "source": [
    "tupla = dfUsinaVibra[['UF','AECO']].values.tolist()\n",
    "\n",
    "dfUsinaVibra['STATUS'] = [('AECO!=USINA e NÃO presente em MAPA+ANP' if pd.isnull(x) & (y!='USINA') else \n",
    "                            ('AECO==USINA e NÃO presente em MAPA+ANP' if pd.isnull(x) & (y=='USINA') else\n",
    "                                ('AECO==USINA e presente MAPA+ANP' if ~pd.isnull(x) & (y=='USINA') else 'AECO!=USINA e presente MAPA+ANP'))) \n",
    "                                    for x, y in tupla]\n",
    "del(tupla)"
   ]
  },
  {
   "cell_type": "code",
   "execution_count": null,
   "metadata": {
    "jupyter": {
     "outputs_hidden": false,
     "source_hidden": false
    },
    "nteract": {
     "transient": {
      "deleting": false
     }
    }
   },
   "outputs": [],
   "source": []
  },
  {
   "cell_type": "code",
   "execution_count": null,
   "metadata": {
    "jupyter": {
     "outputs_hidden": false,
     "source_hidden": false
    },
    "nteract": {
     "transient": {
      "deleting": false
     }
    }
   },
   "outputs": [
    {
     "data": {
      "application/vnd.livy.statement-meta+json": {
       "execution_finish_time": "2023-04-17T17:26:23.4583737Z",
       "execution_start_time": null,
       "livy_statement_state": null,
       "parent_msg_id": "0e7035c0-30de-4d56-82e1-3adafbbfeb56",
       "queued_time": "2023-04-17T17:25:05.3778942Z",
       "session_id": null,
       "session_start_time": null,
       "spark_jobs": null,
       "spark_pool": null,
       "state": "cancelled",
       "statement_id": null
      },
      "text/plain": [
       "StatementMeta(, , , Cancelled, )"
      ]
     },
     "metadata": {},
     "output_type": "display_data"
    }
   ],
   "source": [
    "dfUsinaVibra.sort_values(['CNPJ', 'VEDI_DAT_VEN'], inplace=True)\n",
    "dfUsinaVibra.drop_duplicates('CNPJ', keep='last', inplace=True)\n",
    "dfUsinaVibra.reset_index(drop=True, inplace=True)"
   ]
  },
  {
   "cell_type": "code",
   "execution_count": null,
   "metadata": {
    "jupyter": {
     "outputs_hidden": false,
     "source_hidden": false
    },
    "nteract": {
     "transient": {
      "deleting": false
     }
    }
   },
   "outputs": [
    {
     "data": {
      "application/vnd.livy.statement-meta+json": {
       "execution_finish_time": "2023-04-17T17:26:23.4587592Z",
       "execution_start_time": null,
       "livy_statement_state": null,
       "parent_msg_id": "3297de96-e69a-4514-8db4-10347eabe14d",
       "queued_time": "2023-04-17T17:25:05.5555925Z",
       "session_id": null,
       "session_start_time": null,
       "spark_jobs": null,
       "spark_pool": null,
       "state": "cancelled",
       "statement_id": null
      },
      "text/plain": [
       "StatementMeta(, , , Cancelled, )"
      ]
     },
     "metadata": {},
     "output_type": "display_data"
    }
   ],
   "source": [
    "dfUsinaVibra['STATUS'].value_counts()"
   ]
  },
  {
   "cell_type": "code",
   "execution_count": null,
   "metadata": {
    "jupyter": {
     "outputs_hidden": false,
     "source_hidden": false
    },
    "nteract": {
     "transient": {
      "deleting": false
     }
    }
   },
   "outputs": [
    {
     "data": {
      "application/vnd.livy.statement-meta+json": {
       "execution_finish_time": "2023-04-17T17:26:23.4592797Z",
       "execution_start_time": null,
       "livy_statement_state": null,
       "parent_msg_id": "98f1bd45-0887-42f8-8abd-5423ca533423",
       "queued_time": "2023-04-17T17:25:06.0536485Z",
       "session_id": null,
       "session_start_time": null,
       "spark_jobs": null,
       "spark_pool": null,
       "state": "cancelled",
       "statement_id": null
      },
      "text/plain": [
       "StatementMeta(, , , Cancelled, )"
      ]
     },
     "metadata": {},
     "output_type": "display_data"
    }
   ],
   "source": [
    "# Salvando para o sergio\n",
    "# dfUsinaVibra.to_csv(abfss_path_raw +'relatorio.csv')"
   ]
  },
  {
   "cell_type": "markdown",
   "metadata": {
    "nteract": {
     "transient": {
      "deleting": false
     }
    }
   },
   "source": [
    "### Imputação em Vendas por Ano"
   ]
  },
  {
   "cell_type": "markdown",
   "metadata": {
    "nteract": {
     "transient": {
      "deleting": false
     }
    }
   },
   "source": [
    "**NOTA**\n",
    "\n",
    "CONSIDERANDO AS USINAS (MAPA+ANP) DE HOJE"
   ]
  },
  {
   "cell_type": "code",
   "execution_count": 258,
   "metadata": {
    "jupyter": {
     "outputs_hidden": false,
     "source_hidden": false
    },
    "nteract": {
     "transient": {
      "deleting": false
     }
    }
   },
   "outputs": [
    {
     "data": {
      "application/vnd.livy.statement-meta+json": {
       "execution_finish_time": "2023-04-17T20:21:15.9056923Z",
       "execution_start_time": "2023-04-17T20:21:15.7115599Z",
       "livy_statement_state": "available",
       "parent_msg_id": "ca3385a0-e1d9-43ca-be5e-0a5418e6f659",
       "queued_time": "2023-04-17T20:21:15.5728259Z",
       "session_id": "627",
       "session_start_time": null,
       "spark_jobs": null,
       "spark_pool": "dssparkpool",
       "state": "finished",
       "statement_id": 102
      },
      "text/plain": [
       "StatementMeta(dssparkpool, 627, 102, Finished, Available)"
      ]
     },
     "metadata": {},
     "output_type": "display_data"
    }
   ],
   "source": [
    "df = df[~df['UF'].isna()].sort_values(['CNPJ','VEDI_DAT_VEN']).reset_index(drop=True)       # Filtro somente dos CNPJ presentes em MAPA+ANP\n",
    "df['ANO'] = df['VEDI_DAT_VEN'].dt.strftime('%Y')                                            # Incluindo variável ANO\n",
    "        "
   ]
  },
  {
   "cell_type": "code",
   "execution_count": 261,
   "metadata": {
    "jupyter": {
     "outputs_hidden": false,
     "source_hidden": false
    },
    "nteract": {
     "transient": {
      "deleting": false
     }
    }
   },
   "outputs": [
    {
     "data": {
      "application/vnd.livy.statement-meta+json": {
       "execution_finish_time": "2023-04-17T20:22:19.8331565Z",
       "execution_start_time": "2023-04-17T20:22:19.6636962Z",
       "livy_statement_state": "available",
       "parent_msg_id": "25a49791-0ae9-4184-b3f5-ce0072bbd4f2",
       "queued_time": "2023-04-17T20:22:19.5173403Z",
       "session_id": "627",
       "session_start_time": null,
       "spark_jobs": null,
       "spark_pool": "dssparkpool",
       "state": "finished",
       "statement_id": 105
      },
      "text/plain": [
       "StatementMeta(dssparkpool, 627, 105, Finished, Available)"
      ]
     },
     "metadata": {},
     "output_type": "display_data"
    },
    {
     "data": {
      "text/html": [
       "<div>\n",
       "<style scoped>\n",
       "    .dataframe tbody tr th:only-of-type {\n",
       "        vertical-align: middle;\n",
       "    }\n",
       "\n",
       "    .dataframe tbody tr th {\n",
       "        vertical-align: top;\n",
       "    }\n",
       "\n",
       "    .dataframe thead th {\n",
       "        text-align: right;\n",
       "    }\n",
       "</style>\n",
       "<table border=\"1\" class=\"dataframe\">\n",
       "  <thead>\n",
       "    <tr style=\"text-align: right;\">\n",
       "      <th></th>\n",
       "      <th>CNPJ</th>\n",
       "      <th>CLIE_NOM_CLIENTE</th>\n",
       "      <th>VEDI_COD_CLI</th>\n",
       "      <th>VEDI_VOL</th>\n",
       "      <th>VEDI_DAT_VEN</th>\n",
       "      <th>ProdutoD</th>\n",
       "      <th>AECO</th>\n",
       "      <th>MUNICIPIO</th>\n",
       "      <th>UF</th>\n",
       "      <th>TANCAGEM_DIESEL</th>\n",
       "      <th>SITUACAO_ANP</th>\n",
       "      <th>ANO</th>\n",
       "    </tr>\n",
       "  </thead>\n",
       "  <tbody>\n",
       "    <tr>\n",
       "      <th>0</th>\n",
       "      <td>00143381000168</td>\n",
       "      <td>MONTEVERDE AGRO-ENERGETICA S.A</td>\n",
       "      <td>92671</td>\n",
       "      <td>491.000</td>\n",
       "      <td>2016-04-25</td>\n",
       "      <td>Diesel</td>\n",
       "      <td>OUTROS</td>\n",
       "      <td>Ponta Porã</td>\n",
       "      <td>MS</td>\n",
       "      <td>135.0</td>\n",
       "      <td>REVOGADA</td>\n",
       "      <td>2016</td>\n",
       "    </tr>\n",
       "    <tr>\n",
       "      <th>1</th>\n",
       "      <td>00143381000168</td>\n",
       "      <td>MONTEVERDE AGRO-ENERGETICA S.A</td>\n",
       "      <td>92671</td>\n",
       "      <td>965.500</td>\n",
       "      <td>2016-05-03</td>\n",
       "      <td>Diesel</td>\n",
       "      <td>OUTROS</td>\n",
       "      <td>Ponta Porã</td>\n",
       "      <td>MS</td>\n",
       "      <td>135.0</td>\n",
       "      <td>REVOGADA</td>\n",
       "      <td>2016</td>\n",
       "    </tr>\n",
       "    <tr>\n",
       "      <th>2</th>\n",
       "      <td>00143381000168</td>\n",
       "      <td>MONTEVERDE AGRO-ENERGETICA S.A</td>\n",
       "      <td>92671</td>\n",
       "      <td>414.500</td>\n",
       "      <td>2017-02-20</td>\n",
       "      <td>Diesel</td>\n",
       "      <td>OUTROS</td>\n",
       "      <td>Ponta Porã</td>\n",
       "      <td>MS</td>\n",
       "      <td>135.0</td>\n",
       "      <td>REVOGADA</td>\n",
       "      <td>2017</td>\n",
       "    </tr>\n",
       "    <tr>\n",
       "      <th>3</th>\n",
       "      <td>00143381000168</td>\n",
       "      <td>MONTEVERDE AGRO-ENERGETICA S.A</td>\n",
       "      <td>92671</td>\n",
       "      <td>1032.500</td>\n",
       "      <td>2017-05-27</td>\n",
       "      <td>Diesel</td>\n",
       "      <td>OUTROS</td>\n",
       "      <td>Ponta Porã</td>\n",
       "      <td>MS</td>\n",
       "      <td>135.0</td>\n",
       "      <td>REVOGADA</td>\n",
       "      <td>2017</td>\n",
       "    </tr>\n",
       "    <tr>\n",
       "      <th>4</th>\n",
       "      <td>00143381000168</td>\n",
       "      <td>MONTEVERDE AGRO-ENERGETICA S.A</td>\n",
       "      <td>92671</td>\n",
       "      <td>289.500</td>\n",
       "      <td>2018-06-23</td>\n",
       "      <td>Diesel</td>\n",
       "      <td>OUTROS</td>\n",
       "      <td>Ponta Porã</td>\n",
       "      <td>MS</td>\n",
       "      <td>135.0</td>\n",
       "      <td>REVOGADA</td>\n",
       "      <td>2018</td>\n",
       "    </tr>\n",
       "    <tr>\n",
       "      <th>5</th>\n",
       "      <td>00143381000168</td>\n",
       "      <td>MONTEVERDE AGRO-ENERGETICA S.A</td>\n",
       "      <td>92671</td>\n",
       "      <td>555.000</td>\n",
       "      <td>2019-04-01</td>\n",
       "      <td>Diesel</td>\n",
       "      <td>OUTROS</td>\n",
       "      <td>Ponta Porã</td>\n",
       "      <td>MS</td>\n",
       "      <td>135.0</td>\n",
       "      <td>REVOGADA</td>\n",
       "      <td>2019</td>\n",
       "    </tr>\n",
       "    <tr>\n",
       "      <th>6</th>\n",
       "      <td>00143381000168</td>\n",
       "      <td>MONTEVERDE AGRO-ENERGETICA S.A</td>\n",
       "      <td>92671</td>\n",
       "      <td>517.195</td>\n",
       "      <td>2019-06-27</td>\n",
       "      <td>Diesel</td>\n",
       "      <td>OUTROS</td>\n",
       "      <td>Ponta Porã</td>\n",
       "      <td>MS</td>\n",
       "      <td>135.0</td>\n",
       "      <td>REVOGADA</td>\n",
       "      <td>2019</td>\n",
       "    </tr>\n",
       "  </tbody>\n",
       "</table>\n",
       "</div>"
      ],
      "text/plain": [
       "             CNPJ                CLIE_NOM_CLIENTE VEDI_COD_CLI  VEDI_VOL  \\\n",
       "0  00143381000168  MONTEVERDE AGRO-ENERGETICA S.A        92671   491.000   \n",
       "1  00143381000168  MONTEVERDE AGRO-ENERGETICA S.A        92671   965.500   \n",
       "2  00143381000168  MONTEVERDE AGRO-ENERGETICA S.A        92671   414.500   \n",
       "3  00143381000168  MONTEVERDE AGRO-ENERGETICA S.A        92671  1032.500   \n",
       "4  00143381000168  MONTEVERDE AGRO-ENERGETICA S.A        92671   289.500   \n",
       "5  00143381000168  MONTEVERDE AGRO-ENERGETICA S.A        92671   555.000   \n",
       "6  00143381000168  MONTEVERDE AGRO-ENERGETICA S.A        92671   517.195   \n",
       "\n",
       "  VEDI_DAT_VEN ProdutoD    AECO   MUNICIPIO  UF  TANCAGEM_DIESEL SITUACAO_ANP  \\\n",
       "0   2016-04-25   Diesel  OUTROS  Ponta Porã  MS            135.0     REVOGADA   \n",
       "1   2016-05-03   Diesel  OUTROS  Ponta Porã  MS            135.0     REVOGADA   \n",
       "2   2017-02-20   Diesel  OUTROS  Ponta Porã  MS            135.0     REVOGADA   \n",
       "3   2017-05-27   Diesel  OUTROS  Ponta Porã  MS            135.0     REVOGADA   \n",
       "4   2018-06-23   Diesel  OUTROS  Ponta Porã  MS            135.0     REVOGADA   \n",
       "5   2019-04-01   Diesel  OUTROS  Ponta Porã  MS            135.0     REVOGADA   \n",
       "6   2019-06-27   Diesel  OUTROS  Ponta Porã  MS            135.0     REVOGADA   \n",
       "\n",
       "    ANO  \n",
       "0  2016  \n",
       "1  2016  \n",
       "2  2017  \n",
       "3  2017  \n",
       "4  2018  \n",
       "5  2019  \n",
       "6  2019  "
      ]
     },
     "execution_count": 213,
     "metadata": {},
     "output_type": "execute_result"
    }
   ],
   "source": [
    "df[df['CNPJ']=='00143381000168']"
   ]
  },
  {
   "cell_type": "code",
   "execution_count": 259,
   "metadata": {
    "jupyter": {
     "outputs_hidden": false,
     "source_hidden": false
    },
    "nteract": {
     "transient": {
      "deleting": false
     }
    }
   },
   "outputs": [
    {
     "data": {
      "application/vnd.livy.statement-meta+json": {
       "execution_finish_time": "2023-04-17T20:21:25.4373747Z",
       "execution_start_time": "2023-04-17T20:21:25.2347619Z",
       "livy_statement_state": "available",
       "parent_msg_id": "ccae384f-a735-47fe-afd2-f567c5365567",
       "queued_time": "2023-04-17T20:21:25.0659959Z",
       "session_id": "627",
       "session_start_time": null,
       "spark_jobs": null,
       "spark_pool": "dssparkpool",
       "state": "finished",
       "statement_id": 103
      },
      "text/plain": [
       "StatementMeta(dssparkpool, 627, 103, Finished, Available)"
      ]
     },
     "metadata": {},
     "output_type": "display_data"
    }
   ],
   "source": [
    "# agrupando as vendas por cnpj e ano trazendo volume médio, numero de vendas e volume total de DIESEL\n",
    "df_g = df.groupby(['CNPJ','CLIE_NOM_CLIENTE','ANO'])['VEDI_VOL'].agg(Vol_Total = 'sum', Freq='count', Vol_Medio='mean').reset_index()"
   ]
  },
  {
   "cell_type": "code",
   "execution_count": 260,
   "metadata": {
    "jupyter": {
     "outputs_hidden": false,
     "source_hidden": false
    },
    "nteract": {
     "transient": {
      "deleting": false
     }
    }
   },
   "outputs": [
    {
     "data": {
      "application/vnd.livy.statement-meta+json": {
       "execution_finish_time": "2023-04-17T20:21:27.1733127Z",
       "execution_start_time": "2023-04-17T20:21:27.0051258Z",
       "livy_statement_state": "available",
       "parent_msg_id": "37ea84e3-a489-48be-bfb7-0e0ea2247d08",
       "queued_time": "2023-04-17T20:21:26.8427566Z",
       "session_id": "627",
       "session_start_time": null,
       "spark_jobs": null,
       "spark_pool": "dssparkpool",
       "state": "finished",
       "statement_id": 104
      },
      "text/plain": [
       "StatementMeta(dssparkpool, 627, 104, Finished, Available)"
      ]
     },
     "metadata": {},
     "output_type": "display_data"
    },
    {
     "data": {
      "text/html": [
       "<div>\n",
       "<style scoped>\n",
       "    .dataframe tbody tr th:only-of-type {\n",
       "        vertical-align: middle;\n",
       "    }\n",
       "\n",
       "    .dataframe tbody tr th {\n",
       "        vertical-align: top;\n",
       "    }\n",
       "\n",
       "    .dataframe thead th {\n",
       "        text-align: right;\n",
       "    }\n",
       "</style>\n",
       "<table border=\"1\" class=\"dataframe\">\n",
       "  <thead>\n",
       "    <tr style=\"text-align: right;\">\n",
       "      <th></th>\n",
       "      <th>CNPJ</th>\n",
       "      <th>CLIE_NOM_CLIENTE</th>\n",
       "      <th>ANO</th>\n",
       "      <th>Vol_Total</th>\n",
       "      <th>Freq</th>\n",
       "      <th>Vol_Medio</th>\n",
       "    </tr>\n",
       "  </thead>\n",
       "  <tbody>\n",
       "    <tr>\n",
       "      <th>0</th>\n",
       "      <td>00143381000168</td>\n",
       "      <td>MONTEVERDE AGRO-ENERGETICA S.A</td>\n",
       "      <td>2016</td>\n",
       "      <td>1456.50000</td>\n",
       "      <td>2</td>\n",
       "      <td>728.250000</td>\n",
       "    </tr>\n",
       "    <tr>\n",
       "      <th>1</th>\n",
       "      <td>00143381000168</td>\n",
       "      <td>MONTEVERDE AGRO-ENERGETICA S.A</td>\n",
       "      <td>2017</td>\n",
       "      <td>1447.00000</td>\n",
       "      <td>2</td>\n",
       "      <td>723.500000</td>\n",
       "    </tr>\n",
       "    <tr>\n",
       "      <th>2</th>\n",
       "      <td>00143381000168</td>\n",
       "      <td>MONTEVERDE AGRO-ENERGETICA S.A</td>\n",
       "      <td>2018</td>\n",
       "      <td>289.50000</td>\n",
       "      <td>1</td>\n",
       "      <td>289.500000</td>\n",
       "    </tr>\n",
       "    <tr>\n",
       "      <th>3</th>\n",
       "      <td>00143381000168</td>\n",
       "      <td>MONTEVERDE AGRO-ENERGETICA S.A</td>\n",
       "      <td>2019</td>\n",
       "      <td>1072.19500</td>\n",
       "      <td>2</td>\n",
       "      <td>536.097500</td>\n",
       "    </tr>\n",
       "    <tr>\n",
       "      <th>4</th>\n",
       "      <td>01105558000102</td>\n",
       "      <td>WD AGROINDUSTRIAL LTDA</td>\n",
       "      <td>2017</td>\n",
       "      <td>870.50000</td>\n",
       "      <td>1</td>\n",
       "      <td>870.500000</td>\n",
       "    </tr>\n",
       "    <tr>\n",
       "      <th>...</th>\n",
       "      <td>...</td>\n",
       "      <td>...</td>\n",
       "      <td>...</td>\n",
       "      <td>...</td>\n",
       "      <td>...</td>\n",
       "      <td>...</td>\n",
       "    </tr>\n",
       "    <tr>\n",
       "      <th>638</th>\n",
       "      <td>75717355001177</td>\n",
       "      <td>USINA DE ACUCAR SANTA TEREZINHA LTD</td>\n",
       "      <td>2019</td>\n",
       "      <td>10962.50000</td>\n",
       "      <td>6</td>\n",
       "      <td>1827.083333</td>\n",
       "    </tr>\n",
       "    <tr>\n",
       "      <th>639</th>\n",
       "      <td>75717355001177</td>\n",
       "      <td>USINA DE ACUCAR SANTA TEREZINHA LTD</td>\n",
       "      <td>2020</td>\n",
       "      <td>5325.40000</td>\n",
       "      <td>3</td>\n",
       "      <td>1775.133333</td>\n",
       "    </tr>\n",
       "    <tr>\n",
       "      <th>640</th>\n",
       "      <td>75717355001177</td>\n",
       "      <td>USINA DE ACUCAR SANTA TEREZINHA LTD</td>\n",
       "      <td>2021</td>\n",
       "      <td>8317.40000</td>\n",
       "      <td>4</td>\n",
       "      <td>2079.350000</td>\n",
       "    </tr>\n",
       "    <tr>\n",
       "      <th>641</th>\n",
       "      <td>75717355001177</td>\n",
       "      <td>USINA DE ACUCAR SANTA TEREZINHA LTD</td>\n",
       "      <td>2022</td>\n",
       "      <td>2015.00000</td>\n",
       "      <td>1</td>\n",
       "      <td>2015.000000</td>\n",
       "    </tr>\n",
       "    <tr>\n",
       "      <th>642</th>\n",
       "      <td>75717355001410</td>\n",
       "      <td>USINA DE ACUCAR SANTA TEREZINHA LTD</td>\n",
       "      <td>2018</td>\n",
       "      <td>5259.99214</td>\n",
       "      <td>5</td>\n",
       "      <td>1051.998428</td>\n",
       "    </tr>\n",
       "  </tbody>\n",
       "</table>\n",
       "<p>643 rows × 6 columns</p>\n",
       "</div>"
      ],
      "text/plain": [
       "               CNPJ                     CLIE_NOM_CLIENTE   ANO    Vol_Total  \\\n",
       "0    00143381000168       MONTEVERDE AGRO-ENERGETICA S.A  2016   1456.50000   \n",
       "1    00143381000168       MONTEVERDE AGRO-ENERGETICA S.A  2017   1447.00000   \n",
       "2    00143381000168       MONTEVERDE AGRO-ENERGETICA S.A  2018    289.50000   \n",
       "3    00143381000168       MONTEVERDE AGRO-ENERGETICA S.A  2019   1072.19500   \n",
       "4    01105558000102               WD AGROINDUSTRIAL LTDA  2017    870.50000   \n",
       "..              ...                                  ...   ...          ...   \n",
       "638  75717355001177  USINA DE ACUCAR SANTA TEREZINHA LTD  2019  10962.50000   \n",
       "639  75717355001177  USINA DE ACUCAR SANTA TEREZINHA LTD  2020   5325.40000   \n",
       "640  75717355001177  USINA DE ACUCAR SANTA TEREZINHA LTD  2021   8317.40000   \n",
       "641  75717355001177  USINA DE ACUCAR SANTA TEREZINHA LTD  2022   2015.00000   \n",
       "642  75717355001410  USINA DE ACUCAR SANTA TEREZINHA LTD  2018   5259.99214   \n",
       "\n",
       "     Freq    Vol_Medio  \n",
       "0       2   728.250000  \n",
       "1       2   723.500000  \n",
       "2       1   289.500000  \n",
       "3       2   536.097500  \n",
       "4       1   870.500000  \n",
       "..    ...          ...  \n",
       "638     6  1827.083333  \n",
       "639     3  1775.133333  \n",
       "640     4  2079.350000  \n",
       "641     1  2015.000000  \n",
       "642     5  1051.998428  \n",
       "\n",
       "[643 rows x 6 columns]"
      ]
     },
     "execution_count": 211,
     "metadata": {},
     "output_type": "execute_result"
    }
   ],
   "source": [
    "df_g"
   ]
  },
  {
   "cell_type": "code",
   "execution_count": null,
   "metadata": {
    "jupyter": {
     "outputs_hidden": false,
     "source_hidden": false
    },
    "nteract": {
     "transient": {
      "deleting": false
     }
    }
   },
   "outputs": [
    {
     "data": {
      "application/vnd.livy.statement-meta+json": {
       "execution_finish_time": "2023-04-17T17:26:23.4614789Z",
       "execution_start_time": null,
       "livy_statement_state": null,
       "parent_msg_id": "f75e07c9-9c1c-4266-9dbf-339c1015b577",
       "queued_time": "2023-04-17T17:25:06.9558152Z",
       "session_id": null,
       "session_start_time": null,
       "spark_jobs": null,
       "spark_pool": null,
       "state": "cancelled",
       "statement_id": null
      },
      "text/plain": [
       "StatementMeta(, , , Cancelled, )"
      ]
     },
     "metadata": {},
     "output_type": "display_data"
    }
   ],
   "source": [
    "cols = ['CNPJ','UF','REGIAO','ANO','CAP_HIDRATADO','CAP_ANIDRO','TANCAGEM_ETANOL','TANCAGEM_DIESEL', 'Vol_Total','Freq','Vol_Medio']\n",
    "var  = ['CAP_HIDRATADO','CAP_ANIDRO','TANCAGEM_ETANOL','TANCAGEM_DIESEL','Vol_Total','Freq','Vol_Medio']\n",
    "\n",
    "anos = sorted(df_g['ANO'].value_counts().index.tolist())\n",
    "result =pd.DataFrame()\n",
    "\n",
    "print('Participação anual VIBRA no Mercado de USINAS')\n",
    "for i in anos[:-1]:                                     # até o ultimo ano completo\n",
    "    df_a = df_g[df_g[\"ANO\"]==i][['CNPJ','ANO','Vol_Total','Freq','Vol_Medio']]\n",
    "    us = usinas.merge(df_a, how='left', on='CNPJ')\n",
    "    us[\"ANO\"]=i\n",
    "    print('{}: {:2.2%}'.format(i, us[~us['Freq'].isnull()].shape[0]/len(us)))\n",
    "    aux = agrega_imputados(us[cols], var, chave='CNPJ', alvo='Vol_Medio', nivel=['UF', 'REGIAO'], viz=5)\n",
    "    result = pd.concat([result, aux], axis=0, ignore_index=True)"
   ]
  },
  {
   "cell_type": "code",
   "execution_count": null,
   "metadata": {
    "jupyter": {
     "outputs_hidden": false,
     "source_hidden": false
    },
    "nteract": {
     "transient": {
      "deleting": false
     }
    }
   },
   "outputs": [
    {
     "data": {
      "application/vnd.livy.statement-meta+json": {
       "execution_finish_time": "2023-04-17T17:26:23.4619321Z",
       "execution_start_time": null,
       "livy_statement_state": null,
       "parent_msg_id": "c2b8f4f0-555f-4e63-84db-92c832210fe4",
       "queued_time": "2023-04-17T17:25:07.1350187Z",
       "session_id": null,
       "session_start_time": null,
       "spark_jobs": null,
       "spark_pool": null,
       "state": "cancelled",
       "statement_id": null
      },
      "text/plain": [
       "StatementMeta(, , , Cancelled, )"
      ]
     },
     "metadata": {},
     "output_type": "display_data"
    }
   ],
   "source": [
    "result"
   ]
  },
  {
   "cell_type": "code",
   "execution_count": null,
   "metadata": {
    "jupyter": {
     "outputs_hidden": false,
     "source_hidden": false
    },
    "nteract": {
     "transient": {
      "deleting": false
     }
    }
   },
   "outputs": [
    {
     "data": {
      "application/vnd.livy.statement-meta+json": {
       "execution_finish_time": "2023-04-17T17:26:23.4623996Z",
       "execution_start_time": null,
       "livy_statement_state": null,
       "parent_msg_id": "b0395c4a-5dbf-4077-a4b2-1bff01f61ced",
       "queued_time": "2023-04-17T17:25:07.3149461Z",
       "session_id": null,
       "session_start_time": null,
       "spark_jobs": null,
       "spark_pool": null,
       "state": "cancelled",
       "statement_id": null
      },
      "text/plain": [
       "StatementMeta(, , , Cancelled, )"
      ]
     },
     "metadata": {},
     "output_type": "display_data"
    }
   ],
   "source": [
    "result[(result['TIPO_IMP']==0)&(result['ANO']=='2022')]"
   ]
  },
  {
   "cell_type": "code",
   "execution_count": null,
   "metadata": {
    "jupyter": {
     "outputs_hidden": false,
     "source_hidden": false
    },
    "nteract": {
     "transient": {
      "deleting": false
     }
    }
   },
   "outputs": [
    {
     "data": {
      "application/vnd.livy.statement-meta+json": {
       "execution_finish_time": "2023-04-17T17:26:23.4627642Z",
       "execution_start_time": null,
       "livy_statement_state": null,
       "parent_msg_id": "71b1bac3-d7b7-4221-8e1f-3a77b51ea02a",
       "queued_time": "2023-04-17T17:25:07.491805Z",
       "session_id": null,
       "session_start_time": null,
       "spark_jobs": null,
       "spark_pool": null,
       "state": "cancelled",
       "statement_id": null
      },
      "text/plain": [
       "StatementMeta(, , , Cancelled, )"
      ]
     },
     "metadata": {},
     "output_type": "display_data"
    }
   ],
   "source": [
    "result[result['CNPJ']=='00143381000168']"
   ]
  },
  {
   "cell_type": "code",
   "execution_count": null,
   "metadata": {
    "jupyter": {
     "outputs_hidden": false,
     "source_hidden": false
    },
    "nteract": {
     "transient": {
      "deleting": false
     }
    }
   },
   "outputs": [
    {
     "data": {
      "application/vnd.livy.statement-meta+json": {
       "execution_finish_time": "2023-04-17T17:26:23.463249Z",
       "execution_start_time": null,
       "livy_statement_state": null,
       "parent_msg_id": "376ef865-06c6-4a11-b288-145abc465d37",
       "queued_time": "2023-04-17T17:25:07.6756891Z",
       "session_id": null,
       "session_start_time": null,
       "spark_jobs": null,
       "spark_pool": null,
       "state": "cancelled",
       "statement_id": null
      },
      "text/plain": [
       "StatementMeta(, , , Cancelled, )"
      ]
     },
     "metadata": {},
     "output_type": "display_data"
    }
   ],
   "source": [
    "df_g[df_g['CNPJ']=='00143381000168']"
   ]
  },
  {
   "cell_type": "markdown",
   "metadata": {
    "nteract": {
     "transient": {
      "deleting": false
     }
    }
   },
   "source": [
    "### Métrica das imputações em relação ao uma participação de 20% de mercado de Usinas na vibra "
   ]
  },
  {
   "cell_type": "code",
   "execution_count": null,
   "metadata": {
    "jupyter": {
     "outputs_hidden": false,
     "source_hidden": false
    },
    "nteract": {
     "transient": {
      "deleting": false
     }
    }
   },
   "outputs": [
    {
     "data": {
      "application/vnd.livy.statement-meta+json": {
       "execution_finish_time": "2023-04-17T17:26:23.4637105Z",
       "execution_start_time": null,
       "livy_statement_state": null,
       "parent_msg_id": "1cd416df-4b0e-4e3c-8358-07f2600970f7",
       "queued_time": "2023-04-17T17:25:07.8580012Z",
       "session_id": null,
       "session_start_time": null,
       "spark_jobs": null,
       "spark_pool": null,
       "state": "cancelled",
       "statement_id": null
      },
      "text/plain": [
       "StatementMeta(, , , Cancelled, )"
      ]
     },
     "metadata": {},
     "output_type": "display_data"
    }
   ],
   "source": [
    "for i in anos[:-1]:\n",
    "    x = df_g[df_g['ANO']==i]['Vol_Total'].sum()\n",
    "    print(i,': ', x,'| projeção:', x*5)"
   ]
  },
  {
   "cell_type": "code",
   "execution_count": null,
   "metadata": {
    "jupyter": {
     "outputs_hidden": false,
     "source_hidden": false
    },
    "nteract": {
     "transient": {
      "deleting": false
     }
    }
   },
   "outputs": [
    {
     "data": {
      "application/vnd.livy.statement-meta+json": {
       "execution_finish_time": "2023-04-17T17:26:23.4643921Z",
       "execution_start_time": null,
       "livy_statement_state": null,
       "parent_msg_id": "614f1437-ac21-4ae9-83e1-a3d8e3b369df",
       "queued_time": "2023-04-17T17:25:08.0332465Z",
       "session_id": null,
       "session_start_time": null,
       "spark_jobs": null,
       "spark_pool": null,
       "state": "cancelled",
       "statement_id": null
      },
      "text/plain": [
       "StatementMeta(, , , Cancelled, )"
      ]
     },
     "metadata": {},
     "output_type": "display_data"
    }
   ],
   "source": [
    "for i in anos[:-1]:\n",
    "    x = result[result['ANO']==i]['Vol_Total'].sum()\n",
    "    print(i,': ', x)"
   ]
  }
 ],
 "metadata": {
  "hide_input": false,
  "kernel_info": {
   "name": "synapse_pyspark"
  },
  "kernelspec": {
   "display_name": "Python 3 (ipykernel)",
   "language": "python",
   "name": "python3"
  },
  "language_info": {
   "codemirror_mode": {
    "name": "ipython",
    "version": 3
   },
   "file_extension": ".py",
   "mimetype": "text/x-python",
   "name": "python",
   "nbconvert_exporter": "python",
   "pygments_lexer": "ipython3",
   "version": "3.9.7"
  },
  "save_output": true,
  "synapse_widget": {
   "state": {},
   "version": "0.1"
  }
 },
 "nbformat": 4,
 "nbformat_minor": 2
}
