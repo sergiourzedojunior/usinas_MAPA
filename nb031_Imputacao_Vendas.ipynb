{
 "cells": [
  {
   "cell_type": "markdown",
   "metadata": {
    "nteract": {
     "transient": {
      "deleting": false
     }
    }
   },
   "source": [
    "# Coleta, Tratamento e Unificação das bases de dados relativas as Usinas Sucroalcooleiras"
   ]
  },
  {
   "cell_type": "markdown",
   "metadata": {
    "nteract": {
     "transient": {
      "deleting": false
     }
    }
   },
   "source": [
    "## Histórico de Atualizações\n",
    "\n",
    "<table>\n",
    "    <thead>\n",
    "        <tr>\n",
    "            <th>Versão</th>\n",
    "            <th>Data</th>\n",
    "            <th>Descrição</th>\n",
    "            <th>Autor</th>\n",
    "            <th>Email</th>\n",
    "        </tr>\n",
    "    </thead>\n",
    "    <tbody>\n",
    "        <tr>\n",
    "        <th>1.0</th>\n",
    "            <td>18/04/2023</td>\n",
    "            <td>\n",
    "                <p>Processo de enriquecimento das bases de Volume de Diesel Vendido CNPJ/Mês por meio de imputações de dados utilizando o método KNNInputer (sklearn)</p>\n",
    "            </td>\n",
    "            <td>Marcel Quintela, Sergio Urzedo Jr</td>\n",
    "            <td>marcel.quintela@avanade.com, sergiourzedojr@gmail.com</td>\n",
    "        </tr>\n",
    "    </tbody>\n",
    "</table>"
   ]
  },
  {
   "cell_type": "markdown",
   "metadata": {
    "nteract": {
     "transient": {
      "deleting": false
     }
    }
   },
   "source": [
    "# Setup Inicial"
   ]
  },
  {
   "cell_type": "markdown",
   "metadata": {
    "nteract": {
     "transient": {
      "deleting": false
     }
    }
   },
   "source": [
    "Carregando linhas com configurações iniciais já escritas em notebook base\n",
    "\n",
    "No bloco de comando \"%run\" não pode ter nenhum outra linha de comando ou comentário"
   ]
  },
  {
   "cell_type": "code",
   "execution_count": 54,
   "metadata": {
    "jupyter": {
     "outputs_hidden": false,
     "source_hidden": false
    },
    "nteract": {
     "transient": {
      "deleting": false
     }
    }
   },
   "outputs": [],
   "source": [
    "%run nb00_Setup_Usinas{'blob_relative_path_raw': 'nuvem/Usinas/'}"
   ]
  },
  {
   "cell_type": "markdown",
   "metadata": {
    "nteract": {
     "transient": {
      "deleting": false
     }
    }
   },
   "source": [
    "# Leitura dos Dados "
   ]
  },
  {
   "cell_type": "code",
   "execution_count": 55,
   "metadata": {
    "jupyter": {
     "outputs_hidden": false,
     "source_hidden": false
    },
    "nteract": {
     "transient": {
      "deleting": false
     }
    }
   },
   "outputs": [],
   "source": [
    "usinas   = pd.read_parquet(abfss_path_enriched+'tancagens_impt_usinas.parquet',\n",
    "                            storage_options = {'linked_service' : linked_service_enriched})\n",
    "\n",
    "arq_vol = 'abfss://general@stedlk01dtandev.dfs.core.windows.net/raw/mercado_potencial/volumetria/hist_diesel.csv'"
   ]
  },
  {
   "cell_type": "code",
   "execution_count": 56,
   "metadata": {
    "jupyter": {
     "outputs_hidden": false,
     "source_hidden": false
    },
    "nteract": {
     "transient": {
      "deleting": false
     }
    }
   },
   "outputs": [],
   "source": [
    "prop  = pd.read_parquet('abfss://general@stedlk01dtandev.dfs.core.windows.net/enriched/mercado_potencial/volumetria/vol01_prop_consfinal_vegetativo.parquet',\n",
    "                        storage_options = {'linked_service' : linked_service_enriched})\n",
    "cf  = pd.read_parquet('abfss://general@stedlk01dtandev.dfs.core.windows.net/enriched/mercado_potencial/volumetria/vol01_vendas_vibra_mes.parquet',\n",
    "                        storage_options = {'linked_service' : linked_service_enriched})\n",
    "diesel_mes = pd.read_parquet('abfss://general@stedlk01dtandev.dfs.core.windows.net/enriched/mercado_potencial/anp/anp_diesel_mes.parquet',\n",
    "                                storage_options = {'linked_service' : linked_service_enriched})"
   ]
  },
  {
   "cell_type": "code",
   "execution_count": 57,
   "metadata": {
    "jupyter": {
     "outputs_hidden": false,
     "source_hidden": false
    },
    "nteract": {
     "transient": {
      "deleting": false
     }
    }
   },
   "outputs": [],
   "source": [
    "vol_usinas = pd.DataFrame(diesel_mes.loc['2016':]['consumidor final']*prop['USINA'][:-1])"
   ]
  },
  {
   "cell_type": "markdown",
   "metadata": {
    "nteract": {
     "transient": {
      "deleting": false
     }
    }
   },
   "source": [
    "# Ajuste do Histórico de Vendas da VIBRA"
   ]
  },
  {
   "cell_type": "code",
   "execution_count": 58,
   "metadata": {
    "jupyter": {
     "outputs_hidden": false,
     "source_hidden": false
    },
    "nteract": {
     "transient": {
      "deleting": false
     }
    }
   },
   "outputs": [],
   "source": [
    "col_names = pd.read_csv(arq_vol, nrows=0).columns                               # coletando informações de cabeçalho\n",
    "col_types = {col: str for col in col_names if col not in {}}                    # todas as colunas como str\n",
    "\n",
    "\n",
    "hist = pd.read_csv(arq_vol, dtype=col_types,\n",
    "                        storage_options = {'linked_service' : linked_service_raw})\n",
    "\n",
    "\n",
    "hist.drop(['Unnamed: 0','index'],axis=1,inplace=True) # var não necessária\n",
    "hist['VEDI_VOL'] = hist['VEDI_VOL'].astype(float)\n",
    "hist['VEDI_DAT_VEN'] = pd.to_datetime(hist['VEDI_DAT_VEN'])\n",
    "\n",
    "#organizando o Coreto!\n",
    "hist = hist[['CLIE_NUM_CPF_CNPJ', 'CLIE_NOM_CLIENTE','VEDI_COD_CLI', 'VEDI_VOL', 'VEDI_DAT_VEN', 'ProdutoD', 'AECO']]\n",
    "\n",
    "hist.rename(columns={'CLIE_NUM_CPF_CNPJ': 'CNPJ'}, errors='raise', inplace=True)\n",
    "\n",
    "\n",
    "hist['CNPJ'] = hist['CNPJ'].astype(str).apply(lambda x: x.zfill(14))            # Transforma CPNJ em string\n",
    "hist = hist[~hist['CNPJ'].str.startswith('000')]                                # removendo possiveis CPFs\n",
    "\n",
    "hist = hist.merge(usinas[['CNPJ','UF']], how='left', on ='CNPJ')                # trazendo infos de Usinas Gov para filtro\n",
    "\n",
    "hist = hist[hist['VEDI_VOL'] > 0].sort_values('VEDI_DAT_VEN')                   # Eliminando Vendas negativas ou zeradas\n",
    "\n",
    "hist = hist[~hist['UF'].isna()].reset_index(drop=True)                          # Filtrando CNPJ que estão na base Usinas - independente da AECO"
   ]
  },
  {
   "cell_type": "code",
   "execution_count": 59,
   "metadata": {
    "jupyter": {
     "outputs_hidden": false,
     "source_hidden": false
    },
    "nteract": {
     "transient": {
      "deleting": false
     }
    }
   },
   "outputs": [],
   "source": [
    "hist"
   ]
  },
  {
   "cell_type": "markdown",
   "metadata": {
    "nteract": {
     "transient": {
      "deleting": false
     }
    }
   },
   "source": [
    "### Agrupando vendas por mês"
   ]
  },
  {
   "cell_type": "code",
   "execution_count": 6,
   "metadata": {
    "jupyter": {
     "outputs_hidden": false,
     "source_hidden": false
    },
    "nteract": {
     "transient": {
      "deleting": false
     }
    }
   },
   "outputs": [],
   "source": [
    "hist['ANOMES'] = hist['VEDI_DAT_VEN'].dt.strftime('%Y-%m')\n",
    "\n",
    "hist_m = hist.groupby(['CNPJ','ANOMES'])['VEDI_VOL'].agg(Vol_Total = 'sum', Freq='count', Vol_Medio='mean').reset_index()\n",
    "hist_m['data'] = pd.to_datetime(hist_m['ANOMES'], format='%Y-%m-%d')\n",
    "hist_m = hist_m.set_index('data').sort_index()"
   ]
  },
  {
   "cell_type": "markdown",
   "metadata": {
    "nteract": {
     "transient": {
      "deleting": false
     }
    }
   },
   "source": [
    "### Incluindo vendas 0 nos meses que não houveram vendas"
   ]
  },
  {
   "cell_type": "code",
   "execution_count": 7,
   "metadata": {
    "jupyter": {
     "outputs_hidden": false,
     "source_hidden": false
    },
    "nteract": {
     "transient": {
      "deleting": false
     }
    }
   },
   "outputs": [],
   "source": [
    "hist_e = pd.DataFrame()\n",
    "periodo = pd.date_range(start='2016-01-01', end=datetime.today(), freq='MS')\n",
    "\n",
    "for x in periodo.year.unique():\n",
    "    per = [a for a in periodo if a.year==x]\n",
    "    aux = (hist_m.loc[str(x)].groupby('CNPJ')\n",
    "                 .apply(lambda x: x.reindex(per).fillna(0))  # preenche os meses sem vendas com 0\n",
    "                 .rename_axis(('CNPJ','Data'))\n",
    "                 .drop(['CNPJ','ANOMES'], axis=1)\n",
    "                 .reset_index())\n",
    "    hist_e = pd.concat([hist_e, aux], axis=0, ignore_index=True)\n",
    "    \n",
    "hist_e = hist_e.merge(hist[~hist['CNPJ'].duplicated()][['CNPJ','AECO']], how='left', on='CNPJ')   # resgatando a AECO"
   ]
  },
  {
   "cell_type": "markdown",
   "metadata": {
    "nteract": {
     "transient": {
      "deleting": false
     }
    }
   },
   "source": [
    "# Filtrando histórico de Clientes Vibra Contidos na Base de Usinas do GOV"
   ]
  },
  {
   "cell_type": "code",
   "execution_count": 71,
   "metadata": {
    "jupyter": {
     "outputs_hidden": false,
     "source_hidden": false
    },
    "nteract": {
     "transient": {
      "deleting": false
     }
    }
   },
   "outputs": [],
   "source": [
    "df = usinas[['CNPJ', 'MUNICIPIO','UF', 'CAP_HIDRATADO','CAP_ANIDRO','TANCAGEM_ETANOL','TANCAGEM_DIESEL', 'SITUACAO_ANP']].merge(\n",
    "       hist_e, how='left', on ='CNPJ')\n",
    "\n",
    "df = df[~df['Data'].isna()]                                                                       # somente os clientes vibra dentro do MAPA+ANP\n",
    "df['ANOMES'] = df['Data'].dt.strftime('%Y-%m')\n",
    "df['ANO'] = df['Data'].dt.strftime('%Y')"
   ]
  },
  {
   "cell_type": "markdown",
   "metadata": {
    "nteract": {
     "transient": {
      "deleting": false
     }
    }
   },
   "source": [
    "# Imputação das Vendas"
   ]
  },
  {
   "cell_type": "markdown",
   "metadata": {
    "nteract": {
     "transient": {
      "deleting": false
     }
    }
   },
   "source": [
    "### Imputação Mensal"
   ]
  },
  {
   "cell_type": "code",
   "execution_count": 75,
   "metadata": {
    "jupyter": {
     "outputs_hidden": false,
     "source_hidden": false
    },
    "nteract": {
     "transient": {
      "deleting": false
     }
    }
   },
   "outputs": [],
   "source": [
    "# Imputação ANO MES\n",
    "\n",
    "cols = ['CNPJ','UF','REGIAO','Data', 'ANOMES', 'ANO', 'CAP_HIDRATADO','CAP_ANIDRO','TANCAGEM_ETANOL','TANCAGEM_DIESEL', 'Vol_Total','Freq','Vol_Medio']\n",
    "var  = ['CAP_HIDRATADO','CAP_ANIDRO','TANCAGEM_ETANOL','TANCAGEM_DIESEL','Vol_Total','Freq','Vol_Medio']\n",
    "\n",
    "res_m = imp_anual(df, freq='ANOMES', l=['CNPJ','Data','ANOMES', 'ANO'], cols=cols, var=var, ind=False)\n",
    "\n",
    "res_m['ANO']= [ x[:4] for x in res_m['ANOMES']]\n",
    "res_m['IMP'] = [1 if pd.isnull(x) else 0 for x in res_m['Data']]\n",
    "res_m['Data'] = pd.to_datetime(res_m['ANOMES'], format='%Y-%m-%d')"
   ]
  },
  {
   "cell_type": "code",
   "execution_count": 40,
   "metadata": {
    "jupyter": {
     "outputs_hidden": false,
     "source_hidden": false
    },
    "nteract": {
     "transient": {
      "deleting": false
     }
    }
   },
   "outputs": [],
   "source": [
    "reg = {'N':'N-NE','NE':'N-NE','S':'CO-S-SE','CO':'CO-S-SE', 'SE':'CO-S-SE'}\n",
    "\n",
    "res_m['REGIAO2'] = [reg[x] for x in res_m['REGIAO']]\n",
    "res_m['REGIAO3'] = np.where(res_m['UF']=='SP', res_m['UF'], res_m['REGIAO2'])"
   ]
  },
  {
   "cell_type": "markdown",
   "metadata": {
    "nteract": {
     "transient": {
      "deleting": false
     }
    }
   },
   "source": [
    "### Imputação Anual"
   ]
  },
  {
   "cell_type": "code",
   "execution_count": 47,
   "metadata": {
    "jupyter": {
     "outputs_hidden": false,
     "source_hidden": false
    },
    "nteract": {
     "transient": {
      "deleting": false
     }
    }
   },
   "outputs": [],
   "source": [
    "df_ga = df.groupby(['CNPJ','ANO']).sum().reset_index()\n",
    "\n",
    "cols = ['CNPJ','UF','REGIAO','ANO', 'CAP_HIDRATADO','CAP_ANIDRO','TANCAGEM_ETANOL','TANCAGEM_DIESEL', 'Vol_Total','Freq','Vol_Medio']\n",
    "var  = ['CAP_HIDRATADO','CAP_ANIDRO','TANCAGEM_ETANOL','TANCAGEM_DIESEL','Vol_Total','Freq','Vol_Medio']\n",
    "\n",
    "res_a = imp_anual(df_ga, 'ANO',['CNPJ','ANO'],cols, var, ind=False)\n",
    "\n",
    "res_a['REGIAO2'] = [reg[x] for x in res_a['REGIAO']]\n",
    "res_a['REGIAO3'] = np.where(res_a['UF']=='SP', res_a['UF'], res_a['REGIAO2'])"
   ]
  },
  {
   "cell_type": "markdown",
   "metadata": {
    "nteract": {
     "transient": {
      "deleting": false
     }
    }
   },
   "source": [
    "# Salvando dados"
   ]
  },
  {
   "cell_type": "code",
   "execution_count": 49,
   "metadata": {
    "jupyter": {
     "outputs_hidden": false,
     "source_hidden": false
    },
    "nteract": {
     "transient": {
      "deleting": false
     }
    }
   },
   "outputs": [],
   "source": [
    "res_m.to_parquet(abfss_path_enriched + 'vendas_impt_mes.parquet', \n",
    "                     storage_options = {'linked_service':linked_service_enriched})\n",
    "res_a.to_parquet(abfss_path_enriched + 'vendas_impt_ano.parquet', \n",
    "                     storage_options = {'linked_service':linked_service_enriched})"
   ]
  },
  {
   "cell_type": "code",
   "execution_count": 43,
   "metadata": {
    "jupyter": {
     "outputs_hidden": false,
     "source_hidden": false
    },
    "nteract": {
     "transient": {
      "deleting": false
     }
    }
   },
   "outputs": [],
   "source": [
    "def agrup_graf(df, geo='UF'):\n",
    "    aux = df.set_index('Data')\n",
    "    aux = aux.groupby([geo])['Vol_Total'].resample('MS').sum()\n",
    "    aux = aux.unstack(level=0)\n",
    "    #aux.columns = aux.columns.droplevel(0)\n",
    "    aux = aux.rename_axis(None, axis=1)\n",
    "    return(aux)"
   ]
  },
  {
   "cell_type": "code",
   "execution_count": 45,
   "metadata": {
    "jupyter": {
     "outputs_hidden": false,
     "source_hidden": false
    },
    "nteract": {
     "transient": {
      "deleting": false
     }
    }
   },
   "outputs": [],
   "source": [
    "multi_plot(agrup_graf(res_m, geo='REGIAO2'))"
   ]
  },
  {
   "cell_type": "code",
   "execution_count": 41,
   "metadata": {
    "jupyter": {
     "outputs_hidden": false,
     "source_hidden": false
    },
    "nteract": {
     "transient": {
      "deleting": false
     }
    }
   },
   "outputs": [],
   "source": []
  },
  {
   "cell_type": "markdown",
   "metadata": {
    "nteract": {
     "transient": {
      "deleting": false
     }
    }
   },
   "source": [
    "# TAMANHO DE MERCADO"
   ]
  },
  {
   "cell_type": "markdown",
   "metadata": {
    "nteract": {
     "transient": {
      "deleting": false
     }
    }
   },
   "source": [
    "VISÃO ANP"
   ]
  },
  {
   "cell_type": "code",
   "execution_count": 503,
   "metadata": {
    "jupyter": {
     "outputs_hidden": false,
     "source_hidden": false
    },
    "nteract": {
     "transient": {
      "deleting": false
     }
    }
   },
   "outputs": [],
   "source": [
    "cf = pd.DataFrame(diesel_mes.loc['2016':]['consumidor final'])\n",
    "cf[\"ANO\"] = cf.index.strftime('%Y')\n",
    "cf = cf.groupby(['ANO']).sum().reset_index()\n",
    "\n",
    "# TAMANHO DE MERCADO DA USINAS = VOLUMES CONF VIBRA DA ANP * %USINAS VIBRA\n",
    "vol_usinas = pd.DataFrame(diesel_mes.loc['2016':]['consumidor final']*prop['USINA'][:-1])\n",
    "vol_usinas.columns = ['usina']\n",
    "\n",
    "# Volume de diesel vendido para usina ANO GLOBAL\n",
    "vol_usinas['ANO'] = vol_usinas.index.strftime('%Y')\n",
    "vol_usinas = vol_usinas.groupby(['ANO']).sum().reset_index()\n",
    "\n",
    "vol_usinas['cf'] = cf['consumidor final'].to_list()\n",
    "\n",
    "vol_usinas['perc'] = vol_usinas['usina']/vol_usinas['cf']\n",
    "vol_usinas"
   ]
  },
  {
   "cell_type": "code",
   "execution_count": 514,
   "metadata": {
    "jupyter": {
     "outputs_hidden": false,
     "source_hidden": false
    },
    "nteract": {
     "transient": {
      "deleting": false
     }
    }
   },
   "outputs": [],
   "source": [
    "# ERROS RELATIVOS AO TAMANHO DO MERCADO \n",
    "((a['Vol_Total'] - vol_usinas['usina'])/vol_usinas['usina']).plot()"
   ]
  },
  {
   "cell_type": "code",
   "execution_count": 473,
   "metadata": {
    "jupyter": {
     "outputs_hidden": false,
     "source_hidden": false
    },
    "nteract": {
     "transient": {
      "deleting": false
     }
    }
   },
   "outputs": [],
   "source": [
    "vol_usinas.plot()"
   ]
  },
  {
   "cell_type": "code",
   "execution_count": 447,
   "metadata": {
    "jupyter": {
     "outputs_hidden": false,
     "source_hidden": false
    },
    "nteract": {
     "transient": {
      "deleting": false
     }
    }
   },
   "outputs": [],
   "source": [
    "# TAMANHO DE MERCADO ESTIMADO POR MEIO DE CLIENTES E NÃO CLIENTES VIBRA\n",
    "# PROCESSO DE IMPUTAÇÕES DE VOLUMES VENDIDOS PARA' NÃO CLIENTES\n",
    "b1.plot()"
   ]
  },
  {
   "cell_type": "code",
   "execution_count": 450,
   "metadata": {
    "jupyter": {
     "outputs_hidden": false,
     "source_hidden": false
    },
    "nteract": {
     "transient": {
      "deleting": false
     }
    }
   },
   "outputs": [],
   "source": [
    "# VENDAS VIBRA REAL PARA USINAS\n",
    "c1.plot()"
   ]
  },
  {
   "cell_type": "code",
   "execution_count": 428,
   "metadata": {
    "jupyter": {
     "outputs_hidden": false,
     "source_hidden": false
    },
    "nteract": {
     "transient": {
      "deleting": false
     }
    }
   },
   "outputs": [],
   "source": [
    "a1 = a.merge(b, on='ANO')\n",
    "a1['Diff'] = a1['Vol_Total_x'].sub(a1['Vol_Total_y'], axis=0)\n",
    "a1"
   ]
  },
  {
   "cell_type": "markdown",
   "metadata": {
    "nteract": {
     "transient": {
      "deleting": false
     }
    }
   },
   "source": [
    "### COLETANDO VOLUME DECOMPOSTO"
   ]
  },
  {
   "cell_type": "code",
   "execution_count": 448,
   "metadata": {
    "jupyter": {
     "outputs_hidden": false,
     "source_hidden": false
    },
    "nteract": {
     "transient": {
      "deleting": false
     }
    }
   },
   "outputs": [],
   "source": [
    "vol = pd.read_parquet('abfss://general@stedlk02dtandev.dfs.core.windows.net/enriched/mercado_potencial/volumetria/vol02_MKTS_ConsFinal_Decomposto.parquet',\n",
    "                        storage_options = {'linked_service' : linked_service_enriched})\n",
    "\n",
    "vol['ANOMES'] = vol.index.strftime('%Y-%m')\n",
    "vol['ANO'] = vol.index.strftime('%Y')  \n",
    "\n",
    "c = vol.groupby(['ANO'])['USINA'].agg(Vol_Total = 'sum').reset_index()\n",
    "c1 = vol.groupby(['ANOMES'])['USINA'].agg(Vol_Total = 'sum').reset_index()\n",
    "c"
   ]
  },
  {
   "cell_type": "code",
   "execution_count": 432,
   "metadata": {
    "jupyter": {
     "outputs_hidden": false,
     "source_hidden": false
    },
    "nteract": {
     "transient": {
      "deleting": false
     }
    }
   },
   "outputs": [],
   "source": [
    "c['c-a'] = c['Vol_Total'] - a['Vol_Total']\n",
    "c['c-b'] = c['Vol_Total'] - b['Vol_Total']\n",
    "c"
   ]
  }
 ],
 "metadata": {
  "hide_input": false,
  "kernelspec": {
   "display_name": "Python 3 (ipykernel)",
   "language": "python",
   "name": "python3"
  },
  "language_info": {
   "codemirror_mode": {
    "name": "ipython",
    "version": 3
   },
   "file_extension": ".py",
   "mimetype": "text/x-python",
   "name": "python",
   "nbconvert_exporter": "python",
   "pygments_lexer": "ipython3",
   "version": "3.9.7"
  },
  "save_output": true
 },
 "nbformat": 4,
 "nbformat_minor": 2
}
