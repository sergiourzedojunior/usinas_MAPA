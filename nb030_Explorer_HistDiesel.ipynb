{
 "cells": [
  {
   "cell_type": "markdown",
   "metadata": {
    "nteract": {
     "transient": {
      "deleting": false
     }
    }
   },
   "source": [
    "# Exploração das duas Bases de Histórico de Diesel VIBRA"
   ]
  },
  {
   "cell_type": "markdown",
   "metadata": {
    "nteract": {
     "transient": {
      "deleting": false
     }
    }
   },
   "source": [
    "## Histórico de Atualizações\n",
    "\n",
    "<table>\n",
    "    <thead>\n",
    "        <tr>\n",
    "            <th>Versão</th>\n",
    "            <th>Data</th>\n",
    "            <th>Descrição</th>\n",
    "            <th>Autor</th>\n",
    "            <th>Email</th>\n",
    "        </tr>\n",
    "    </thead>\n",
    "    <tbody>\n",
    "        <tr>\n",
    "            <th>1.0</th>\n",
    "            <td>26/04/2023</td>\n",
    "            <td>\n",
    "                <p>Exploração das duas bases de histórico de vendas da Vibra</p>\n",
    "                1ª oritunda da volumetria - 1ª fase do projeto</br>\n",
    "                2ª oriunda do novo processamento do hist diesel\n",
    "            </td>\n",
    "            <td>Marcel Quintela, , Sergio Urzedo Jr</td>\n",
    "            <td>marcel.quintela@avanade.com, sergiourzedojr@gmail.com</td>\n",
    "        </tr>       \n",
    "    </tbody>\n",
    "</table>"
   ]
  },
  {
   "cell_type": "markdown",
   "metadata": {
    "nteract": {
     "transient": {
      "deleting": false
     }
    }
   },
   "source": [
    "# Setup Inicial"
   ]
  },
  {
   "cell_type": "markdown",
   "metadata": {
    "nteract": {
     "transient": {
      "deleting": false
     }
    }
   },
   "source": [
    "Carregando linhas com configurações iniciais já escritas em notebook base\n",
    "\n",
    "No bloco de comando \"%run\" não pode ter nenhum outra linha de comando ou comentário"
   ]
  },
  {
   "cell_type": "code",
   "execution_count": 1,
   "metadata": {
    "jupyter": {
     "outputs_hidden": false,
     "source_hidden": false
    },
    "nteract": {
     "transient": {
      "deleting": false
     }
    }
   },
   "outputs": [],
   "source": [
    "%run nb00_Setup_Usinas{'blob_relative_path_raw': 'nuvem/Usinas/'}"
   ]
  },
  {
   "cell_type": "markdown",
   "metadata": {
    "nteract": {
     "transient": {
      "deleting": false
     }
    }
   },
   "source": [
    "# Leitura dos Dados "
   ]
  },
  {
   "cell_type": "code",
   "execution_count": 2,
   "metadata": {
    "jupyter": {
     "outputs_hidden": false,
     "source_hidden": false
    },
    "nteract": {
     "transient": {
      "deleting": false
     }
    }
   },
   "outputs": [],
   "source": [
    "usinas   = pd.read_parquet(abfss_path_enriched+'tancagens_impt_usinas.parquet',storage_options = {'linked_service' : linked_service_enriched})\n",
    " \n",
    "arq_vol = 'abfss://general@stedlk01dtandev.dfs.core.windows.net/raw/mercado_potencial/volumetria/hist_diesel.csv'       # nova base de 28/04/23\n",
    "arq_usi = abfss_path_raw + 'Vibra/hist_diesel.csv'"
   ]
  },
  {
   "cell_type": "markdown",
   "metadata": {
    "nteract": {
     "transient": {
      "deleting": false
     }
    }
   },
   "source": [
    "# ADD infos do Histórico de vendas da VIBRA"
   ]
  },
  {
   "cell_type": "markdown",
   "metadata": {
    "nteract": {
     "transient": {
      "deleting": false
     }
    }
   },
   "source": [
    "### Histórico fornacido pela Volumetria"
   ]
  },
  {
   "cell_type": "code",
   "execution_count": 3,
   "metadata": {
    "jupyter": {
     "outputs_hidden": false,
     "source_hidden": false
    },
    "nteract": {
     "transient": {
      "deleting": false
     }
    }
   },
   "outputs": [],
   "source": [
    "col_names = pd.read_csv(arq_vol, nrows=0).columns                           # coletando informações de cabeçalho\n",
    "col_types = {col: str for col in col_names if col not in {}}                # todas as colunas como str\n",
    "\n",
    "\n",
    "hist = pd.read_csv(arq_vol, dtype=col_types,\n",
    "                        storage_options = {'linked_service' : linked_service_raw})\n",
    "\n",
    "\n",
    "\n",
    "hist.drop(['Unnamed: 0','index'],axis=1,inplace=True)                       # var não necessária\n",
    "hist['VEDI_VOL'] = hist['VEDI_VOL'].astype(float)\n",
    "hist['VEDI_DAT_VEN'] = pd.to_datetime(hist['VEDI_DAT_VEN'])\n",
    "\n",
    "#organizando o Coreto!\n",
    "hist = hist[['CLIE_NUM_CPF_CNPJ', 'CLIE_NOM_CLIENTE','VEDI_COD_CLI', 'VEDI_VOL', 'VEDI_DAT_VEN', 'ProdutoD', 'AECO']]\n",
    "\n",
    "hist.rename(columns={'CLIE_NUM_CPF_CNPJ': 'CNPJ'}, errors='raise', inplace=True)\n",
    "\n",
    "hist = hist[hist['AECO']=='USINA'].reset_index(drop=True)\n",
    "hist['CNPJ'] = hist['CNPJ'].astype(str).apply(lambda x: x.zfill(14))    #Transforma CPNJ em string\n",
    "hist = hist[~hist['CNPJ'].str.startswith('000')]                        # removendo possiveis CPFs\n",
    "\n",
    "hist = hist[hist['VEDI_VOL'] > 0].sort_values('VEDI_DAT_VEN')                  # Eliminando Vendas negativas ou zeradas\n",
    "hist_v = hist.copy()"
   ]
  },
  {
   "cell_type": "markdown",
   "metadata": {
    "nteract": {
     "transient": {
      "deleting": false
     }
    }
   },
   "source": [
    "### Histórico Processado na Onda2"
   ]
  },
  {
   "cell_type": "code",
   "execution_count": 4,
   "metadata": {
    "jupyter": {
     "outputs_hidden": false,
     "source_hidden": false
    },
    "nteract": {
     "transient": {
      "deleting": false
     }
    }
   },
   "outputs": [],
   "source": [
    "#HIST PROCESSADO NO INICIO DA ONDA 2\n",
    "\n",
    "#del(col_names, col_types)                                                  # eliminando dados de outra leitura\n",
    "col_names = pd.read_csv(arq_usi, nrows=0).columns                           # coletando informações de cabeçalho\n",
    "col_types = {col: str for col in col_names if col not in {}}                # todas as colunas como str\n",
    "\n",
    "hist = pd.read_csv(arq_usi, dtype=col_types,\n",
    "                        storage_options = {'linked_service' : linked_service_raw})\n",
    "\n",
    "hist.drop('keymodel',axis=1,inplace=True)                                   # var não necessária\n",
    "hist['VEDI_VOL'] = hist['VEDI_VOL'].astype(float)\n",
    "hist['VEDI_DAT_VEN'] = pd.to_datetime(hist['VEDI_DAT_VEN'])\n",
    "\n",
    "#organizando o Coreto!\n",
    "hist = hist[['CLIE_NUM_CPF_CNPJ', 'CLIE_NOM_CLIENTE','VEDI_COD_CLI', 'VEDI_VOL', 'VEDI_DAT_VEN', 'ProdutoD', 'AECO']]\n",
    "\n",
    "hist.rename(columns={'CLIE_NUM_CPF_CNPJ': 'CNPJ'}, errors='raise', inplace=True)\n",
    "\n",
    "hist = hist[hist['AECO']=='USINA'].sort_values('VEDI_DAT_VEN').reset_index(drop=True)\n"
   ]
  },
  {
   "cell_type": "markdown",
   "metadata": {
    "nteract": {
     "transient": {
      "deleting": false
     }
    }
   },
   "source": [
    "## Comparação"
   ]
  },
  {
   "cell_type": "code",
   "execution_count": 5,
   "metadata": {
    "jupyter": {
     "outputs_hidden": false,
     "source_hidden": false
    },
    "nteract": {
     "transient": {
      "deleting": false
     }
    }
   },
   "outputs": [],
   "source": [
    "hist_v.head(10)"
   ]
  },
  {
   "cell_type": "code",
   "execution_count": 6,
   "metadata": {
    "jupyter": {
     "outputs_hidden": false,
     "source_hidden": false
    },
    "nteract": {
     "transient": {
      "deleting": false
     }
    }
   },
   "outputs": [],
   "source": [
    "hist.head(10)"
   ]
  },
  {
   "cell_type": "code",
   "execution_count": 7,
   "metadata": {
    "jupyter": {
     "outputs_hidden": false,
     "source_hidden": false
    },
    "nteract": {
     "transient": {
      "deleting": false
     }
    }
   },
   "outputs": [],
   "source": [
    "hist_v[(hist_v['CLIE_NOM_CLIENTE']=='OUROESTE BIOENERGIA LTDA') & (hist_v['VEDI_DAT_VEN']<'2017-01-01')]"
   ]
  },
  {
   "cell_type": "code",
   "execution_count": 8,
   "metadata": {
    "jupyter": {
     "outputs_hidden": false,
     "source_hidden": false
    },
    "nteract": {
     "transient": {
      "deleting": false
     }
    }
   },
   "outputs": [],
   "source": [
    "hist[(hist['CLIE_NOM_CLIENTE']=='OUROESTE BIOENERGIA LTDA')&(hist['VEDI_DAT_VEN']<'2017-01-01')]"
   ]
  },
  {
   "cell_type": "markdown",
   "metadata": {
    "nteract": {
     "transient": {
      "deleting": false
     }
    }
   },
   "source": [
    "### Percentual de USINAS que a Vibra realizou vendas no ano\n"
   ]
  },
  {
   "cell_type": "code",
   "execution_count": 9,
   "metadata": {
    "jupyter": {
     "outputs_hidden": false,
     "source_hidden": false
    },
    "nteract": {
     "transient": {
      "deleting": false
     }
    }
   },
   "outputs": [],
   "source": [
    "hist_v['ANO'] = hist_v['VEDI_DAT_VEN'].dt.strftime('%Y') \n",
    "hist_v['ANOMES'] = hist_v['VEDI_DAT_VEN'].dt.strftime('%Y-%m')\n",
    "\n",
    "hist['ANO'] = hist['VEDI_DAT_VEN'].dt.strftime('%Y')"
   ]
  },
  {
   "cell_type": "code",
   "execution_count": 10,
   "metadata": {
    "jupyter": {
     "outputs_hidden": false,
     "source_hidden": false
    },
    "nteract": {
     "transient": {
      "deleting": false
     }
    }
   },
   "outputs": [],
   "source": [
    "# agrupando as vendas por cnpj e ano trazendo volume médio, numero de vendas e volume total de DIESEL\n",
    "\n",
    "df_vg1 = hist_v.groupby(\n",
    "                        ['CNPJ','CLIE_NOM_CLIENTE','ANO'])['VEDI_VOL'].agg(\n",
    "                            Vol_Total = 'sum', Freq='count', Vol_Medio='mean').reset_index()\n",
    "\n",
    "df_vg = hist_v.groupby(\n",
    "                        ['CNPJ','CLIE_NOM_CLIENTE','ANOMES'])['VEDI_VOL'].agg(\n",
    "                            Vol_Total = 'sum', Freq='count', Vol_Medio='mean').reset_index()\n",
    "\n",
    "df_g = hist.groupby(\n",
    "                    ['CNPJ','CLIE_NOM_CLIENTE','ANO'])['VEDI_VOL'].agg(\n",
    "                        Vol_Total = 'sum', Freq='count', Vol_Medio='mean').reset_index()"
   ]
  },
  {
   "cell_type": "code",
   "execution_count": 11,
   "metadata": {
    "jupyter": {
     "outputs_hidden": false,
     "source_hidden": false
    },
    "nteract": {
     "transient": {
      "deleting": false
     }
    }
   },
   "outputs": [],
   "source": [
    "def participacao(df, freq):\n",
    "    temp = sorted(df[freq].value_counts().index.tolist())\n",
    "    print('Percentual de USINAS que a Vibra realizou vendas no', freq)\n",
    "    for i in temp[:-1]:                                                             # até o ultimo ano completo\n",
    "        df_a = df[df[freq]==i][['CNPJ',freq, 'Vol_Total','Freq','Vol_Medio']]\n",
    "        us = usinas.merge(df_a, how='left', on='CNPJ')\n",
    "        us[freq]=i\n",
    "        print('{}: {:2.2%}'.format(i, us[~us['Freq'].isnull()].shape[0]/len(us)))"
   ]
  },
  {
   "cell_type": "code",
   "execution_count": 12,
   "metadata": {
    "jupyter": {
     "outputs_hidden": false,
     "source_hidden": false
    },
    "nteract": {
     "transient": {
      "deleting": false
     }
    }
   },
   "outputs": [],
   "source": [
    "participacao(df_vg, 'ANOMES')"
   ]
  }
 ],
 "metadata": {
  "hide_input": false,
  "kernelspec": {
   "display_name": "Python 3 (ipykernel)",
   "language": "python",
   "name": "python3"
  },
  "language_info": {
   "codemirror_mode": {
    "name": "ipython",
    "version": 3
   },
   "file_extension": ".py",
   "mimetype": "text/x-python",
   "name": "python",
   "nbconvert_exporter": "python",
   "pygments_lexer": "ipython3",
   "version": "3.9.7"
  },
  "save_output": true,
  "synapse_widget": {
   "state": {},
   "version": "0.1"
  }
 },
 "nbformat": 4,
 "nbformat_minor": 2
}
