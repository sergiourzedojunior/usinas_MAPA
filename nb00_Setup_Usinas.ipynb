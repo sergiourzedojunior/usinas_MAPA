{
 "cells": [
  {
   "cell_type": "markdown",
   "metadata": {
    "nteract": {
     "transient": {
      "deleting": false
     }
    }
   },
   "source": [
    "# Setup Inicial para os Notebooks das Usinas"
   ]
  },
  {
   "cell_type": "markdown",
   "metadata": {
    "nteract": {
     "transient": {
      "deleting": false
     }
    }
   },
   "source": [
    "## Histórico de Atualizações\n",
    "\n",
    "<table>\n",
    "    <thead>\n",
    "        <tr>\n",
    "            <th>Versão</th>\n",
    "            <th>Data</th>\n",
    "            <th>Descrição</th>\n",
    "            <th>Autor</th>\n",
    "            <th>Email</th>\n",
    "        </tr>\n",
    "    </thead>\n",
    "    <tbody>\n",
    "        <tr>\n",
    "            <th>1.0</th>\n",
    "            <td>21/03/2023</td>\n",
    "            <td>Criação dos ajustes gerais</td>\n",
    "            <td>Marcel Quintela, Sergio Urzedo Jr</td>\n",
    "            <td>marcel.quintela@avanade.com, sergiourzedojr@gmail.com</td>\n",
    "        </tr>\n",
    "    </tbody>\n",
    "</table>"
   ]
  },
  {
   "cell_type": "markdown",
   "metadata": {
    "nteract": {
     "transient": {
      "deleting": false
     }
    }
   },
   "source": [
    "# Setup Inicial"
   ]
  },
  {
   "cell_type": "code",
   "execution_count": 24,
   "metadata": {
    "jupyter": {
     "outputs_hidden": false,
     "source_hidden": false
    },
    "nteract": {
     "transient": {
      "deleting": false
     }
    }
   },
   "outputs": [],
   "source": [
    "# limpar saidas\n",
    "import os\n",
    "\n",
    "def clear_output():\n",
    "    os.system('cls' if os.name == 'nt' else 'clear')"
   ]
  },
  {
   "cell_type": "code",
   "execution_count": null,
   "metadata": {
    "jupyter": {
     "outputs_hidden": false,
     "source_hidden": false
    },
    "nteract": {
     "transient": {
      "deleting": false
     }
    }
   },
   "outputs": [],
   "source": [
    "try:\n",
    "    from alive_progress import alive_bar\n",
    "except ModuleNotFoundError:\n",
    "    !pip install --quiet alive_progress\n",
    "    from alive_progress import alive_bar"
   ]
  },
  {
   "cell_type": "code",
   "execution_count": 25,
   "metadata": {
    "jupyter": {
     "outputs_hidden": false,
     "source_hidden": false
    },
    "nteract": {
     "transient": {
      "deleting": false
     }
    }
   },
   "outputs": [],
   "source": [
    "# INSTALAÇÃO DE PACOTE AUXILIAR NA LEITURA DE ARQUIVOS .XLSX\n",
    "try:\n",
    "    import xlrd\n",
    "except ModuleNotFoundError:\n",
    "    !pip install --quiet xlrd\n",
    "    import xlrd\n",
    "\n",
    "clear_output()"
   ]
  },
  {
   "cell_type": "code",
   "execution_count": 26,
   "metadata": {
    "jupyter": {
     "outputs_hidden": false,
     "source_hidden": false
    },
    "nteract": {
     "transient": {
      "deleting": false
     }
    }
   },
   "outputs": [],
   "source": [
    "# INSTALAÇÃO DE PACOTE DO IBGE PARA COLETAR INFORMAÇÕES GEOGRÁFICAS\n",
    "#clear_output()\n",
    "try:\n",
    "    import ibge \n",
    "except ModuleNotFoundError:\n",
    "    !pip install --quiet ibge\n",
    "    import ibge     "
   ]
  },
  {
   "cell_type": "code",
   "execution_count": 27,
   "metadata": {
    "jupyter": {
     "outputs_hidden": false,
     "source_hidden": false
    },
    "nteract": {
     "transient": {
      "deleting": false
     }
    }
   },
   "outputs": [],
   "source": [
    "clear_output()\n",
    "try:\n",
    "    import missingno as msno \n",
    "except ModuleNotFoundError:\n",
    "    !pip install --quiet missingno\n",
    "    import missingno as msno"
   ]
  },
  {
   "cell_type": "code",
   "execution_count": null,
   "metadata": {
    "jupyter": {
     "outputs_hidden": false,
     "source_hidden": false
    },
    "nteract": {
     "transient": {
      "deleting": false
     }
    }
   },
   "outputs": [],
   "source": [
    "# try:\n",
    "#     import xlwings as xw\n",
    "# except ModuleNotFoundError:\n",
    "#     !pip install -q xlwings\n",
    "#     import xlwings as xw\n"
   ]
  },
  {
   "cell_type": "markdown",
   "metadata": {
    "nteract": {
     "transient": {
      "deleting": false
     }
    }
   },
   "source": [
    "## Bibliotecas Utilizadas"
   ]
  },
  {
   "cell_type": "code",
   "execution_count": 8,
   "metadata": {
    "jupyter": {
     "outputs_hidden": false,
     "source_hidden": false
    },
    "nteract": {
     "transient": {
      "deleting": false
     }
    }
   },
   "outputs": [],
   "source": [
    "# Manipulação de dados\n",
    "import numpy as np\n",
    "import pandas as pd\n",
    "import json\n",
    "\n",
    "# Manipulação e processamento de texto e caracteres\n",
    "import re\n",
    "import unicodedata\n",
    "\n",
    "# Manipulação de data/hora\n",
    "import time\n",
    "from time import strftime\n",
    "from pytz import timezone\n",
    "from datetime import datetime as dt\n",
    "from dateutil.relativedelta import relativedelta\n",
    "\n",
    "# Visualização\n",
    "import matplotlib.pyplot as plt\n",
    "import plotly\n",
    "import plotly.express as px\n",
    "import plotly.graph_objects as go\n",
    "from plotly.subplots import make_subplots\n",
    "\n",
    "# Avisos e logs\n",
    "import logging\n",
    "import warnings\n",
    "\n",
    "# Informações Geográficas\n",
    "from ibge.localidades import *                              # funções de dados geograficos segundo codificação do IBGE\n",
    "\n",
    "# Processos de Imputação e Machine Learning\n",
    "from sklearn.preprocessing import LabelEncoder              # transformar var Categorica em numerica [ordinal ou não]\n",
    "from sklearn.impute import KNNImputer                       # função de imputação baseada em sua vizinhança\n",
    "\n",
    "# Prophet para previsão de series de tempo\n",
    "from prophet import Prophet\n",
    "from prophet.plot import plot_plotly, plot_components_plotly\n",
    "\n",
    "# Calculo de estatisticas\n",
    "from scipy import stats\n",
    "\n",
    "# Medir perdormance dos modelos\n",
    "from sklearn import metrics\n"
   ]
  },
  {
   "cell_type": "code",
   "execution_count": null,
   "metadata": {
    "jupyter": {
     "outputs_hidden": false,
     "source_hidden": false
    },
    "nteract": {
     "transient": {
      "deleting": false
     }
    }
   },
   "outputs": [],
   "source": [
    "# Configurar constante de Data Hora\n",
    "tz_SP = timezone('America/Sao_Paulo')"
   ]
  },
  {
   "cell_type": "code",
   "execution_count": null,
   "metadata": {
    "jupyter": {
     "outputs_hidden": false,
     "source_hidden": false
    },
    "nteract": {
     "transient": {
      "deleting": false
     }
    }
   },
   "outputs": [],
   "source": [
    "# usado para remover as mensagens de output de processamento dos modelos prophet.\n",
    "cmdstanpy_logger = logging.getLogger(\"cmdstanpy\")\n",
    "cmdstanpy_logger.disabled = True"
   ]
  },
  {
   "cell_type": "code",
   "execution_count": 9,
   "metadata": {
    "jupyter": {
     "outputs_hidden": false,
     "source_hidden": false
    },
    "nteract": {
     "transient": {
      "deleting": false
     }
    }
   },
   "outputs": [],
   "source": [
    "# settings pd warnings \n",
    "\n",
    "# elimina avisos do tipo:\n",
    "# A value is trying to be set on a copy of a slice from a DataFrame\n",
    "# See the caveats in the documentation: https://pandas.pydata.org/pandas-docs/stable/user_guide/indexing.html#returning-a-view-versus-a-copy\n",
    "\n",
    "# Ocorrência provável devido a desatualização do pandas\n",
    "\n",
    "pd.set_option('mode.chained_assignment', None)\n",
    "\n",
    "# modo de exibição sem Notação Científica\n",
    "pd.options.display.float_format = '{:.6f}'.format"
   ]
  },
  {
   "cell_type": "code",
   "execution_count": null,
   "metadata": {
    "jupyter": {
     "outputs_hidden": false,
     "source_hidden": false
    },
    "nteract": {
     "transient": {
      "deleting": false
     }
    }
   },
   "outputs": [],
   "source": [
    "class cores:\n",
    "    PURPLE = '\\033[95m'\n",
    "    CYAN = '\\033[96m'\n",
    "    DARKCYAN = '\\033[36m'\n",
    "    BLUE = '\\033[94m'\n",
    "    GREEN = '\\033[92m'\n",
    "    YELLOW = '\\033[93m'\n",
    "    RED = '\\033[91m'\n",
    "    BOLD = '\\033[1m'\n",
    "    UNDERLINE = '\\033[4m'\n",
    "    END = '\\033[0m'"
   ]
  },
  {
   "cell_type": "code",
   "execution_count": null,
   "metadata": {
    "jupyter": {
     "outputs_hidden": false,
     "source_hidden": false
    },
    "nteract": {
     "transient": {
      "deleting": false
     }
    }
   },
   "outputs": [],
   "source": [
    "a1 = ('Bibliotecas e configurações gerais:*carregadas com sucesso!\\n')"
   ]
  },
  {
   "cell_type": "markdown",
   "metadata": {
    "nteract": {
     "transient": {
      "deleting": false
     }
    }
   },
   "source": [
    "## Definições gerais"
   ]
  },
  {
   "cell_type": "markdown",
   "metadata": {
    "nteract": {
     "transient": {
      "deleting": false
     }
    }
   },
   "source": [
    "### Ambiente"
   ]
  },
  {
   "cell_type": "code",
   "execution_count": 10,
   "metadata": {
    "jupyter": {
     "outputs_hidden": false,
     "source_hidden": false
    },
    "nteract": {
     "transient": {
      "deleting": false
     }
    },
    "tags": [
     "parameters"
    ]
   },
   "outputs": [],
   "source": [
    "blob_container_name = 'general'                                             # container name\n",
    "\n",
    "blob_relative_path_raw = 'nuvem/Usinas/MAPA/'                               # relative folder path\n",
    "blob_relative_path_enriched = 'enriched/mercado_potencial/mapa/'            # relative folder path\n",
    "\n",
    "linked_service_raw = 'LS_ADLS_RAW_01'                                       # linked service name\n",
    "linked_service_enriched = 'LS_ADLS_ENRICHED_01'                             # linked service name\n"
   ]
  },
  {
   "cell_type": "code",
   "execution_count": 11,
   "metadata": {
    "jupyter": {
     "outputs_hidden": false,
     "source_hidden": false
    },
    "nteract": {
     "transient": {
      "deleting": false
     }
    }
   },
   "outputs": [],
   "source": [
    "ls_raw = mssparkutils.credentials.getPropertiesAll(linked_service_raw)\n",
    "ls_enriched = mssparkutils.credentials.getPropertiesAll(linked_service_enriched)\n",
    "\n",
    "converter_dic_raw = json.loads(ls_raw)\n",
    "converter_dic_enriched = json.loads(ls_enriched)\n",
    "\n",
    "#coletando o endpoint\n",
    "end_point_raw = (converter_dic_raw['Endpoint'].split(\"/\"))[2]\n",
    "end_point_enriched = (converter_dic_enriched['Endpoint'].split(\"/\"))[2] \n",
    "\n",
    "#Utilizado na leitura via metodo mssparkutils\n",
    "abfss_path_raw = 'abfss://%s@%s/%s' % (blob_container_name, end_point_raw, blob_relative_path_raw)\n",
    "abfss_path_enriched = 'abfss://%s@%s/%s' % (blob_container_name, end_point_enriched, blob_relative_path_enriched)"
   ]
  },
  {
   "cell_type": "code",
   "execution_count": 12,
   "metadata": {
    "jupyter": {
     "outputs_hidden": false,
     "source_hidden": false
    },
    "nteract": {
     "transient": {
      "deleting": false
     }
    }
   },
   "outputs": [],
   "source": [
    "del(blob_container_name,\n",
    "    blob_relative_path_raw,\n",
    "    blob_relative_path_enriched,\n",
    "    ls_raw,\n",
    "    ls_enriched,\n",
    "    converter_dic_raw,\n",
    "    converter_dic_enriched,\n",
    "    end_point_raw,\n",
    "    end_point_enriched)"
   ]
  },
  {
   "cell_type": "code",
   "execution_count": 13,
   "metadata": {
    "jupyter": {
     "outputs_hidden": false,
     "source_hidden": false
    },
    "nteract": {
     "transient": {
      "deleting": false
     }
    }
   },
   "outputs": [],
   "source": [
    "a2 = ('Configurações de ambiente:*'+ \n",
    "      ' - abfss_path_raw: '+ abfss_path_raw +'\\n' +\n",
    "      ' - abfss_path_enriched: '+ abfss_path_enriched + '\\n' + \n",
    "      'carregadas com sucesso!\\n')"
   ]
  },
  {
   "cell_type": "markdown",
   "metadata": {
    "nteract": {
     "transient": {
      "deleting": false
     }
    }
   },
   "source": [
    "# FUNÇÕES"
   ]
  },
  {
   "cell_type": "markdown",
   "metadata": {
    "nteract": {
     "transient": {
      "deleting": false
     }
    }
   },
   "source": [
    "## Funções de imputação de dados faltantes"
   ]
  },
  {
   "cell_type": "code",
   "execution_count": null,
   "metadata": {
    "jupyter": {
     "outputs_hidden": false,
     "source_hidden": false
    },
    "nteract": {
     "transient": {
      "deleting": false
     }
    }
   },
   "outputs": [],
   "source": [
    "# criando validador para o tipo de imputação: TIPO_IMP -  0: UF; 1:REGIAO\n",
    "\n",
    "def validador_impt (dados, alvo, chave='CNPJ', geo='UF'):\n",
    "    df = dados.copy()\n",
    "    df['TIPO_IMP'] = 0                                                               # Todos assumem, a priori, que será por UF\n",
    "    uf = df[geo].value_counts().index.to_list()\n",
    "    for i in uf:\n",
    "        falta = df[df[geo]==i][alvo].isna().sum()/len(df[df[geo]==i])\n",
    "        if falta >=0.6:                                                             # se 60% dos dados forem faltantes faz por REGIAO\n",
    "            df.loc[df[geo]==i, 'TIPO_IMP'] = 1\n",
    "\n",
    "    df.sort_values(chave, ignore_index=True, inplace=True)\n",
    "    #df.reset_index(drop=True, inplace=True)\n",
    "    return(df)"
   ]
  },
  {
   "cell_type": "code",
   "execution_count": null,
   "metadata": {
    "jupyter": {
     "outputs_hidden": false,
     "source_hidden": false
    },
    "nteract": {
     "transient": {
      "deleting": false
     }
    }
   },
   "outputs": [],
   "source": [
    "def imputacao(dados, variaveis, chave, geo='UF', viz=5, ind=False):\n",
    "    df = dados.copy()\n",
    "    cols = df.columns.drop(variaveis)                                                      # Variáveis auxiliares\n",
    "    query     = 'TIPO_IMP == 0' if geo=='UF' else 'TIPO_IMP == 1'\n",
    "    #viz       = 5                                                                         # 2 if geo=='UF' else 5\n",
    "    loc       = df.query(query)[geo].value_counts().index.to_list()                        # listando as UF\n",
    "    knn       = KNNImputer(n_neighbors=viz, weights = 'distance', add_indicator=ind)       # modelo e imputação\n",
    "    result = pd.DataFrame()                                                                # dataframe que acumulará os resultados por UF\n",
    "\n",
    "    for i in loc:\n",
    "        aux_1 = df[df[geo]==i][cols].reset_index(drop=True)\n",
    "        aux_2 = df[df[geo]==i][variaveis].reset_index(drop=True)\n",
    "        knn.fit(aux_2)\n",
    "        aux = pd.DataFrame(knn.transform(aux_2), columns=knn.get_feature_names_out())\n",
    "        aux = aux_1.join(aux)\n",
    "        result = pd.concat([result, aux], axis=0, ignore_index=True)\n",
    "    result.sort_values(chave, ignore_index=True, inplace=True)\n",
    "    return (result)"
   ]
  },
  {
   "cell_type": "code",
   "execution_count": null,
   "metadata": {
    "jupyter": {
     "outputs_hidden": false,
     "source_hidden": false
    },
    "nteract": {
     "transient": {
      "deleting": false
     }
    }
   },
   "outputs": [],
   "source": [
    "def agrega_imputados(dados, variaveis, chave, alvo, nivel, viz, ind):\n",
    "    dic = {0:'Não', 1:'Sim'}\n",
    "    df = dados.copy()\n",
    "    df = validador_impt(df, alvo)\n",
    "    col = df.columns.drop(variaveis)\n",
    "    for i in nivel:\n",
    "        aux = imputacao(df, variaveis, chave, i, viz, ind).set_index(chave)\n",
    "        df.set_index(chave, inplace=True)\n",
    "        df.update(aux, overwrite=False)                                                 # Atualiza df\n",
    "        df.reset_index(drop=False, inplace=True)\n",
    "    if ind==True:\n",
    "        df = df.merge(aux.reset_index(drop=False).filter(regex='CNPJ|missing'), how='left', on='CNPJ')          # incluindo colunas indicadoras de imputação caso ind=True    \n",
    "        df.columns = df.columns.str.replace('missingindicator', lambda x: 'imputado', regex=True)\n",
    "        df = df.replace({col:dic for col in df.columns if ~col.find('imputado')})\n",
    "    return(df)"
   ]
  },
  {
   "cell_type": "code",
   "execution_count": null,
   "metadata": {
    "jupyter": {
     "outputs_hidden": false,
     "source_hidden": false
    },
    "nteract": {
     "transient": {
      "deleting": false
     }
    }
   },
   "outputs": [],
   "source": [
    "def imp_anual(df, freq, l, cols, var, ind=False):\n",
    "\n",
    "    result =pd.DataFrame()\n",
    "    #l = [x for x in cols if x not in var+['R_SOCIAL','UF','REGIAO']]\n",
    "    temp = sorted(df[freq].value_counts().index.tolist())\n",
    "    #print('Percentual de USINAS que a  realizou vendas no', freq)\n",
    "\n",
    "    for i in temp[:-1]:                                     # até o ultimo periodo[ano, mes] completo\n",
    "        df_a = df[df[freq]==i][l+['Vol_Total','Freq','Vol_Medio']]\n",
    "        us = usinas.merge(df_a, how='left', on='CNPJ')\n",
    "        us[freq]=i\n",
    "        #print('{}: {:2.2%}'.format(i, us[~us['Freq'].isnull()].shape[0]/len(us)))\n",
    "        aux = agrega_imputados(us[cols], var, chave='CNPJ', alvo='Vol_Medio', nivel=['UF', 'REGIAO'], viz=5, ind=ind)\n",
    "        result = pd.concat([result, aux], axis=0, ignore_index=True)\n",
    "    return (result)"
   ]
  },
  {
   "cell_type": "code",
   "execution_count": null,
   "metadata": {
    "jupyter": {
     "outputs_hidden": false,
     "source_hidden": false
    },
    "nteract": {
     "transient": {
      "deleting": false
     }
    }
   },
   "outputs": [],
   "source": [
    "a3 = ('Funções de imputação de dados faltantes:*'+\n",
    "        ' - validador_impt (dados, alvo, chave=\"CNPJ\", geo=\"UF\")\\n'+\n",
    "        ' - agrega_imputados(dados, variaveis, chave, alvo, nivel, viz, ind)\\n' +\n",
    "        ' - imp_anual(df, freq, l, cols, var, ind=False)\\n'+\n",
    "        'carregadas com sucesso!\\n')"
   ]
  },
  {
   "cell_type": "markdown",
   "metadata": {
    "nteract": {
     "transient": {
      "deleting": false
     }
    }
   },
   "source": [
    "## Funções de previsão com Prophet"
   ]
  },
  {
   "cell_type": "code",
   "execution_count": null,
   "metadata": {
    "jupyter": {
     "outputs_hidden": false,
     "source_hidden": false
    },
    "nteract": {
     "transient": {
      "deleting": false
     }
    }
   },
   "outputs": [],
   "source": [
    "def create_metricas():\n",
    "    \"\"\"\n",
    "        Cria dicionário em branco das métricas dos modelos\n",
    "    Result:\n",
    "    --------\n",
    "        dic_resilt: dict\n",
    "            dicionário contendo informações basicas das métricas do modelo\n",
    "    \"\"\"\n",
    "    dic_result = {\n",
    "                    'data':0,\n",
    "                    'modelo': 0, \n",
    "                    'regressores':'' , \n",
    "                    'treino_i':0,\n",
    "                    'treino_f':0,\n",
    "                    'teste_i':0,\n",
    "                    'teste_f':0,\n",
    "                    'metricas':{'MSE':0,'MAE':0,'RMSE':0,'MAPE':0,'R2':0}\n",
    "                }\n",
    "    return(dic_result)\n"
   ]
  },
  {
   "cell_type": "code",
   "execution_count": null,
   "metadata": {
    "jupyter": {
     "outputs_hidden": false,
     "source_hidden": false
    },
    "nteract": {
     "transient": {
      "deleting": false
     }
    }
   },
   "outputs": [],
   "source": [
    "def append_metricas(treino, teste, indice):\n",
    "    \"\"\"\n",
    "        Insere informações das métricas dos modelos no dicionário.\n",
    "    Parâmetros\n",
    "    ----------\n",
    "        treino: pd.DataFrame\n",
    "            Amostra de treino a ser ajustada\n",
    "        teste: pd.DataFrame\n",
    "            Amostra de teste que será comparada com as previsões deo treino\n",
    "        indice: int\n",
    "            indice que auxilia na navegação entre os dados do dicionario dos modelos e suas regressoras.\n",
    "    Result:\n",
    "    --------\n",
    "        dic_resilt: dict\n",
    "            dicionário contendo informações basicas das métricas do modelo\n",
    "    \"\"\"\n",
    "    d_result = create_metricas()\n",
    "    x = process_modelos(treino, list(dict_var.values())[indice])\n",
    "    previsto = x[(x['ds']>=teste.index.min()) & (x['ds']<=teste.index.max())]['yhat']\n",
    "    real = teste[list(dict_var.values())[indice][1]]\n",
    "\n",
    "    d_result['data']          = datetime.now(tz_SP).strftime(\"%Y-%m-%d %H:%M:%S\")\n",
    "    d_result['modelo']        = list(dict_var.keys())[indice]\n",
    "    d_result['regressores']   = list(dict_var.values())[indice]\n",
    "    d_result['treino_i']      = treino['ds'].min().strftime(\"%Y-%m-%d\") \n",
    "    d_result['treino_f']      = treino['ds'].max().strftime(\"%Y-%m-%d\") \n",
    "    d_result['teste_i']       = teste['ds'].min().strftime(\"%Y-%m-%d\") \n",
    "    d_result['teste_f']       = teste['ds'].max().strftime(\"%Y-%m-%d\")\n",
    "    d_result['metricas']      = metricas_profecias(real,previsto)\n",
    "\n",
    "\n",
    "    return(d_result)"
   ]
  },
  {
   "cell_type": "code",
   "execution_count": null,
   "metadata": {
    "jupyter": {
     "outputs_hidden": false,
     "source_hidden": false
    },
    "nteract": {
     "transient": {
      "deleting": false
     }
    }
   },
   "outputs": [],
   "source": [
    "def dividir_train_test(data, num_meses=12):\n",
    "    '''\n",
    "    Função que divide os dados a serem usados pelos modelos em treino e teste conforme o\n",
    "    padrão pd.DataFrame Prothet contendo as colunas ['ds','y']\n",
    "\n",
    "    Parâmetros\n",
    "    ----------\n",
    "        data: pd.Dataframe\n",
    "            dataframe em formato time series do Prothet a ser dividido\n",
    "        num_meses: int\n",
    "            número de meses usados para teste (default 12 meses)\n",
    "    Retorno\n",
    "    -------:\n",
    "        train, test: pd.Dataframe\n",
    "            Dataframes de treino e teste\n",
    "    '''\n",
    "    train_data_fim = data['ds'].max() - relativedelta(months=num_meses)\n",
    "    # divisão dos datasets de Treino: train e Teste:test\n",
    "    train = data[data['ds'] <= train_data_fim]\n",
    "    test = data[data['ds'] > train_data_fim]\n",
    "\n",
    "    return (train, test)"
   ]
  },
  {
   "cell_type": "code",
   "execution_count": null,
   "metadata": {
    "jupyter": {
     "outputs_hidden": false,
     "source_hidden": false
    },
    "nteract": {
     "transient": {
      "deleting": false
     }
    }
   },
   "outputs": [],
   "source": [
    "def metricas_profecias(y_real, y_prev, saida='dict', nm_modelo=''):\n",
    "    '''\n",
    "    Calcula as seguintes métricas :\n",
    "        - MSE, MAE, RMSE e MAPE\n",
    "\n",
    "    Parâmetros\n",
    "    ----------\n",
    "        y_real: float64\n",
    "            Valores reais de Y amostra ou toda a série \n",
    "        y_prev (float64)\n",
    "            Valores previstos de Y, informar pd.DataFrame ou Series contendo ['yhat'] que a função resgata\n",
    "            a parte equivalente ao teste\n",
    "        saida: str\n",
    "            Formato da saída [print ou dicionario]\n",
    "        nm_modelo:str\n",
    "            Nome do modelo\n",
    "\n",
    "    Retorna:\n",
    "        MSE, MAE, RMSE e MAPE: dict ou print\n",
    "            Conjunto das métricas do modelo testado\n",
    "    '''\n",
    "    try:\n",
    "        if isinstance(y_prev, pd.DataFrame):\n",
    "            y_prev = y_prev['yhat'][-len(y_real):]\n",
    "        elif isinstance(y_prev, pd.Series) and y_prev.name == 'yhat':\n",
    "            y_prev = y_prev[-len(y_real):]\n",
    "    except:\n",
    "        return (print('Parâmetros fora do padrão!\\n'), help(metricas_profecias))\n",
    "    \n",
    "    metricas = {'MSE':metrics.mean_squared_error(y_real, y_prev),\n",
    "                'MAE':metrics.mean_absolute_error(y_real, y_prev),\n",
    "                'RMSE':np.sqrt(metrics.mean_squared_error(y_real, y_prev)),\n",
    "                'MAPE':metrics.mean_absolute_percentage_error(y_real, y_prev)}\n",
    "                #'R2':metrics.r2_score(y_teste, y_prev)}\n",
    "\n",
    "    if saida == 'dict':\n",
    "        return(metricas)\n",
    "    elif saida == 'print':\n",
    "        print(cores.BOLD + '-'*40)\n",
    "        print('          Métricas de Avaliação')\n",
    "        print(nm_modelo)\n",
    "        print('-'*40 + cores.END)\n",
    "        print(' • MSE : {:.5f}'.format(metricas['MSE']))\n",
    "        print(' • MAE : {:.5f}'.format(metricas['MAE']))\n",
    "        print(' • RMSE: {:.5f}'.format(metricas['RMSE']))\n",
    "        print(' • MAPE: {:.5f}'.format(metricas['MAPE']))\n",
    "       # print(' • R²  : {:.5f}\\n'.format(metricas['R2']))\n",
    "    else:\n",
    "        return(print('Parâmetros fora do padrão!\\n'), help(metricas_profecias))"
   ]
  },
  {
   "cell_type": "code",
   "execution_count": null,
   "metadata": {
    "jupyter": {
     "outputs_hidden": false,
     "source_hidden": false
    },
    "nteract": {
     "transient": {
      "deleting": false
     }
    }
   },
   "outputs": [],
   "source": [
    "def modelo_final(dados, periodos=12):\n",
    "    r\"\"\"Ajusta modelo prophet de serie temporal.\n",
    "\n",
    "        Define, ajusta e prevê modelo de serie temporal baseado na biblioteca prophet.\n",
    "        Modelo com a possibilidade de inclusão de variáveis regressoras. \n",
    "        \n",
    "    Parameters\n",
    "    ----------\n",
    "    dados: pd.DataFrame \n",
    "        Dataframe com variáveis exigidas para a criação do modelo prophet.\n",
    "        No dataframe deve conter, obrigatoriamente, coluna 'ds': datatime da série e \n",
    "        'y': variável alvo do modelo.\n",
    "        As variáveis regressoras, quando existire, devem estar presentes no mesmo dataframe.\n",
    "    periodos: int\n",
    "        Períodos, em meses, a serem previstos pelo modelo.\n",
    "        Por padrão, doi feinido 12 meses a serem previstos.\n",
    "    \n",
    "    Returns\n",
    "    -------\n",
    "    previsao: pd.DataFrame\n",
    "        Dataframe com os resultados do predict model adcionada das variáveis de input do modelo.\n",
    "    modelo: prophet model\n",
    "        Modelo prophet ajustado (fitted) \n",
    "    \"\"\"\n",
    "\n",
    "    regressores = dados.columns.to_list()[2:]       # os 2 primeiros são DataTime e o Y da serie temporal\n",
    "\n",
    "    lst_results = ['ds','yhat','yhat_lower', 'yhat_upper',\n",
    "                   'trend', 'trend_lower', 'trend_upper',\n",
    "                   'yearly', 'yearly_lower', 'yearly_upper']\n",
    "    \n",
    "    modelo = Prophet(seasonality_mode='multiplicative',\n",
    "                     yearly_seasonality=True, \n",
    "                     weekly_seasonality=False,\n",
    "                     daily_seasonality=False,\n",
    "                     changepoint_range=0.8,\n",
    "                     changepoint_prior_scale=0.05)\n",
    "\n",
    "    for i in range(len(regressores)):               # passeia por cada lista agregativa\n",
    "        modelo.add_regressor(regressores[i], standardize=False)\n",
    "                \n",
    "    modelo.fit(dados)\n",
    "\n",
    "    futuro = modelo.make_future_dataframe(periods=periodos, freq='MS') #MS início do mês \n",
    "    futuro = pd.merge(futuro, dados, on='ds', how='outer')\n",
    "    futuro = futuro.fillna(method='ffill')\n",
    "    \n",
    "    previsao = modelo.predict(futuro)\n",
    "    previsao = pd.merge(previsao[lst_results], dados, on='ds',how='outer') \n",
    "\n",
    "    return(previsao, modelo)"
   ]
  },
  {
   "cell_type": "code",
   "execution_count": null,
   "metadata": {
    "jupyter": {
     "outputs_hidden": false,
     "source_hidden": false
    },
    "nteract": {
     "transient": {
      "deleting": false
     }
    }
   },
   "outputs": [],
   "source": [
    "def process_modelos(dados, lista):\n",
    "    \"\"\"Processa o modelo e prepara os resultados para salvaguarda.\n",
    "\n",
    "        Auxilia no processamento em lote de todos os modelos definidos. \n",
    "        \n",
    "    Parâmetros\n",
    "    ----------\n",
    "    dados: pd.DataFrame\n",
    "        dataframe com as informações a serem previstas\n",
    "    lista: lista de strings \n",
    "        Lista com o nome das váriaveis escolhidas para o modelo    \n",
    "    \n",
    "    Retorno\n",
    "    -------\n",
    "    previsao: pd.DataFrame\n",
    "        Dataframe com os resultados do predict model adcionada das variáveis de input do modelo.\n",
    "        Nele a variável alvo do modelo \"y\" retoma o nome original do dataset, com o prefixo 'y_'\n",
    "        deixando clara que as demais informações 'yhat', 'trend', 'yearly' e seus intervalos de confiança\n",
    "        foram obtidos por meio do 'y_' e demais regressoras do dataset. \n",
    "    \"\"\"\n",
    "    data = dados[lista]\n",
    "    data.reset_index(drop=True,inplace=True)\n",
    "    #data.columns = data.columns.str.replace('data', 'ds')\n",
    "    data.columns = data.columns.str.replace(lista[1], 'y')\n",
    "    \n",
    "    previsao, modelo  = modelo_final(data)\n",
    "    previsao.insert(1, 'y_'+lista[1], previsao['y'])\n",
    "    previsao.drop('y',axis=1,inplace=True)\n",
    "\n",
    "    return(previsao)"
   ]
  },
  {
   "cell_type": "code",
   "execution_count": 7,
   "metadata": {
    "jupyter": {
     "outputs_hidden": false,
     "source_hidden": false
    },
    "nteract": {
     "transient": {
      "deleting": false
     }
    }
   },
   "outputs": [],
   "source": [
    "a4 = ('Funções de para os modelos Prophet:*'+\n",
    "        ' - create_metricas()\\n'+\n",
    "        ' - append_metricas(treino, teste, indice)\\n'+\n",
    "        ' - dividir_train_test(data, num_meses=12)\\n'+\n",
    "        ' - metricas_profecias(y_real, y_prev, saida=\"dict\", nm_modelo=\"\")\\n'+\n",
    "        ' - modelo_final(dados, periodos=12)\\n'+\n",
    "        ' - process_modelos(dados, lista)\\n'+\n",
    "        'carregadas com sucesso!\\n')"
   ]
  },
  {
   "cell_type": "code",
   "execution_count": null,
   "metadata": {
    "jupyter": {
     "outputs_hidden": false,
     "source_hidden": false
    },
    "nteract": {
     "transient": {
      "deleting": false
     }
    }
   },
   "outputs": [],
   "source": [
    "# multi_plot requires two variables:\n",
    "# - df is a dataframe with stocks as columns and rows as date of the stock price\n",
    "# - addAll is to have a dropdown button to display all stocks at once\n",
    "\n",
    "def multi_plot(df, titulo='Título', legenda='Legenda', addAll = True):\n",
    "    fig = go.Figure()\n",
    "\n",
    "    for column in df.columns.to_list():\n",
    "        fig.add_trace(\n",
    "            go.Scatter(\n",
    "                x = df.index,\n",
    "                y = df[column],\n",
    "                name = column\n",
    "            )\n",
    "        )\n",
    "\n",
    "    button_all = dict(label = 'All',\n",
    "                      method = 'update',\n",
    "                      args = [{'visible': df.columns.isin(df.columns),\n",
    "                               'title': 'All',\n",
    "                               'showlegend':True}])\n",
    "\n",
    "    def create_layout_button(column):\n",
    "        return dict(label = column,\n",
    "                    method = 'update',\n",
    "                    args = [{'visible': df.columns.isin([column]),\n",
    "                             'title': column,\n",
    "                             'showlegend': True}])\n",
    "\n",
    "    fig.add_annotation(\n",
    "            showarrow=False,\n",
    "            text='Gerado em ' + dt.now(tz_SP).strftime(\"%d %b %Y às %H:%M:%S\"),\n",
    "            font=dict(size=12),\n",
    "            align=\"right\",\n",
    "            x=1.0,\n",
    "            y=-0.35,\n",
    "            xref='paper',\n",
    "            yref='paper',\n",
    "            xanchor='right',\n",
    "            yanchor='bottom',)\n",
    "    \n",
    "    fig.update_xaxes(matches='x', rangeslider_visible=True, rangeslider_thickness = 0.05)\n",
    "    fig.update_xaxes(rangeslider= {'visible':True})\n",
    "\n",
    "    fig.update_layout(\n",
    "        template='plotly_white', # template [\"plotly\", \"plotly_white\", \"plotly_dark\", \"ggplot2\", \"seaborn\", \"simple_white\", \"none\"]\n",
    "        title = titulo,\n",
    "        legend_title = legenda,\n",
    "        updatemenus=[go.layout.Updatemenu(\n",
    "            active = 0,\n",
    "            buttons = ([button_all] * addAll) + list(df.columns.map(lambda column: create_layout_button(column)))\n",
    "            )\n",
    "        ])\n",
    "    \n",
    "    fig.show()"
   ]
  },
  {
   "cell_type": "markdown",
   "metadata": {
    "nteract": {
     "transient": {
      "deleting": false
     }
    }
   },
   "source": [
    "# Gráficos"
   ]
  },
  {
   "cell_type": "code",
   "execution_count": null,
   "metadata": {
    "jupyter": {
     "outputs_hidden": false,
     "source_hidden": false
    },
    "nteract": {
     "transient": {
      "deleting": false
     }
    }
   },
   "outputs": [],
   "source": [
    "a5 = ('Funções de apresentação gráfica:*'+\n",
    "        ' - multi_plot(df, titulo=\"Título\", legenda=\"Legenda\", addAll = True)\\n'+\n",
    "#        ' - process_modelos (dados, lista)\\n'+\n",
    "        'carregadas com sucesso!\\n')"
   ]
  },
  {
   "cell_type": "code",
   "execution_count": null,
   "metadata": {
    "jupyter": {
     "outputs_hidden": false,
     "source_hidden": false
    },
    "nteract": {
     "transient": {
      "deleting": false
     }
    }
   },
   "outputs": [],
   "source": [
    "for x in [a1,a2,a3,a4,a5]:\n",
    "    print(x.split('*')[0])\n",
    "    with alive_bar(100+len(x)*5, force_tty=True) as bar:  # declare your expected total    \n",
    "        for item in range(100+len(x)*5):        # <<-- your original loop\n",
    "            time.sleep(.001)\n",
    "            bar()                 # call `bar()` at the end\n",
    "    print(x.split('*')[1])                        # your actual processing here\n",
    "del(a1,a2,a3,a4,a5)"
   ]
  }
 ],
 "metadata": {
  "hide_input": false,
  "kernelspec": {
   "display_name": "Python 3 (ipykernel)",
   "language": "python",
   "name": "python3"
  },
  "language_info": {
   "codemirror_mode": {
    "name": "ipython",
    "version": 3
   },
   "file_extension": ".py",
   "mimetype": "text/x-python",
   "name": "python",
   "nbconvert_exporter": "python",
   "pygments_lexer": "ipython3",
   "version": "3.9.7"
  },
  "save_output": true
 },
 "nbformat": 4,
 "nbformat_minor": 2
}
